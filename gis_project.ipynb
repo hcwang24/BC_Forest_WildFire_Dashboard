{
 "cells": [
  {
   "cell_type": "markdown",
   "metadata": {},
   "source": [
    "# Analysis"
   ]
  },
  {
   "cell_type": "markdown",
   "metadata": {},
   "source": [
    "# 0. Loading necessary libraries. "
   ]
  },
  {
   "cell_type": "code",
   "execution_count": 1,
   "metadata": {},
   "outputs": [],
   "source": [
    "import rasterio\n",
    "import keplergl\n",
    "import numpy as np\n",
    "import osmnx as ox\n",
    "import pandas as pd\n",
    "import geopandas as gpd\n",
    "import matplotlib.pyplot as plt\n",
    "import folium\n",
    "import matplotlib\n",
    "import mapclassify\n",
    "import json\n",
    "import base64\n",
    "import IPython\n",
    "import plotly.express as px\n",
    "\n",
    "\n",
    "plt.style.use('ggplot')\n",
    "plt.rcParams.update({'font.size': 16, 'axes.labelweight': 'bold', 'figure.figsize': (6, 6), 'axes.edgecolor': '0.2'})"
   ]
  },
  {
   "cell_type": "markdown",
   "metadata": {},
   "source": [
    "# 1. BC Forest data"
   ]
  },
  {
   "cell_type": "code",
   "execution_count": 2,
   "metadata": {},
   "outputs": [
    {
     "data": {
      "text/html": [
       "<div>\n",
       "<style scoped>\n",
       "    .dataframe tbody tr th:only-of-type {\n",
       "        vertical-align: middle;\n",
       "    }\n",
       "\n",
       "    .dataframe tbody tr th {\n",
       "        vertical-align: top;\n",
       "    }\n",
       "\n",
       "    .dataframe thead th {\n",
       "        text-align: right;\n",
       "    }\n",
       "</style>\n",
       "<table border=\"1\" class=\"dataframe\">\n",
       "  <thead>\n",
       "    <tr style=\"text-align: right;\">\n",
       "      <th></th>\n",
       "      <th>FEATURE_ID</th>\n",
       "      <th>PRV_FRST_D</th>\n",
       "      <th>PRV_FRST_N</th>\n",
       "      <th>MP_BLCK_ID</th>\n",
       "      <th>DTA_SRC_CD</th>\n",
       "      <th>DT_SRC_CDN</th>\n",
       "      <th>CPTR_MTHDD</th>\n",
       "      <th>CPTR_MTHDN</th>\n",
       "      <th>ACCRCY_CD</th>\n",
       "      <th>EFF_DATE</th>\n",
       "      <th>...</th>\n",
       "      <th>COMMENTS</th>\n",
       "      <th>FEATURE_CD</th>\n",
       "      <th>WHO_UPDTD</th>\n",
       "      <th>WHEN_UPDTD</th>\n",
       "      <th>FC_SKEY</th>\n",
       "      <th>OBJ_V_SKEY</th>\n",
       "      <th>OBJECTID</th>\n",
       "      <th>AREA_SQM</th>\n",
       "      <th>FEAT_LEN</th>\n",
       "      <th>geometry</th>\n",
       "    </tr>\n",
       "  </thead>\n",
       "  <tbody>\n",
       "    <tr>\n",
       "      <th>0</th>\n",
       "      <td>2084</td>\n",
       "      <td>114</td>\n",
       "      <td>Kitimat</td>\n",
       "      <td>2</td>\n",
       "      <td>NaN</td>\n",
       "      <td>NaN</td>\n",
       "      <td>NaN</td>\n",
       "      <td>NaN</td>\n",
       "      <td>NaN</td>\n",
       "      <td>NaN</td>\n",
       "      <td>...</td>\n",
       "      <td>NaN</td>\n",
       "      <td>NaN</td>\n",
       "      <td>NaN</td>\n",
       "      <td>NaN</td>\n",
       "      <td>0.0</td>\n",
       "      <td>0.0</td>\n",
       "      <td>102809.0</td>\n",
       "      <td>1.823465e+06</td>\n",
       "      <td>7.279941e+03</td>\n",
       "      <td>POLYGON ((-128.48427 54.30898, -128.48444 54.3...</td>\n",
       "    </tr>\n",
       "    <tr>\n",
       "      <th>1</th>\n",
       "      <td>2085</td>\n",
       "      <td>84</td>\n",
       "      <td>Skeena</td>\n",
       "      <td>0</td>\n",
       "      <td>NaN</td>\n",
       "      <td>NaN</td>\n",
       "      <td>NaN</td>\n",
       "      <td>NaN</td>\n",
       "      <td>NaN</td>\n",
       "      <td>NaN</td>\n",
       "      <td>...</td>\n",
       "      <td>NaN</td>\n",
       "      <td>NaN</td>\n",
       "      <td>NaN</td>\n",
       "      <td>NaN</td>\n",
       "      <td>0.0</td>\n",
       "      <td>0.0</td>\n",
       "      <td>102810.0</td>\n",
       "      <td>4.656531e+09</td>\n",
       "      <td>1.207955e+06</td>\n",
       "      <td>MULTIPOLYGON (((-128.70612 54.63438, -128.6936...</td>\n",
       "    </tr>\n",
       "    <tr>\n",
       "      <th>2</th>\n",
       "      <td>2086</td>\n",
       "      <td>114</td>\n",
       "      <td>Kitimat</td>\n",
       "      <td>3</td>\n",
       "      <td>NaN</td>\n",
       "      <td>NaN</td>\n",
       "      <td>NaN</td>\n",
       "      <td>NaN</td>\n",
       "      <td>NaN</td>\n",
       "      <td>NaN</td>\n",
       "      <td>...</td>\n",
       "      <td>NaN</td>\n",
       "      <td>NaN</td>\n",
       "      <td>NaN</td>\n",
       "      <td>NaN</td>\n",
       "      <td>0.0</td>\n",
       "      <td>0.0</td>\n",
       "      <td>102811.0</td>\n",
       "      <td>7.808455e+06</td>\n",
       "      <td>1.645594e+04</td>\n",
       "      <td>MULTIPOLYGON (((-128.54663 54.35278, -128.5454...</td>\n",
       "    </tr>\n",
       "    <tr>\n",
       "      <th>3</th>\n",
       "      <td>2087</td>\n",
       "      <td>37</td>\n",
       "      <td>Bell-Irving</td>\n",
       "      <td>0</td>\n",
       "      <td>NaN</td>\n",
       "      <td>NaN</td>\n",
       "      <td>NaN</td>\n",
       "      <td>NaN</td>\n",
       "      <td>NaN</td>\n",
       "      <td>NaN</td>\n",
       "      <td>...</td>\n",
       "      <td>NaN</td>\n",
       "      <td>NaN</td>\n",
       "      <td>NaN</td>\n",
       "      <td>NaN</td>\n",
       "      <td>0.0</td>\n",
       "      <td>0.0</td>\n",
       "      <td>102812.0</td>\n",
       "      <td>1.070620e+10</td>\n",
       "      <td>9.848731e+05</td>\n",
       "      <td>POLYGON ((-130.31004 56.38185, -130.31003 56.3...</td>\n",
       "    </tr>\n",
       "    <tr>\n",
       "      <th>4</th>\n",
       "      <td>2088</td>\n",
       "      <td>112</td>\n",
       "      <td>Hecate</td>\n",
       "      <td>0</td>\n",
       "      <td>NaN</td>\n",
       "      <td>NaN</td>\n",
       "      <td>NaN</td>\n",
       "      <td>NaN</td>\n",
       "      <td>NaN</td>\n",
       "      <td>NaN</td>\n",
       "      <td>...</td>\n",
       "      <td>NaN</td>\n",
       "      <td>NaN</td>\n",
       "      <td>NaN</td>\n",
       "      <td>NaN</td>\n",
       "      <td>0.0</td>\n",
       "      <td>0.0</td>\n",
       "      <td>102813.0</td>\n",
       "      <td>6.832526e+08</td>\n",
       "      <td>2.100182e+05</td>\n",
       "      <td>POLYGON ((-130.00979 56.17126, -130.00966 56.1...</td>\n",
       "    </tr>\n",
       "  </tbody>\n",
       "</table>\n",
       "<p>5 rows × 21 columns</p>\n",
       "</div>"
      ],
      "text/plain": [
       "  FEATURE_ID PRV_FRST_D   PRV_FRST_N MP_BLCK_ID  DTA_SRC_CD  DT_SRC_CDN  \\\n",
       "0       2084        114      Kitimat          2         NaN         NaN   \n",
       "1       2085         84       Skeena          0         NaN         NaN   \n",
       "2       2086        114      Kitimat          3         NaN         NaN   \n",
       "3       2087         37  Bell-Irving          0         NaN         NaN   \n",
       "4       2088        112       Hecate          0         NaN         NaN   \n",
       "\n",
       "   CPTR_MTHDD  CPTR_MTHDN  ACCRCY_CD EFF_DATE  ... COMMENTS  FEATURE_CD  \\\n",
       "0         NaN         NaN        NaN      NaN  ...      NaN         NaN   \n",
       "1         NaN         NaN        NaN      NaN  ...      NaN         NaN   \n",
       "2         NaN         NaN        NaN      NaN  ...      NaN         NaN   \n",
       "3         NaN         NaN        NaN      NaN  ...      NaN         NaN   \n",
       "4         NaN         NaN        NaN      NaN  ...      NaN         NaN   \n",
       "\n",
       "   WHO_UPDTD  WHEN_UPDTD  FC_SKEY  OBJ_V_SKEY  OBJECTID      AREA_SQM  \\\n",
       "0        NaN         NaN      0.0         0.0  102809.0  1.823465e+06   \n",
       "1        NaN         NaN      0.0         0.0  102810.0  4.656531e+09   \n",
       "2        NaN         NaN      0.0         0.0  102811.0  7.808455e+06   \n",
       "3        NaN         NaN      0.0         0.0  102812.0  1.070620e+10   \n",
       "4        NaN         NaN      0.0         0.0  102813.0  6.832526e+08   \n",
       "\n",
       "       FEAT_LEN                                           geometry  \n",
       "0  7.279941e+03  POLYGON ((-128.48427 54.30898, -128.48444 54.3...  \n",
       "1  1.207955e+06  MULTIPOLYGON (((-128.70612 54.63438, -128.6936...  \n",
       "2  1.645594e+04  MULTIPOLYGON (((-128.54663 54.35278, -128.5454...  \n",
       "3  9.848731e+05  POLYGON ((-130.31004 56.38185, -130.31003 56.3...  \n",
       "4  2.100182e+05  POLYGON ((-130.00979 56.17126, -130.00966 56.1...  \n",
       "\n",
       "[5 rows x 21 columns]"
      ]
     },
     "execution_count": 2,
     "metadata": {},
     "output_type": "execute_result"
    }
   ],
   "source": [
    "# Loading date\n",
    "forest_data = gpd.read_file(\"data/FADM_PROV_FOREST\")\n",
    "forest_data = forest_data.to_crs(\"EPSG:4326\")    # I'm converting to a different coordinate reference system\n",
    "forest_data.head()"
   ]
  },
  {
   "cell_type": "code",
   "execution_count": 3,
   "metadata": {},
   "outputs": [
    {
     "name": "stdout",
     "output_type": "stream",
     "text": [
      "<class 'geopandas.geodataframe.GeoDataFrame'>\n",
      "RangeIndex: 296 entries, 0 to 295\n",
      "Data columns (total 21 columns):\n",
      " #   Column      Non-Null Count  Dtype   \n",
      "---  ------      --------------  -----   \n",
      " 0   FEATURE_ID  296 non-null    object  \n",
      " 1   PRV_FRST_D  296 non-null    object  \n",
      " 2   PRV_FRST_N  296 non-null    object  \n",
      " 3   MP_BLCK_ID  277 non-null    object  \n",
      " 4   DTA_SRC_CD  0 non-null      float64 \n",
      " 5   DT_SRC_CDN  0 non-null      float64 \n",
      " 6   CPTR_MTHDD  0 non-null      float64 \n",
      " 7   CPTR_MTHDN  0 non-null      float64 \n",
      " 8   ACCRCY_CD   0 non-null      float64 \n",
      " 9   EFF_DATE    14 non-null     object  \n",
      " 10  RETRMNT_DT  21 non-null     object  \n",
      " 11  COMMENTS    0 non-null      float64 \n",
      " 12  FEATURE_CD  0 non-null      float64 \n",
      " 13  WHO_UPDTD   0 non-null      float64 \n",
      " 14  WHEN_UPDTD  0 non-null      float64 \n",
      " 15  FC_SKEY     296 non-null    float64 \n",
      " 16  OBJ_V_SKEY  296 non-null    float64 \n",
      " 17  OBJECTID    296 non-null    float64 \n",
      " 18  AREA_SQM    296 non-null    float64 \n",
      " 19  FEAT_LEN    296 non-null    float64 \n",
      " 20  geometry    296 non-null    geometry\n",
      "dtypes: float64(14), geometry(1), object(6)\n",
      "memory usage: 48.7+ KB\n"
     ]
    }
   ],
   "source": [
    "forest_data.info()"
   ]
  },
  {
   "cell_type": "code",
   "execution_count": 4,
   "metadata": {},
   "outputs": [
    {
     "data": {
      "text/html": [
       "<div>\n",
       "<style scoped>\n",
       "    .dataframe tbody tr th:only-of-type {\n",
       "        vertical-align: middle;\n",
       "    }\n",
       "\n",
       "    .dataframe tbody tr th {\n",
       "        vertical-align: top;\n",
       "    }\n",
       "\n",
       "    .dataframe thead th {\n",
       "        text-align: right;\n",
       "    }\n",
       "</style>\n",
       "<table border=\"1\" class=\"dataframe\">\n",
       "  <thead>\n",
       "    <tr style=\"text-align: right;\">\n",
       "      <th></th>\n",
       "      <th>FEATURE_ID</th>\n",
       "      <th>PRV_FRST_D</th>\n",
       "      <th>Forest_Name</th>\n",
       "      <th>OBJECTID</th>\n",
       "      <th>Forest_Area</th>\n",
       "      <th>Forest_Length</th>\n",
       "      <th>geometry</th>\n",
       "    </tr>\n",
       "  </thead>\n",
       "  <tbody>\n",
       "    <tr>\n",
       "      <th>0</th>\n",
       "      <td>2084</td>\n",
       "      <td>114</td>\n",
       "      <td>Kitimat</td>\n",
       "      <td>102809.0</td>\n",
       "      <td>1.823465e+06</td>\n",
       "      <td>7.279941e+03</td>\n",
       "      <td>POLYGON ((-128.48427 54.30898, -128.48444 54.3...</td>\n",
       "    </tr>\n",
       "    <tr>\n",
       "      <th>1</th>\n",
       "      <td>2085</td>\n",
       "      <td>84</td>\n",
       "      <td>Skeena</td>\n",
       "      <td>102810.0</td>\n",
       "      <td>4.656531e+09</td>\n",
       "      <td>1.207955e+06</td>\n",
       "      <td>MULTIPOLYGON (((-128.70612 54.63438, -128.6936...</td>\n",
       "    </tr>\n",
       "    <tr>\n",
       "      <th>2</th>\n",
       "      <td>2086</td>\n",
       "      <td>114</td>\n",
       "      <td>Kitimat</td>\n",
       "      <td>102811.0</td>\n",
       "      <td>7.808455e+06</td>\n",
       "      <td>1.645594e+04</td>\n",
       "      <td>MULTIPOLYGON (((-128.54663 54.35278, -128.5454...</td>\n",
       "    </tr>\n",
       "    <tr>\n",
       "      <th>3</th>\n",
       "      <td>2087</td>\n",
       "      <td>37</td>\n",
       "      <td>Bell-Irving</td>\n",
       "      <td>102812.0</td>\n",
       "      <td>1.070620e+10</td>\n",
       "      <td>9.848731e+05</td>\n",
       "      <td>POLYGON ((-130.31004 56.38185, -130.31003 56.3...</td>\n",
       "    </tr>\n",
       "    <tr>\n",
       "      <th>4</th>\n",
       "      <td>2088</td>\n",
       "      <td>112</td>\n",
       "      <td>Hecate</td>\n",
       "      <td>102813.0</td>\n",
       "      <td>6.832526e+08</td>\n",
       "      <td>2.100182e+05</td>\n",
       "      <td>POLYGON ((-130.00979 56.17126, -130.00966 56.1...</td>\n",
       "    </tr>\n",
       "  </tbody>\n",
       "</table>\n",
       "</div>"
      ],
      "text/plain": [
       "  FEATURE_ID PRV_FRST_D  Forest_Name  OBJECTID   Forest_Area  Forest_Length  \\\n",
       "0       2084        114      Kitimat  102809.0  1.823465e+06   7.279941e+03   \n",
       "1       2085         84       Skeena  102810.0  4.656531e+09   1.207955e+06   \n",
       "2       2086        114      Kitimat  102811.0  7.808455e+06   1.645594e+04   \n",
       "3       2087         37  Bell-Irving  102812.0  1.070620e+10   9.848731e+05   \n",
       "4       2088        112       Hecate  102813.0  6.832526e+08   2.100182e+05   \n",
       "\n",
       "                                            geometry  \n",
       "0  POLYGON ((-128.48427 54.30898, -128.48444 54.3...  \n",
       "1  MULTIPOLYGON (((-128.70612 54.63438, -128.6936...  \n",
       "2  MULTIPOLYGON (((-128.54663 54.35278, -128.5454...  \n",
       "3  POLYGON ((-130.31004 56.38185, -130.31003 56.3...  \n",
       "4  POLYGON ((-130.00979 56.17126, -130.00966 56.1...  "
      ]
     },
     "execution_count": 4,
     "metadata": {},
     "output_type": "execute_result"
    }
   ],
   "source": [
    "# Drop columns with all NaN values\n",
    "forest_data_cleaned = forest_data.dropna(axis=1, how='all')\n",
    "\n",
    "# Drop the specified columns\n",
    "columns_to_drop = ['MP_BLCK_ID', 'EFF_DATE', 'RETRMNT_DT', 'FC_SKEY', 'OBJ_V_SKEY']\n",
    "forest_data_cleaned = forest_data_cleaned.drop(columns=columns_to_drop)\n",
    "\n",
    "# Rename the columns in forest_data_cleaned\n",
    "forest_data_cleaned = forest_data_cleaned.rename(columns={\n",
    "    'PRV_FRST_N': 'Forest_Name',\n",
    "    'AREA_SQM': 'Forest_Area',\n",
    "    'FEAT_LEN': 'Forest_Length'\n",
    "})\n",
    "\n",
    "forest_data_cleaned.head()"
   ]
  },
  {
   "cell_type": "code",
   "execution_count": 5,
   "metadata": {},
   "outputs": [
    {
     "name": "stdout",
     "output_type": "stream",
     "text": [
      "<class 'geopandas.geodataframe.GeoDataFrame'>\n",
      "RangeIndex: 296 entries, 0 to 295\n",
      "Data columns (total 7 columns):\n",
      " #   Column         Non-Null Count  Dtype   \n",
      "---  ------         --------------  -----   \n",
      " 0   FEATURE_ID     296 non-null    object  \n",
      " 1   PRV_FRST_D     296 non-null    object  \n",
      " 2   Forest_Name    296 non-null    object  \n",
      " 3   OBJECTID       296 non-null    float64 \n",
      " 4   Forest_Area    296 non-null    float64 \n",
      " 5   Forest_Length  296 non-null    float64 \n",
      " 6   geometry       296 non-null    geometry\n",
      "dtypes: float64(3), geometry(1), object(3)\n",
      "memory usage: 16.3+ KB\n"
     ]
    }
   ],
   "source": [
    "forest_data_cleaned.info()"
   ]
  },
  {
   "cell_type": "code",
   "execution_count": 6,
   "metadata": {},
   "outputs": [
    {
     "data": {
      "image/png": "[encoded data removed]",
      "text/plain": [
       "<Figure size 1000x800 with 1 Axes>"
      ]
     },
     "metadata": {},
     "output_type": "display_data"
    }
   ],
   "source": [
    "# Take a look at an example. The Kitimat Forest in BC. \n",
    "name = forest_data_cleaned.iloc[0][\"Forest_Name\"]\n",
    "forest_data.iloc[[0]].plot(edgecolor=\"0.2\", figsize=(10, 8), color = \"green\")\n",
    "plt.title(name);"
   ]
  },
  {
   "cell_type": "markdown",
   "metadata": {},
   "source": [
    "## 1.1 Basic Spatial Exploration"
   ]
  },
  {
   "cell_type": "code",
   "execution_count": 7,
   "metadata": {},
   "outputs": [
    {
     "data": {
      "image/png": "[encoded data removed]",
      "text/plain": [
       "<Figure size 1000x800 with 1 Axes>"
      ]
     },
     "metadata": {},
     "output_type": "display_data"
    }
   ],
   "source": [
    "# Take a look at the entire forest map.\n",
    "forest_data_cleaned.plot(edgecolor=\"0.2\", figsize=(10, 8), color =\"green\")\n",
    "plt.title(\"Forests in British Columbia\");"
   ]
  },
  {
   "cell_type": "markdown",
   "metadata": {},
   "source": [
    "## 1.2 Forest Area Analysis"
   ]
  },
  {
   "cell_type": "code",
   "execution_count": 8,
   "metadata": {},
   "outputs": [
    {
     "data": {
      "text/plain": [
       "Forest_Name\n",
       "Surrey           1.943675e+06\n",
       "Cowichan Lake    2.177505e+06\n",
       "Green Timbers    2.547819e+06\n",
       "Red Rock         2.246754e+07\n",
       "Blue Mountain    4.473812e+07\n",
       "                     ...     \n",
       "Skeena           3.072651e+10\n",
       "Hecate           3.101665e+10\n",
       "Taku             3.458893e+10\n",
       "Stikine          3.867857e+10\n",
       "Finlay           6.099606e+10\n",
       "Name: Forest_Area, Length: 139, dtype: float64"
      ]
     },
     "execution_count": 8,
     "metadata": {},
     "output_type": "execute_result"
    }
   ],
   "source": [
    "# Aggregate forest areas by region\n",
    "region_area = forest_data_cleaned.groupby('Forest_Name')['Forest_Area'].sum().sort_values(ascending=True)\n",
    "region_area"
   ]
  },
  {
   "cell_type": "code",
   "execution_count": 9,
   "metadata": {},
   "outputs": [
    {
     "data": {
      "application/vnd.plotly.v1+json": {
       "config": {
        "plotlyServerURL": "https://plot.ly"
       },
       "data": [
        {
         "alignmentgroup": "True",
         "hovertemplate": "Area (square meters)=%{x}<br>Forest Name=%{y}<extra></extra>",
         "legendgroup": "",
         "marker": {
          "color": "#636efa",
          "pattern": {
           "shape": ""
          }
         },
         "name": "",
         "offsetgroup": "",
         "orientation": "h",
         "showlegend": false,
         "textposition": "auto",
         "type": "bar",
         "x": [
          1943674.9002,
          2177505.1388,
          2547818.7371,
          22467535.8212,
          44738118.4732,
          73468336.0282,
          79065254.0217,
          101772960.6434,
          155369059.3431,
          162931462.27830002,
          176566011.4009,
          208960681.4032,
          211152229.11589998,
          221211077.106,
          274101877.2028,
          327977328.05490005,
          330506552.1975,
          361597860.6282,
          416278489.6413,
          439227130.4759,
          490576654.1285,
          512886394.9123,
          549210961.3588,
          644362426.0364,
          653259154.5589,
          690204765.2985,
          730246625.1157,
          793731646.3381,
          799751862.6121,
          817359009.0076,
          817752062.5995,
          858284515.7627001,
          881755914.4319,
          926280219.4930999,
          1132380033.697,
          1230901890.1585,
          1310375038.8041,
          1455394634.3015,
          1462616753.6759,
          1467339463.8457,
          1479551387.2371,
          1488122292.2719998,
          1582089110.2570002,
          1622241728.3993,
          1632047366.4689,
          1698727470.2084,
          1741479551.0498,
          1804946658.5107,
          1888127294.3634999,
          1960319323.0465,
          1974645668.2061,
          2085939438.6129,
          2105928032.8615,
          2219953733.8799,
          2327739306.5664997,
          2380978976.2528,
          2390442708.8584,
          2450002269.7342,
          2464475703.571,
          2502356691.0016,
          2576290889.4134,
          2580285421.5518,
          2608286644.9572,
          2808413573.8979,
          2831903246.3933,
          3245822742.7471,
          3284281212.1004,
          3367112207.1937,
          3372560968.7673,
          3587348219.0817,
          3641263475.7479,
          3693271303.6838,
          3724677710.0186,
          3755527794.8113,
          3755610573.8376,
          3847323307.3217998,
          3852986292.8646,
          3919456809.9843,
          3963367018.6889,
          4151665060.4304,
          4202906524.9615,
          4365809913.1329,
          4732741170.52,
          4779231053.1105995,
          4818273596.635,
          4886185822.5775,
          4887549888.7622,
          5017413977.3593,
          5095475839.7281,
          5150215926.9232,
          5188176876.4017,
          5425531439.8846,
          5541007876.4654,
          5564256088.2912,
          5664336743.7964,
          5801788569.4657,
          5883362879.2562,
          6018684175.0872,
          6033101986.1633,
          6033159162.0081,
          6241673303.4062,
          6458535002.1801,
          7269943148.999701,
          7462095596.6185,
          7496539398.0973,
          7607636392.3311,
          7667335149.2486,
          8597489364.4448,
          8756491862.2367,
          8824588463.3512,
          9004622638.9326,
          9397023891.51,
          9595599348.6518,
          10161939047.285599,
          10239346129.8294,
          10682114740.782,
          10706197406.8048,
          12315127225.8602,
          12702877514.9486,
          12834392839.2451,
          13453291227.7648,
          14740858617.9207,
          15507379488.9137,
          16491014431.6336,
          16891765713.774698,
          17049015230.3542,
          18692866647.0933,
          18746409260.9237,
          19827354446.291,
          21944939614.4095,
          22300174404.8694,
          26188323793.2046,
          29219233771.1847,
          30041210037.0552,
          30726511562.871704,
          31016649265.4993,
          34588930884.843,
          38678572739.7311,
          60996058391.63
         ],
         "xaxis": "x",
         "y": [
          "Surrey",
          "Cowichan Lake",
          "Green Timbers",
          "Red Rock",
          "Blue Mountain",
          "Hardwicke Island",
          "West Thurlow Island",
          "East Thurlow Island",
          "Sonora",
          "Fly hill",
          "Broughton",
          "Kitimat",
          "Redonda",
          "Martin Mountain",
          "Harbledown",
          "North Nicola",
          "Carmi",
          "Vancouver Island Plantations",
          "South Nehalliston",
          "Gilford",
          "Inkaneep",
          "Skagit",
          "Betty Wendle",
          "Barton Hill",
          "Georgia Strait",
          "Bowron",
          "Chilliwack",
          "West Okanagan",
          "West Slocan",
          "North Nehalliston",
          "Monte Hills",
          "Indian-Pitt",
          "Tranquille",
          "Salmon Arm",
          "Lower Arrow",
          "Nakusp",
          "Barriere",
          "Niskonlith",
          "Eagle",
          "Flathead",
          "Nehalliston",
          "Deadman",
          "Willow River",
          "Naver",
          "Big Valley",
          "Sayward",
          "Dragon",
          "North Kluskus",
          "Douglas",
          "Cottonwood",
          "Powell",
          "South Kluskus",
          "Slocan",
          "Carp",
          "Kamloops",
          "Edgewood",
          "Adams",
          "Raft",
          "Upper Arrow",
          "Yahk",
          "Purden",
          "Upper Klinaklini",
          "Seymour",
          "Westlake",
          "Shuswap",
          "Loughborough",
          "Sechelt",
          "Kingcome",
          "Toba",
          "Canoe",
          "Williams Lake",
          "Windermere",
          "Nicola",
          "Kettle",
          "Juan de Fuca",
          "Botanie",
          "Nimpkish",
          "Quatsino",
          "Burns Lake",
          "Spallumcheen",
          "North Thompson",
          "Okanagan",
          "Parsnip",
          "Cranbrook",
          "Longworth",
          "Arrowhead",
          "Granby",
          "Kwinageese",
          "Robson",
          "Upper Kootenay\t",
          "Creston",
          "Bute Inlet",
          "Monkman",
          "Morice",
          "Dewdney",
          "Clayoquot",
          "Kyuoquot",
          "Soo",
          "Big Bar",
          "Elk",
          "Stuart Lake",
          "Crooked River",
          "Lardeau",
          "Lac La Hache",
          "Ashnola",
          "Yalakom",
          "Kinbasket",
          "Quesnel Lake",
          "Nechako",
          "Moberly",
          "Narcosli",
          "Rivers Inlet",
          "Salmo",
          "Ootsa",
          "Sustut",
          "Smithers",
          "Bell-Irving",
          "Blueberry",
          "Takla",
          "Wapiti",
          "Fontas",
          "Similkameen",
          "Stum",
          "Graham",
          "Chilko",
          "Babine",
          "Sikanni",
          "Fort Nelson",
          "Kechika",
          "Moresby",
          "Kotcho",
          "Dean",
          "Dease",
          "Liard",
          "Skeena",
          "Hecate",
          "Taku",
          "Stikine",
          "Finlay"
         ],
         "yaxis": "y"
        }
       ],
       "layout": {
        "barmode": "relative",
        "height": 800,
        "legend": {
         "tracegroupgap": 0
        },
        "template": {
         "data": {
          "bar": [
           {
            "error_x": {
             "color": "#2a3f5f"
            },
            "error_y": {
             "color": "#2a3f5f"
            },
            "marker": {
             "line": {
              "color": "#E5ECF6",
              "width": 0.5
             },
             "pattern": {
              "fillmode": "overlay",
              "size": 10,
              "solidity": 0.2
             }
            },
            "type": "bar"
           }
          ],
          "barpolar": [
           {
            "marker": {
             "line": {
              "color": "#E5ECF6",
              "width": 0.5
             },
             "pattern": {
              "fillmode": "overlay",
              "size": 10,
              "solidity": 0.2
             }
            },
            "type": "barpolar"
           }
          ],
          "carpet": [
           {
            "aaxis": {
             "endlinecolor": "#2a3f5f",
             "gridcolor": "white",
             "linecolor": "white",
             "minorgridcolor": "white",
             "startlinecolor": "#2a3f5f"
            },
            "baxis": {
             "endlinecolor": "#2a3f5f",
             "gridcolor": "white",
             "linecolor": "white",
             "minorgridcolor": "white",
             "startlinecolor": "#2a3f5f"
            },
            "type": "carpet"
           }
          ],
          "choropleth": [
           {
            "colorbar": {
             "outlinewidth": 0,
             "ticks": ""
            },
            "type": "choropleth"
           }
          ],
          "contour": [
           {
            "colorbar": {
             "outlinewidth": 0,
             "ticks": ""
            },
            "colorscale": [
             [
              0,
              "#0d0887"
             ],
             [
              0.1111111111111111,
              "#46039f"
             ],
             [
              0.2222222222222222,
              "#7201a8"
             ],
             [
              0.3333333333333333,
              "#9c179e"
             ],
             [
              0.4444444444444444,
              "#bd3786"
             ],
             [
              0.5555555555555556,
              "#d8576b"
             ],
             [
              0.6666666666666666,
              "#ed7953"
             ],
             [
              0.7777777777777778,
              "#fb9f3a"
             ],
             [
              0.8888888888888888,
              "#fdca26"
             ],
             [
              1,
              "#f0f921"
             ]
            ],
            "type": "contour"
           }
          ],
          "contourcarpet": [
           {
            "colorbar": {
             "outlinewidth": 0,
             "ticks": ""
            },
            "type": "contourcarpet"
           }
          ],
          "heatmap": [
           {
            "colorbar": {
             "outlinewidth": 0,
             "ticks": ""
            },
            "colorscale": [
             [
              0,
              "#0d0887"
             ],
             [
              0.1111111111111111,
              "#46039f"
             ],
             [
              0.2222222222222222,
              "#7201a8"
             ],
             [
              0.3333333333333333,
              "#9c179e"
             ],
             [
              0.4444444444444444,
              "#bd3786"
             ],
             [
              0.5555555555555556,
              "#d8576b"
             ],
             [
              0.6666666666666666,
              "#ed7953"
             ],
             [
              0.7777777777777778,
              "#fb9f3a"
             ],
             [
              0.8888888888888888,
              "#fdca26"
             ],
             [
              1,
              "#f0f921"
             ]
            ],
            "type": "heatmap"
           }
          ],
          "heatmapgl": [
           {
            "colorbar": {
             "outlinewidth": 0,
             "ticks": ""
            },
            "colorscale": [
             [
              0,
              "#0d0887"
             ],
             [
              0.1111111111111111,
              "#46039f"
             ],
             [
              0.2222222222222222,
              "#7201a8"
             ],
             [
              0.3333333333333333,
              "#9c179e"
             ],
             [
              0.4444444444444444,
              "#bd3786"
             ],
             [
              0.5555555555555556,
              "#d8576b"
             ],
             [
              0.6666666666666666,
              "#ed7953"
             ],
             [
              0.7777777777777778,
              "#fb9f3a"
             ],
             [
              0.8888888888888888,
              "#fdca26"
             ],
             [
              1,
              "#f0f921"
             ]
            ],
            "type": "heatmapgl"
           }
          ],
          "histogram": [
           {
            "marker": {
             "pattern": {
              "fillmode": "overlay",
              "size": 10,
              "solidity": 0.2
             }
            },
            "type": "histogram"
           }
          ],
          "histogram2d": [
           {
            "colorbar": {
             "outlinewidth": 0,
             "ticks": ""
            },
            "colorscale": [
             [
              0,
              "#0d0887"
             ],
             [
              0.1111111111111111,
              "#46039f"
             ],
             [
              0.2222222222222222,
              "#7201a8"
             ],
             [
              0.3333333333333333,
              "#9c179e"
             ],
             [
              0.4444444444444444,
              "#bd3786"
             ],
             [
              0.5555555555555556,
              "#d8576b"
             ],
             [
              0.6666666666666666,
              "#ed7953"
             ],
             [
              0.7777777777777778,
              "#fb9f3a"
             ],
             [
              0.8888888888888888,
              "#fdca26"
             ],
             [
              1,
              "#f0f921"
             ]
            ],
            "type": "histogram2d"
           }
          ],
          "histogram2dcontour": [
           {
            "colorbar": {
             "outlinewidth": 0,
             "ticks": ""
            },
            "colorscale": [
             [
              0,
              "#0d0887"
             ],
             [
              0.1111111111111111,
              "#46039f"
             ],
             [
              0.2222222222222222,
              "#7201a8"
             ],
             [
              0.3333333333333333,
              "#9c179e"
             ],
             [
              0.4444444444444444,
              "#bd3786"
             ],
             [
              0.5555555555555556,
              "#d8576b"
             ],
             [
              0.6666666666666666,
              "#ed7953"
             ],
             [
              0.7777777777777778,
              "#fb9f3a"
             ],
             [
              0.8888888888888888,
              "#fdca26"
             ],
             [
              1,
              "#f0f921"
             ]
            ],
            "type": "histogram2dcontour"
           }
          ],
          "mesh3d": [
           {
            "colorbar": {
             "outlinewidth": 0,
             "ticks": ""
            },
            "type": "mesh3d"
           }
          ],
          "parcoords": [
           {
            "line": {
             "colorbar": {
              "outlinewidth": 0,
              "ticks": ""
             }
            },
            "type": "parcoords"
           }
          ],
          "pie": [
           {
            "automargin": true,
            "type": "pie"
           }
          ],
          "scatter": [
           {
            "fillpattern": {
             "fillmode": "overlay",
             "size": 10,
             "solidity": 0.2
            },
            "type": "scatter"
           }
          ],
          "scatter3d": [
           {
            "line": {
             "colorbar": {
              "outlinewidth": 0,
              "ticks": ""
             }
            },
            "marker": {
             "colorbar": {
              "outlinewidth": 0,
              "ticks": ""
             }
            },
            "type": "scatter3d"
           }
          ],
          "scattercarpet": [
           {
            "marker": {
             "colorbar": {
              "outlinewidth": 0,
              "ticks": ""
             }
            },
            "type": "scattercarpet"
           }
          ],
          "scattergeo": [
           {
            "marker": {
             "colorbar": {
              "outlinewidth": 0,
              "ticks": ""
             }
            },
            "type": "scattergeo"
           }
          ],
          "scattergl": [
           {
            "marker": {
             "colorbar": {
              "outlinewidth": 0,
              "ticks": ""
             }
            },
            "type": "scattergl"
           }
          ],
          "scattermapbox": [
           {
            "marker": {
             "colorbar": {
              "outlinewidth": 0,
              "ticks": ""
             }
            },
            "type": "scattermapbox"
           }
          ],
          "scatterpolar": [
           {
            "marker": {
             "colorbar": {
              "outlinewidth": 0,
              "ticks": ""
             }
            },
            "type": "scatterpolar"
           }
          ],
          "scatterpolargl": [
           {
            "marker": {
             "colorbar": {
              "outlinewidth": 0,
              "ticks": ""
             }
            },
            "type": "scatterpolargl"
           }
          ],
          "scatterternary": [
           {
            "marker": {
             "colorbar": {
              "outlinewidth": 0,
              "ticks": ""
             }
            },
            "type": "scatterternary"
           }
          ],
          "surface": [
           {
            "colorbar": {
             "outlinewidth": 0,
             "ticks": ""
            },
            "colorscale": [
             [
              0,
              "#0d0887"
             ],
             [
              0.1111111111111111,
              "#46039f"
             ],
             [
              0.2222222222222222,
              "#7201a8"
             ],
             [
              0.3333333333333333,
              "#9c179e"
             ],
             [
              0.4444444444444444,
              "#bd3786"
             ],
             [
              0.5555555555555556,
              "#d8576b"
             ],
             [
              0.6666666666666666,
              "#ed7953"
             ],
             [
              0.7777777777777778,
              "#fb9f3a"
             ],
             [
              0.8888888888888888,
              "#fdca26"
             ],
             [
              1,
              "#f0f921"
             ]
            ],
            "type": "surface"
           }
          ],
          "table": [
           {
            "cells": {
             "fill": {
              "color": "#EBF0F8"
             },
             "line": {
              "color": "white"
             }
            },
            "header": {
             "fill": {
              "color": "#C8D4E3"
             },
             "line": {
              "color": "white"
             }
            },
            "type": "table"
           }
          ]
         },
         "layout": {
          "annotationdefaults": {
           "arrowcolor": "#2a3f5f",
           "arrowhead": 0,
           "arrowwidth": 1
          },
          "autotypenumbers": "strict",
          "coloraxis": {
           "colorbar": {
            "outlinewidth": 0,
            "ticks": ""
           }
          },
          "colorscale": {
           "diverging": [
            [
             0,
             "#8e0152"
            ],
            [
             0.1,
             "#c51b7d"
            ],
            [
             0.2,
             "#de77ae"
            ],
            [
             0.3,
             "#f1b6da"
            ],
            [
             0.4,
             "#fde0ef"
            ],
            [
             0.5,
             "#f7f7f7"
            ],
            [
             0.6,
             "#e6f5d0"
            ],
            [
             0.7,
             "#b8e186"
            ],
            [
             0.8,
             "#7fbc41"
            ],
            [
             0.9,
             "#4d9221"
            ],
            [
             1,
             "#276419"
            ]
           ],
           "sequential": [
            [
             0,
             "#0d0887"
            ],
            [
             0.1111111111111111,
             "#46039f"
            ],
            [
             0.2222222222222222,
             "#7201a8"
            ],
            [
             0.3333333333333333,
             "#9c179e"
            ],
            [
             0.4444444444444444,
             "#bd3786"
            ],
            [
             0.5555555555555556,
             "#d8576b"
            ],
            [
             0.6666666666666666,
             "#ed7953"
            ],
            [
             0.7777777777777778,
             "#fb9f3a"
            ],
            [
             0.8888888888888888,
             "#fdca26"
            ],
            [
             1,
             "#f0f921"
            ]
           ],
           "sequentialminus": [
            [
             0,
             "#0d0887"
            ],
            [
             0.1111111111111111,
             "#46039f"
            ],
            [
             0.2222222222222222,
             "#7201a8"
            ],
            [
             0.3333333333333333,
             "#9c179e"
            ],
            [
             0.4444444444444444,
             "#bd3786"
            ],
            [
             0.5555555555555556,
             "#d8576b"
            ],
            [
             0.6666666666666666,
             "#ed7953"
            ],
            [
             0.7777777777777778,
             "#fb9f3a"
            ],
            [
             0.8888888888888888,
             "#fdca26"
            ],
            [
             1,
             "#f0f921"
            ]
           ]
          },
          "colorway": [
           "#636efa",
           "#EF553B",
           "#00cc96",
           "#ab63fa",
           "#FFA15A",
           "#19d3f3",
           "#FF6692",
           "#B6E880",
           "#FF97FF",
           "#FECB52"
          ],
          "font": {
           "color": "#2a3f5f"
          },
          "geo": {
           "bgcolor": "white",
           "lakecolor": "white",
           "landcolor": "#E5ECF6",
           "showlakes": true,
           "showland": true,
           "subunitcolor": "white"
          },
          "hoverlabel": {
           "align": "left"
          },
          "hovermode": "closest",
          "mapbox": {
           "style": "light"
          },
          "paper_bgcolor": "white",
          "plot_bgcolor": "#E5ECF6",
          "polar": {
           "angularaxis": {
            "gridcolor": "white",
            "linecolor": "white",
            "ticks": ""
           },
           "bgcolor": "#E5ECF6",
           "radialaxis": {
            "gridcolor": "white",
            "linecolor": "white",
            "ticks": ""
           }
          },
          "scene": {
           "xaxis": {
            "backgroundcolor": "#E5ECF6",
            "gridcolor": "white",
            "gridwidth": 2,
            "linecolor": "white",
            "showbackground": true,
            "ticks": "",
            "zerolinecolor": "white"
           },
           "yaxis": {
            "backgroundcolor": "#E5ECF6",
            "gridcolor": "white",
            "gridwidth": 2,
            "linecolor": "white",
            "showbackground": true,
            "ticks": "",
            "zerolinecolor": "white"
           },
           "zaxis": {
            "backgroundcolor": "#E5ECF6",
            "gridcolor": "white",
            "gridwidth": 2,
            "linecolor": "white",
            "showbackground": true,
            "ticks": "",
            "zerolinecolor": "white"
           }
          },
          "shapedefaults": {
           "line": {
            "color": "#2a3f5f"
           }
          },
          "ternary": {
           "aaxis": {
            "gridcolor": "white",
            "linecolor": "white",
            "ticks": ""
           },
           "baxis": {
            "gridcolor": "white",
            "linecolor": "white",
            "ticks": ""
           },
           "bgcolor": "#E5ECF6",
           "caxis": {
            "gridcolor": "white",
            "linecolor": "white",
            "ticks": ""
           }
          },
          "title": {
           "x": 0.05
          },
          "xaxis": {
           "automargin": true,
           "gridcolor": "white",
           "linecolor": "white",
           "ticks": "",
           "title": {
            "standoff": 15
           },
           "zerolinecolor": "white",
           "zerolinewidth": 2
          },
          "yaxis": {
           "automargin": true,
           "gridcolor": "white",
           "linecolor": "white",
           "ticks": "",
           "title": {
            "standoff": 15
           },
           "zerolinecolor": "white",
           "zerolinewidth": 2
          }
         }
        },
        "title": {
         "text": "Total Forest Area by Region"
        },
        "xaxis": {
         "anchor": "y",
         "domain": [
          0,
          1
         ],
         "title": {
          "text": "Area (square meters)"
         }
        },
        "yaxis": {
         "anchor": "x",
         "domain": [
          0,
          1
         ],
         "title": {
          "text": "Forest Name"
         }
        }
       }
      }
     },
     "metadata": {},
     "output_type": "display_data"
    }
   ],
   "source": [
    "# Aggregate forest areas by region\n",
    "region_area_df = region_area.reset_index()\n",
    "\n",
    "# Create the initial bar plot figure with reversed order\n",
    "bar_fig = px.bar(\n",
    "    region_area_df,\n",
    "    x='Forest_Area',\n",
    "    y='Forest_Name',\n",
    "    orientation='h',\n",
    "    title='Total Forest Area by Region',\n",
    "    labels={'Forest_Name': 'Forest Name', 'Forest_Area': 'Area (square meters)'}\n",
    ")\n",
    "bar_fig.update_layout(xaxis_title=\"Area (square meters)\", yaxis_title=\"Forest Name\", height=800)\n"
   ]
  },
  {
   "cell_type": "markdown",
   "metadata": {},
   "source": [
    "## 1.3 Create a base map for visualizing the polygons\n",
    "\n",
    "This takes a while as the polygons are very detailed. Please use the simplified dataframe below if you wish to speed up processing. "
   ]
  },
  {
   "cell_type": "code",
   "execution_count": 10,
   "metadata": {},
   "outputs": [],
   "source": [
    "# fig = px.choropleth_mapbox(\n",
    "#     forest_data_cleaned, \n",
    "#     geojson=forest_data_cleaned.geometry, \n",
    "#     locations=forest_data_cleaned.index,  # Use the index to bind the polygons\n",
    "#     hover_name=\"Forest_Name\",  # Show forest name on hover\n",
    "#     mapbox_style=\"open-street-map\",\n",
    "#     zoom=4,\n",
    "#     center={\"lat\": 53.7267, \"lon\": -127.6476},  # Center the map over British Columbia\n",
    "#     opacity=0.5,\n",
    "#     color_discrete_sequence=[\"green\"]  # Set a fixed color green for all polygons\n",
    "# )\n",
    "\n",
    "# # Update layout\n",
    "# fig.update_layout(\n",
    "#     mapbox_accesstoken='your-mapbox-access-token-here',  # Optional: Use your Mapbox token for better styles\n",
    "#     title=\"Forest Data Visualization in BC\",\n",
    "#     margin={\"r\":0,\"t\":0,\"l\":0,\"b\":0}\n",
    "# )\n",
    "\n",
    "# # Show the figure\n",
    "# fig.show()"
   ]
  },
  {
   "cell_type": "markdown",
   "metadata": {},
   "source": [
    "## 1.4 Simplify the Geo data for quickly loading and visualization. "
   ]
  },
  {
   "cell_type": "code",
   "execution_count": 11,
   "metadata": {},
   "outputs": [
    {
     "name": "stdout",
     "output_type": "stream",
     "text": [
      "Simplified data saved successfully.\n"
     ]
    }
   ],
   "source": [
    "import geopandas as gpd\n",
    "from shapely.geometry import Polygon\n",
    "\n",
    "# Function to simplify geometries\n",
    "def simplify_geometry(geom, tolerance=0.01):\n",
    "    if geom.is_empty:\n",
    "        return geom\n",
    "    return geom.simplify(tolerance)\n",
    "\n",
    "forest_data_simple = forest_data_cleaned\n",
    "\n",
    "# Simplify geometries\n",
    "forest_data_simple['geometry'] = forest_data_simple['geometry'].apply(lambda geom: simplify_geometry(geom, tolerance=0.01))\n",
    "\n",
    "# Save the simplified GeoDataFrame to a file\n",
    "forest_data_simple.to_file(\"data/FADM_PROV_FOREST_simplified.geojson\", driver=\"GeoJSON\")\n",
    "\n",
    "print(\"Simplified data saved successfully.\")"
   ]
  },
  {
   "cell_type": "code",
   "execution_count": 14,
   "metadata": {},
   "outputs": [],
   "source": [
    "\n",
    "simplified_fig = px.choropleth_mapbox(\n",
    "    forest_data_simple,\n",
    "    geojson=forest_data_simple.geometry.__geo_interface__,\n",
    "    locations=forest_data_simple.index,\n",
    "    hover_name=\"Forest_Name\",\n",
    "    mapbox_style=\"open-street-map\",\n",
    "    zoom=4.3,\n",
    "    center={\"lat\": 53.7267, \"lon\": -125.6476},\n",
    "    opacity=0.5,\n",
    "    color_discrete_sequence=[\"green\"] * len(forest_data_simple)\n",
    ")\n",
    "\n",
    "# # Update layout\n",
    "# simplified_fig.update_layout(\n",
    "#     mapbox_accesstoken='your-mapbox-access-token-here',  # Optional: Use your Mapbox token for better styles\n",
    "#     title=\"Forest Data Visualization in BC\",\n",
    "#     margin={\"r\":0,\"t\":0,\"l\":0,\"b\":0}\n",
    "# )\n",
    "\n",
    "# Show the figure\n",
    "# simplified_fig.show()"
   ]
  },
  {
   "cell_type": "markdown",
   "metadata": {},
   "source": [
    "# 2. The 2024 BC wildfire data"
   ]
  },
  {
   "cell_type": "code",
   "execution_count": 13,
   "metadata": {},
   "outputs": [
    {
     "data": {
      "text/html": [
       "<div>\n",
       "<style scoped>\n",
       "    .dataframe tbody tr th:only-of-type {\n",
       "        vertical-align: middle;\n",
       "    }\n",
       "\n",
       "    .dataframe tbody tr th {\n",
       "        vertical-align: top;\n",
       "    }\n",
       "\n",
       "    .dataframe thead th {\n",
       "        text-align: right;\n",
       "    }\n",
       "</style>\n",
       "<table border=\"1\" class=\"dataframe\">\n",
       "  <thead>\n",
       "    <tr style=\"text-align: right;\">\n",
       "      <th></th>\n",
       "      <th>FIRE_NO</th>\n",
       "      <th>FIRE_YEAR</th>\n",
       "      <th>RSPNS_TYPC</th>\n",
       "      <th>IGN_DATE</th>\n",
       "      <th>FR_T_DTE</th>\n",
       "      <th>FIRESTATUS</th>\n",
       "      <th>FIRE_CAUSE</th>\n",
       "      <th>FIRE_CENTR</th>\n",
       "      <th>ZONE</th>\n",
       "      <th>FIRE_ID</th>\n",
       "      <th>...</th>\n",
       "      <th>LATITUDE</th>\n",
       "      <th>LONGITUDE</th>\n",
       "      <th>SIZE_HA</th>\n",
       "      <th>FIRE_URL</th>\n",
       "      <th>FR_F_NT_ND</th>\n",
       "      <th>WS_FR_F_ND</th>\n",
       "      <th>FCODE</th>\n",
       "      <th>SHAPE</th>\n",
       "      <th>OBJECTID</th>\n",
       "      <th>geometry</th>\n",
       "    </tr>\n",
       "  </thead>\n",
       "  <tbody>\n",
       "    <tr>\n",
       "      <th>0</th>\n",
       "      <td>C41494</td>\n",
       "      <td>2024</td>\n",
       "      <td>Full</td>\n",
       "      <td>20240722192118</td>\n",
       "      <td>20240723195709</td>\n",
       "      <td>Out</td>\n",
       "      <td>Lightning</td>\n",
       "      <td>7</td>\n",
       "      <td>4</td>\n",
       "      <td>1494</td>\n",
       "      <td>...</td>\n",
       "      <td>51.5341</td>\n",
       "      <td>-121.3162</td>\n",
       "      <td>0.009</td>\n",
       "      <td>https://wildfiresituation.nrs.gov.bc.ca/incide...</td>\n",
       "      <td>N</td>\n",
       "      <td>N</td>\n",
       "      <td>JA70003000</td>\n",
       "      <td>NaN</td>\n",
       "      <td>9409768.0</td>\n",
       "      <td>POINT (-121.31618 51.53405)</td>\n",
       "    </tr>\n",
       "    <tr>\n",
       "      <th>1</th>\n",
       "      <td>N71052</td>\n",
       "      <td>2024</td>\n",
       "      <td>Full</td>\n",
       "      <td>20240717190017</td>\n",
       "      <td>20240722162310</td>\n",
       "      <td>Out</td>\n",
       "      <td>Lightning</td>\n",
       "      <td>6</td>\n",
       "      <td>7</td>\n",
       "      <td>1052</td>\n",
       "      <td>...</td>\n",
       "      <td>49.4354</td>\n",
       "      <td>-117.3562</td>\n",
       "      <td>0.300</td>\n",
       "      <td>https://wildfiresituation.nrs.gov.bc.ca/incide...</td>\n",
       "      <td>N</td>\n",
       "      <td>N</td>\n",
       "      <td>JA70003000</td>\n",
       "      <td>NaN</td>\n",
       "      <td>9409769.0</td>\n",
       "      <td>POINT (-117.35617 49.43542)</td>\n",
       "    </tr>\n",
       "    <tr>\n",
       "      <th>2</th>\n",
       "      <td>G11274</td>\n",
       "      <td>2024</td>\n",
       "      <td>Full</td>\n",
       "      <td>20240719160000</td>\n",
       "      <td>20240720130429</td>\n",
       "      <td>Out</td>\n",
       "      <td>Lightning</td>\n",
       "      <td>4</td>\n",
       "      <td>1</td>\n",
       "      <td>1274</td>\n",
       "      <td>...</td>\n",
       "      <td>53.7878</td>\n",
       "      <td>-123.3749</td>\n",
       "      <td>0.009</td>\n",
       "      <td>https://wildfiresituation.nrs.gov.bc.ca/incide...</td>\n",
       "      <td>N</td>\n",
       "      <td>N</td>\n",
       "      <td>JA70003000</td>\n",
       "      <td>NaN</td>\n",
       "      <td>9409770.0</td>\n",
       "      <td>POINT (-123.37487 53.78777)</td>\n",
       "    </tr>\n",
       "    <tr>\n",
       "      <th>3</th>\n",
       "      <td>V32102</td>\n",
       "      <td>2024</td>\n",
       "      <td>Full</td>\n",
       "      <td>20240811162738</td>\n",
       "      <td>20240815101700</td>\n",
       "      <td>Out</td>\n",
       "      <td>Person</td>\n",
       "      <td>2</td>\n",
       "      <td>3</td>\n",
       "      <td>2102</td>\n",
       "      <td>...</td>\n",
       "      <td>49.7852</td>\n",
       "      <td>-123.2513</td>\n",
       "      <td>0.200</td>\n",
       "      <td>https://wildfiresituation.nrs.gov.bc.ca/incide...</td>\n",
       "      <td>N</td>\n",
       "      <td>N</td>\n",
       "      <td>JA70003000</td>\n",
       "      <td>NaN</td>\n",
       "      <td>9409771.0</td>\n",
       "      <td>POINT (-123.25127 49.78520)</td>\n",
       "    </tr>\n",
       "    <tr>\n",
       "      <th>4</th>\n",
       "      <td>V10959</td>\n",
       "      <td>2024</td>\n",
       "      <td>Full</td>\n",
       "      <td>20240715050013</td>\n",
       "      <td>20240718131951</td>\n",
       "      <td>Out</td>\n",
       "      <td>Person</td>\n",
       "      <td>2</td>\n",
       "      <td>1</td>\n",
       "      <td>959</td>\n",
       "      <td>...</td>\n",
       "      <td>49.2762</td>\n",
       "      <td>-121.6708</td>\n",
       "      <td>1.000</td>\n",
       "      <td>https://wildfiresituation.nrs.gov.bc.ca/incide...</td>\n",
       "      <td>N</td>\n",
       "      <td>N</td>\n",
       "      <td>JA70003000</td>\n",
       "      <td>NaN</td>\n",
       "      <td>9409772.0</td>\n",
       "      <td>POINT (-121.67079 49.27619)</td>\n",
       "    </tr>\n",
       "  </tbody>\n",
       "</table>\n",
       "<p>5 rows × 23 columns</p>\n",
       "</div>"
      ],
      "text/plain": [
       "  FIRE_NO  FIRE_YEAR RSPNS_TYPC        IGN_DATE        FR_T_DTE FIRESTATUS  \\\n",
       "0  C41494       2024       Full  20240722192118  20240723195709        Out   \n",
       "1  N71052       2024       Full  20240717190017  20240722162310        Out   \n",
       "2  G11274       2024       Full  20240719160000  20240720130429        Out   \n",
       "3  V32102       2024       Full  20240811162738  20240815101700        Out   \n",
       "4  V10959       2024       Full  20240715050013  20240718131951        Out   \n",
       "\n",
       "  FIRE_CAUSE  FIRE_CENTR  ZONE  FIRE_ID  ... LATITUDE LONGITUDE SIZE_HA  \\\n",
       "0  Lightning           7     4     1494  ...  51.5341 -121.3162   0.009   \n",
       "1  Lightning           6     7     1052  ...  49.4354 -117.3562   0.300   \n",
       "2  Lightning           4     1     1274  ...  53.7878 -123.3749   0.009   \n",
       "3     Person           2     3     2102  ...  49.7852 -123.2513   0.200   \n",
       "4     Person           2     1      959  ...  49.2762 -121.6708   1.000   \n",
       "\n",
       "                                            FIRE_URL  FR_F_NT_ND  WS_FR_F_ND  \\\n",
       "0  https://wildfiresituation.nrs.gov.bc.ca/incide...           N           N   \n",
       "1  https://wildfiresituation.nrs.gov.bc.ca/incide...           N           N   \n",
       "2  https://wildfiresituation.nrs.gov.bc.ca/incide...           N           N   \n",
       "3  https://wildfiresituation.nrs.gov.bc.ca/incide...           N           N   \n",
       "4  https://wildfiresituation.nrs.gov.bc.ca/incide...           N           N   \n",
       "\n",
       "        FCODE SHAPE   OBJECTID                     geometry  \n",
       "0  JA70003000   NaN  9409768.0  POINT (-121.31618 51.53405)  \n",
       "1  JA70003000   NaN  9409769.0  POINT (-117.35617 49.43542)  \n",
       "2  JA70003000   NaN  9409770.0  POINT (-123.37487 53.78777)  \n",
       "3  JA70003000   NaN  9409771.0  POINT (-123.25127 49.78520)  \n",
       "4  JA70003000   NaN  9409772.0  POINT (-121.67079 49.27619)  \n",
       "\n",
       "[5 rows x 23 columns]"
      ]
     },
     "execution_count": 13,
     "metadata": {},
     "output_type": "execute_result"
    }
   ],
   "source": [
    "# Loading date\n",
    "wildfire_data = gpd.read_file(\"data/PROT_CURRENT_FIRE_PNTS_SP\")\n",
    "wildfire_data = wildfire_data.to_crs(\"EPSG:4326\")\n",
    "wildfire_data.head()"
   ]
  },
  {
   "cell_type": "code",
   "execution_count": 14,
   "metadata": {},
   "outputs": [
    {
     "name": "stdout",
     "output_type": "stream",
     "text": [
      "<class 'geopandas.geodataframe.GeoDataFrame'>\n",
      "RangeIndex: 1600 entries, 0 to 1599\n",
      "Data columns (total 23 columns):\n",
      " #   Column      Non-Null Count  Dtype   \n",
      "---  ------      --------------  -----   \n",
      " 0   FIRE_NO     1600 non-null   object  \n",
      " 1   FIRE_YEAR   1600 non-null   int64   \n",
      " 2   RSPNS_TYPC  1491 non-null   object  \n",
      " 3   IGN_DATE    1600 non-null   object  \n",
      " 4   FR_T_DTE    1380 non-null   object  \n",
      " 5   FIRESTATUS  1600 non-null   object  \n",
      " 6   FIRE_CAUSE  1600 non-null   object  \n",
      " 7   FIRE_CENTR  1600 non-null   int64   \n",
      " 8   ZONE        1600 non-null   int64   \n",
      " 9   FIRE_ID     1600 non-null   int64   \n",
      " 10  FIRE_TYPE   1600 non-null   object  \n",
      " 11  INCDNT_NM   1559 non-null   object  \n",
      " 12  GEO_DESC    1598 non-null   object  \n",
      " 13  LATITUDE    1600 non-null   float64 \n",
      " 14  LONGITUDE   1600 non-null   float64 \n",
      " 15  SIZE_HA     1600 non-null   float64 \n",
      " 16  FIRE_URL    1600 non-null   object  \n",
      " 17  FR_F_NT_ND  1600 non-null   object  \n",
      " 18  WS_FR_F_ND  1600 non-null   object  \n",
      " 19  FCODE       1600 non-null   object  \n",
      " 20  SHAPE       0 non-null      float64 \n",
      " 21  OBJECTID    1600 non-null   float64 \n",
      " 22  geometry    1600 non-null   geometry\n",
      "dtypes: float64(5), geometry(1), int64(4), object(13)\n",
      "memory usage: 287.6+ KB\n"
     ]
    }
   ],
   "source": [
    "wildfire_data.info()"
   ]
  },
  {
   "cell_type": "code",
   "execution_count": 15,
   "metadata": {},
   "outputs": [
    {
     "data": {
      "text/html": [
       "<div>\n",
       "<style scoped>\n",
       "    .dataframe tbody tr th:only-of-type {\n",
       "        vertical-align: middle;\n",
       "    }\n",
       "\n",
       "    .dataframe tbody tr th {\n",
       "        vertical-align: top;\n",
       "    }\n",
       "\n",
       "    .dataframe thead th {\n",
       "        text-align: right;\n",
       "    }\n",
       "</style>\n",
       "<table border=\"1\" class=\"dataframe\">\n",
       "  <thead>\n",
       "    <tr style=\"text-align: right;\">\n",
       "      <th></th>\n",
       "      <th>FIRE_NO</th>\n",
       "      <th>FIRE_YEAR</th>\n",
       "      <th>RSPNS_TYPC</th>\n",
       "      <th>IGN_DATE</th>\n",
       "      <th>FR_T_DTE</th>\n",
       "      <th>FIRESTATUS</th>\n",
       "      <th>FIRE_CAUSE</th>\n",
       "      <th>GEO_DESC</th>\n",
       "      <th>LATITUDE</th>\n",
       "      <th>LONGITUDE</th>\n",
       "      <th>SIZE_HA</th>\n",
       "      <th>FIRE_URL</th>\n",
       "      <th>geometry</th>\n",
       "    </tr>\n",
       "  </thead>\n",
       "  <tbody>\n",
       "    <tr>\n",
       "      <th>0</th>\n",
       "      <td>C41494</td>\n",
       "      <td>2024</td>\n",
       "      <td>Full</td>\n",
       "      <td>20240722192118</td>\n",
       "      <td>20240723195709</td>\n",
       "      <td>Out</td>\n",
       "      <td>Lightning</td>\n",
       "      <td>E of Keith Lake</td>\n",
       "      <td>51.5341</td>\n",
       "      <td>-121.3162</td>\n",
       "      <td>0.009</td>\n",
       "      <td>https://wildfiresituation.nrs.gov.bc.ca/incide...</td>\n",
       "      <td>POINT (-121.31618 51.53405)</td>\n",
       "    </tr>\n",
       "    <tr>\n",
       "      <th>1</th>\n",
       "      <td>N71052</td>\n",
       "      <td>2024</td>\n",
       "      <td>Full</td>\n",
       "      <td>20240717190017</td>\n",
       "      <td>20240722162310</td>\n",
       "      <td>Out</td>\n",
       "      <td>Lightning</td>\n",
       "      <td>Upper Sandy Creek</td>\n",
       "      <td>49.4354</td>\n",
       "      <td>-117.3562</td>\n",
       "      <td>0.300</td>\n",
       "      <td>https://wildfiresituation.nrs.gov.bc.ca/incide...</td>\n",
       "      <td>POINT (-117.35617 49.43542)</td>\n",
       "    </tr>\n",
       "    <tr>\n",
       "      <th>2</th>\n",
       "      <td>G11274</td>\n",
       "      <td>2024</td>\n",
       "      <td>Full</td>\n",
       "      <td>20240719160000</td>\n",
       "      <td>20240720130429</td>\n",
       "      <td>Out</td>\n",
       "      <td>Lightning</td>\n",
       "      <td>Norman Lake</td>\n",
       "      <td>53.7878</td>\n",
       "      <td>-123.3749</td>\n",
       "      <td>0.009</td>\n",
       "      <td>https://wildfiresituation.nrs.gov.bc.ca/incide...</td>\n",
       "      <td>POINT (-123.37487 53.78777)</td>\n",
       "    </tr>\n",
       "    <tr>\n",
       "      <th>3</th>\n",
       "      <td>V32102</td>\n",
       "      <td>2024</td>\n",
       "      <td>Full</td>\n",
       "      <td>20240811162738</td>\n",
       "      <td>20240815101700</td>\n",
       "      <td>Out</td>\n",
       "      <td>Person</td>\n",
       "      <td>Lovely Water Lake</td>\n",
       "      <td>49.7852</td>\n",
       "      <td>-123.2513</td>\n",
       "      <td>0.200</td>\n",
       "      <td>https://wildfiresituation.nrs.gov.bc.ca/incide...</td>\n",
       "      <td>POINT (-123.25127 49.78520)</td>\n",
       "    </tr>\n",
       "    <tr>\n",
       "      <th>4</th>\n",
       "      <td>V10959</td>\n",
       "      <td>2024</td>\n",
       "      <td>Full</td>\n",
       "      <td>20240715050013</td>\n",
       "      <td>20240718131951</td>\n",
       "      <td>Out</td>\n",
       "      <td>Person</td>\n",
       "      <td>NW of Wahleach Lake</td>\n",
       "      <td>49.2762</td>\n",
       "      <td>-121.6708</td>\n",
       "      <td>1.000</td>\n",
       "      <td>https://wildfiresituation.nrs.gov.bc.ca/incide...</td>\n",
       "      <td>POINT (-121.67079 49.27619)</td>\n",
       "    </tr>\n",
       "  </tbody>\n",
       "</table>\n",
       "</div>"
      ],
      "text/plain": [
       "  FIRE_NO  FIRE_YEAR RSPNS_TYPC        IGN_DATE        FR_T_DTE FIRESTATUS  \\\n",
       "0  C41494       2024       Full  20240722192118  20240723195709        Out   \n",
       "1  N71052       2024       Full  20240717190017  20240722162310        Out   \n",
       "2  G11274       2024       Full  20240719160000  20240720130429        Out   \n",
       "3  V32102       2024       Full  20240811162738  20240815101700        Out   \n",
       "4  V10959       2024       Full  20240715050013  20240718131951        Out   \n",
       "\n",
       "  FIRE_CAUSE             GEO_DESC  LATITUDE  LONGITUDE  SIZE_HA  \\\n",
       "0  Lightning      E of Keith Lake   51.5341  -121.3162    0.009   \n",
       "1  Lightning    Upper Sandy Creek   49.4354  -117.3562    0.300   \n",
       "2  Lightning          Norman Lake   53.7878  -123.3749    0.009   \n",
       "3     Person    Lovely Water Lake   49.7852  -123.2513    0.200   \n",
       "4     Person  NW of Wahleach Lake   49.2762  -121.6708    1.000   \n",
       "\n",
       "                                            FIRE_URL  \\\n",
       "0  https://wildfiresituation.nrs.gov.bc.ca/incide...   \n",
       "1  https://wildfiresituation.nrs.gov.bc.ca/incide...   \n",
       "2  https://wildfiresituation.nrs.gov.bc.ca/incide...   \n",
       "3  https://wildfiresituation.nrs.gov.bc.ca/incide...   \n",
       "4  https://wildfiresituation.nrs.gov.bc.ca/incide...   \n",
       "\n",
       "                      geometry  \n",
       "0  POINT (-121.31618 51.53405)  \n",
       "1  POINT (-117.35617 49.43542)  \n",
       "2  POINT (-123.37487 53.78777)  \n",
       "3  POINT (-123.25127 49.78520)  \n",
       "4  POINT (-121.67079 49.27619)  "
      ]
     },
     "execution_count": 15,
     "metadata": {},
     "output_type": "execute_result"
    }
   ],
   "source": [
    "# Drop columns with all NaN values\n",
    "wildfire_data_cleaned = wildfire_data.dropna(axis=1, how='all')\n",
    "\n",
    "# Drop the specified columns\n",
    "columns_to_drop_wf = ['FIRE_CENTR', 'ZONE','FIRE_ID', 'FIRE_TYPE','INCDNT_NM', 'FR_F_NT_ND', 'WS_FR_F_ND', 'FCODE', 'OBJECTID']\n",
    "wildfire_data_cleaned = wildfire_data_cleaned.drop(columns=columns_to_drop_wf)\n",
    "\n",
    "wildfire_data_cleaned.head()"
   ]
  },
  {
   "cell_type": "code",
   "execution_count": 16,
   "metadata": {},
   "outputs": [
    {
     "data": {
      "image/png": "[encoded data removed]",
      "text/plain": [
       "<Figure size 600x600 with 1 Axes>"
      ]
     },
     "metadata": {},
     "output_type": "display_data"
    }
   ],
   "source": [
    "# Wildfires by year\n",
    "wildfires_by_year = wildfire_data_cleaned['FIRE_YEAR'].value_counts().sort_index()\n",
    "wildfires_by_year.plot(kind='bar', title='Number of Wildfires by Year')\n",
    "plt.ylabel('Number of Wildfires')\n",
    "plt.show()"
   ]
  },
  {
   "cell_type": "code",
   "execution_count": 17,
   "metadata": {},
   "outputs": [
    {
     "data": {
      "image/png": "[encoded data removed]",
      "text/plain": [
       "<Figure size 600x600 with 1 Axes>"
      ]
     },
     "metadata": {},
     "output_type": "display_data"
    }
   ],
   "source": [
    "# Wildfires by cause\n",
    "wildfires_by_cause = wildfire_data_cleaned['FIRE_CAUSE'].value_counts()\n",
    "wildfires_by_cause.plot(kind='bar', title='Number of Wildfires by Cause')\n",
    "plt.ylabel('Number of Wildfires')\n",
    "plt.show()"
   ]
  },
  {
   "cell_type": "code",
   "execution_count": 18,
   "metadata": {},
   "outputs": [
    {
     "data": {
      "image/png": "[encoded data removed]",
      "text/plain": [
       "<Figure size 1000x800 with 1 Axes>"
      ]
     },
     "metadata": {},
     "output_type": "display_data"
    }
   ],
   "source": [
    "# Take a look at the entire forest map.\n",
    "wildfire_data_cleaned.plot(edgecolor=\"0.2\", figsize=(10, 8), color =\"green\")\n",
    "plt.title(\"Wildfires in British Columbia in 2023 and 2024\");"
   ]
  },
  {
   "cell_type": "code",
   "execution_count": 21,
   "metadata": {},
   "outputs": [
    {
     "data": {
      "application/vnd.plotly.v1+json": {
       "config": {
        "plotlyServerURL": "https://plot.ly"
       },
       "data": [
        {
         "customdata": [
          [
           0.009,
           "Out"
          ],
          [
           0.3,
           "Out"
          ],
          [
           0.009,
           "Out"
          ],
          [
           0.2,
           "Out"
          ],
          [
           1,
           "Out"
          ],
          [
           0.009,
           "Out"
          ],
          [
           0.04,
           "Out"
          ],
          [
           0.9,
           "Out"
          ],
          [
           0.009,
           "Out"
          ],
          [
           0.6,
           "Out"
          ],
          [
           0.009,
           "Out"
          ],
          [
           1.7,
           "Out"
          ],
          [
           0.5,
           "Out"
          ],
          [
           0.1,
           "Out"
          ],
          [
           4.37,
           "Out"
          ],
          [
           163.5,
           "Out"
          ],
          [
           0.01,
           "Out"
          ],
          [
           2.08,
           "Out"
          ],
          [
           0.009,
           "Out"
          ],
          [
           0.4,
           "Out"
          ],
          [
           3,
           "Out"
          ],
          [
           0.009,
           "Out"
          ],
          [
           3.3,
           "Out"
          ],
          [
           0.05,
           "Out"
          ],
          [
           0.21,
           "Out"
          ],
          [
           0.009,
           "Out"
          ],
          [
           1,
           "Out"
          ],
          [
           0.55,
           "Out"
          ],
          [
           0.009,
           "Out"
          ],
          [
           0.009,
           "Out"
          ],
          [
           0.009,
           "Out"
          ],
          [
           0.99,
           "Out"
          ],
          [
           0.009,
           "Out"
          ],
          [
           0.2,
           "Out"
          ],
          [
           1.8,
           "Out"
          ],
          [
           0.01,
           "Out"
          ],
          [
           0.009,
           "Out"
          ],
          [
           1.4,
           "Out"
          ],
          [
           0.009,
           "Out"
          ],
          [
           0.009,
           "Out"
          ],
          [
           0.02,
           "Out"
          ],
          [
           0.09,
           "Out"
          ],
          [
           0.009,
           "Out"
          ],
          [
           0,
           "Out"
          ],
          [
           3,
           "Out"
          ],
          [
           0.015,
           "Out"
          ],
          [
           0.4,
           "Out"
          ],
          [
           0.009,
           "Out"
          ],
          [
           0.1,
           "Out"
          ],
          [
           1.7,
           "Out"
          ],
          [
           0.07,
           "Out"
          ],
          [
           0.1,
           "Out"
          ],
          [
           0.009,
           "Out"
          ],
          [
           0.009,
           "Out"
          ],
          [
           0.3,
           "Out"
          ],
          [
           0.04,
           "Out"
          ],
          [
           0.009,
           "Out"
          ],
          [
           175,
           "Out"
          ],
          [
           0.009,
           "Out"
          ],
          [
           0.25,
           "Out"
          ],
          [
           0.009,
           "Out"
          ],
          [
           0.01,
           "Out"
          ],
          [
           0.6,
           "Out"
          ],
          [
           0.02,
           "Out"
          ],
          [
           0.009,
           "Out"
          ],
          [
           0.2,
           "Out"
          ],
          [
           0.3,
           "Out"
          ],
          [
           0,
           "Out"
          ],
          [
           0.09,
           "Out"
          ],
          [
           0.02,
           "Out"
          ],
          [
           0.04,
           "Out"
          ],
          [
           0.2,
           "Out"
          ],
          [
           0.06,
           "Out"
          ],
          [
           0.09,
           "Out"
          ],
          [
           0.009,
           "Out"
          ],
          [
           0.009,
           "Out"
          ],
          [
           0.009,
           "Out"
          ],
          [
           0.009,
           "Out"
          ],
          [
           0.2,
           "Out"
          ],
          [
           0.009,
           "Out"
          ],
          [
           0,
           "Out"
          ],
          [
           0.009,
           "Out"
          ],
          [
           3.01,
           "Out"
          ],
          [
           0.42,
           "Out"
          ],
          [
           2.3,
           "Out"
          ],
          [
           0.05,
           "Out"
          ],
          [
           0.009,
           "Out"
          ],
          [
           0.009,
           "Out"
          ],
          [
           9.7,
           "Out"
          ],
          [
           0.009,
           "Out"
          ],
          [
           3.45,
           "Out"
          ],
          [
           0.5,
           "Out"
          ],
          [
           0.009,
           "Out"
          ],
          [
           0.002,
           "Out"
          ],
          [
           0.009,
           "Out"
          ],
          [
           0.1,
           "Out"
          ],
          [
           0.009,
           "Out"
          ],
          [
           0.002,
           "Out"
          ],
          [
           0.87,
           "Out"
          ],
          [
           0.5,
           "Out"
          ],
          [
           0.25,
           "Out"
          ],
          [
           19.85,
           "Out"
          ],
          [
           0.5,
           "Out"
          ],
          [
           0.009,
           "Out"
          ],
          [
           81,
           "Out"
          ],
          [
           3.29,
           "Out"
          ],
          [
           0.15,
           "Out"
          ],
          [
           0.01,
           "Out"
          ],
          [
           34,
           "Out"
          ],
          [
           3,
           "Out"
          ],
          [
           0.2,
           "Out"
          ],
          [
           0.009,
           "Out"
          ],
          [
           0.01,
           "Out"
          ],
          [
           0.009,
           "Out"
          ],
          [
           0.1,
           "Out"
          ],
          [
           0.03,
           "Out"
          ],
          [
           1.8,
           "Out"
          ],
          [
           0.009,
           "Out"
          ],
          [
           0.05,
           "Out"
          ],
          [
           0.009,
           "Out"
          ],
          [
           0.009,
           "Out"
          ],
          [
           31.5,
           "Out"
          ],
          [
           0.009,
           "Out"
          ],
          [
           0.009,
           "Out"
          ],
          [
           0.45,
           "Out"
          ],
          [
           0.009,
           "Out"
          ],
          [
           0.01,
           "Out"
          ],
          [
           0.009,
           "Out"
          ],
          [
           0.009,
           "Out"
          ],
          [
           0.5,
           "Out"
          ],
          [
           0.009,
           "Out"
          ],
          [
           0.8,
           "Out"
          ],
          [
           0.009,
           "Out"
          ],
          [
           4.5,
           "Out"
          ],
          [
           0.01,
           "Out"
          ],
          [
           2.9,
           "Out"
          ],
          [
           1.6,
           "Out"
          ],
          [
           2.1,
           "Out"
          ],
          [
           17,
           "Out"
          ],
          [
           0.6,
           "Out"
          ],
          [
           0.009,
           "Out"
          ],
          [
           14.3,
           "Out"
          ],
          [
           0.009,
           "Out"
          ],
          [
           3.74,
           "Out"
          ],
          [
           0.28,
           "Out"
          ],
          [
           0.04,
           "Out"
          ],
          [
           76,
           "Out"
          ],
          [
           2.55,
           "Out"
          ],
          [
           0.009,
           "Out"
          ],
          [
           0.1,
           "Out"
          ],
          [
           23,
           "Out"
          ],
          [
           3.4,
           "Out"
          ],
          [
           0.009,
           "Out"
          ],
          [
           3.26,
           "Out"
          ],
          [
           0.01,
           "Out"
          ],
          [
           0.4,
           "Out"
          ],
          [
           3,
           "Out"
          ],
          [
           133,
           "Out"
          ],
          [
           12.5,
           "Out"
          ],
          [
           0.009,
           "Out"
          ],
          [
           0.5,
           "Out"
          ],
          [
           0.1,
           "Out"
          ],
          [
           0.009,
           "Out"
          ],
          [
           0.24,
           "Out"
          ],
          [
           0.02,
           "Out"
          ],
          [
           0.23,
           "Out"
          ],
          [
           0.2,
           "Out"
          ],
          [
           0.05,
           "Out"
          ],
          [
           0.21,
           "Out"
          ],
          [
           0.1,
           "Out"
          ],
          [
           0.28,
           "Out"
          ],
          [
           0.09,
           "Out"
          ],
          [
           0.1,
           "Out"
          ],
          [
           8.51,
           "Out"
          ],
          [
           17.45,
           "Out"
          ],
          [
           0.2,
           "Out"
          ],
          [
           0.009,
           "Out"
          ],
          [
           0.009,
           "Out"
          ],
          [
           0.3,
           "Out"
          ],
          [
           1.15,
           "Out"
          ],
          [
           0.001,
           "Out"
          ],
          [
           0.009,
           "Out"
          ],
          [
           0.009,
           "Out"
          ],
          [
           3.63,
           "Out"
          ],
          [
           0.009,
           "Out"
          ],
          [
           0.009,
           "Out"
          ],
          [
           0.009,
           "Out"
          ],
          [
           0.009,
           "Out"
          ],
          [
           0.09,
           "Out"
          ],
          [
           0.009,
           "Out"
          ],
          [
           0.009,
           "Out"
          ],
          [
           0.94,
           "Out"
          ],
          [
           0.4,
           "Out"
          ],
          [
           0.07,
           "Out"
          ],
          [
           0.01,
           "Out"
          ],
          [
           0.009,
           "Out"
          ],
          [
           4,
           "Out"
          ],
          [
           0.009,
           "Out"
          ],
          [
           0.8,
           "Out"
          ],
          [
           1.6,
           "Out"
          ],
          [
           0.53,
           "Out"
          ],
          [
           3.57,
           "Out"
          ],
          [
           0.009,
           "Out"
          ],
          [
           0.009,
           "Out"
          ],
          [
           14.22,
           "Out"
          ],
          [
           0.5,
           "Out"
          ],
          [
           0.291,
           "Out"
          ],
          [
           0.025,
           "Out"
          ],
          [
           0.009,
           "Out"
          ],
          [
           1.3,
           "Out"
          ],
          [
           0.03,
           "Out"
          ],
          [
           0.1,
           "Out"
          ],
          [
           0.009,
           "Out"
          ],
          [
           0.009,
           "Out"
          ],
          [
           0.009,
           "Out"
          ],
          [
           0.8,
           "Out"
          ],
          [
           4.4,
           "Out"
          ],
          [
           37,
           "Out"
          ],
          [
           0.002,
           "Out"
          ],
          [
           0.009,
           "Out"
          ],
          [
           0.1,
           "Out"
          ],
          [
           12.51,
           "Out"
          ],
          [
           91,
           "Out"
          ],
          [
           0.5,
           "Out"
          ],
          [
           0.009,
           "Out"
          ],
          [
           0.009,
           "Out"
          ],
          [
           0.009,
           "Out"
          ],
          [
           0.009,
           "Out"
          ],
          [
           0.009,
           "Out"
          ],
          [
           0.04,
           "Out"
          ],
          [
           35,
           "Out"
          ],
          [
           0.009,
           "Out"
          ],
          [
           0.009,
           "Out"
          ],
          [
           0.1,
           "Out"
          ],
          [
           0.009,
           "Out"
          ],
          [
           0.29,
           "Out"
          ],
          [
           0.03,
           "Out"
          ],
          [
           0.009,
           "Out"
          ],
          [
           6.88,
           "Out"
          ],
          [
           0.009,
           "Out"
          ],
          [
           0.009,
           "Out"
          ],
          [
           0.009,
           "Out"
          ],
          [
           0.009,
           "Out"
          ],
          [
           0.009,
           "Out"
          ],
          [
           0.5,
           "Out"
          ],
          [
           0.01,
           "Out"
          ],
          [
           4.02,
           "Out"
          ],
          [
           0.01,
           "Out"
          ],
          [
           0.009,
           "Out"
          ],
          [
           0.01,
           "Out"
          ],
          [
           0.009,
           "Out"
          ],
          [
           2.2,
           "Out"
          ],
          [
           0.25,
           "Out"
          ],
          [
           0.009,
           "Out"
          ],
          [
           0.009,
           "Out"
          ],
          [
           0.19,
           "Out"
          ],
          [
           0.009,
           "Out"
          ],
          [
           8,
           "Out"
          ],
          [
           3.62,
           "Out"
          ],
          [
           0.009,
           "Out"
          ],
          [
           0.009,
           "Out"
          ],
          [
           0.009,
           "Out"
          ],
          [
           0.009,
           "Out"
          ],
          [
           0.2,
           "Out"
          ],
          [
           0.009,
           "Out"
          ],
          [
           0.009,
           "Out"
          ],
          [
           0.01,
           "Out"
          ],
          [
           0.1,
           "Out"
          ],
          [
           9.5,
           "Out"
          ],
          [
           0.3,
           "Out"
          ],
          [
           0.01,
           "Out"
          ],
          [
           0.009,
           "Out"
          ],
          [
           0.3,
           "Out"
          ],
          [
           2.1,
           "Out"
          ],
          [
           0.009,
           "Out"
          ],
          [
           0.4,
           "Out"
          ],
          [
           0.009,
           "Out"
          ],
          [
           0.47,
           "Out"
          ],
          [
           0.009,
           "Out"
          ],
          [
           0.1,
           "Out"
          ],
          [
           0.009,
           "Out"
          ],
          [
           0.54,
           "Out"
          ],
          [
           0.009,
           "Out"
          ],
          [
           38,
           "Out"
          ],
          [
           0.24,
           "Out"
          ],
          [
           0.01,
           "Out"
          ],
          [
           0.3,
           "Out"
          ],
          [
           8.5,
           "Out"
          ],
          [
           6,
           "Out"
          ],
          [
           0.05,
           "Out"
          ],
          [
           0.17,
           "Out"
          ],
          [
           0.4,
           "Out"
          ],
          [
           2.5,
           "Out"
          ],
          [
           0.009,
           "Out"
          ],
          [
           0.009,
           "Out"
          ],
          [
           0.009,
           "Out"
          ],
          [
           0.5,
           "Out"
          ],
          [
           0.009,
           "Out"
          ],
          [
           0.03,
           "Out"
          ],
          [
           6.25,
           "Out"
          ],
          [
           0.5,
           "Out"
          ],
          [
           0.01,
           "Out"
          ],
          [
           0.4,
           "Out"
          ],
          [
           0.21,
           "Out"
          ],
          [
           0.009,
           "Out"
          ],
          [
           0.009,
           "Out"
          ],
          [
           0.11,
           "Out"
          ],
          [
           0.9,
           "Out"
          ],
          [
           0.009,
           "Out"
          ],
          [
           1.2,
           "Out"
          ],
          [
           0.009,
           "Out"
          ],
          [
           0.009,
           "Out"
          ],
          [
           0.009,
           "Out"
          ],
          [
           42,
           "Out"
          ],
          [
           0.05,
           "Out"
          ],
          [
           0.32,
           "Out"
          ],
          [
           0.009,
           "Out"
          ],
          [
           0.009,
           "Out"
          ],
          [
           0.1,
           "Out"
          ],
          [
           0.1,
           "Out"
          ],
          [
           0.009,
           "Out"
          ],
          [
           0.009,
           "Out"
          ],
          [
           0.52,
           "Out"
          ],
          [
           0.3,
           "Out"
          ],
          [
           0.009,
           "Out"
          ],
          [
           1.3,
           "Out"
          ],
          [
           0.09,
           "Out"
          ],
          [
           22.6,
           "Out"
          ],
          [
           0.01,
           "Out"
          ],
          [
           0.009,
           "Out"
          ],
          [
           0.009,
           "Out"
          ],
          [
           0.009,
           "Out"
          ],
          [
           1.96,
           "Out"
          ],
          [
           0.009,
           "Out"
          ],
          [
           0.009,
           "Out"
          ],
          [
           0.009,
           "Out"
          ],
          [
           0.009,
           "Out"
          ],
          [
           0.009,
           "Out"
          ],
          [
           1.05,
           "Out"
          ],
          [
           1.45,
           "Out"
          ],
          [
           0.009,
           "Out"
          ],
          [
           4.71,
           "Out"
          ],
          [
           0.5,
           "Out"
          ],
          [
           0.2,
           "Out"
          ],
          [
           12,
           "Out"
          ],
          [
           0.3,
           "Out"
          ],
          [
           51,
           "Out"
          ],
          [
           0.5,
           "Out"
          ],
          [
           0.009,
           "Out"
          ],
          [
           0.009,
           "Out"
          ],
          [
           0.009,
           "Out"
          ],
          [
           0.1,
           "Out"
          ],
          [
           0.009,
           "Out"
          ],
          [
           0.009,
           "Out"
          ],
          [
           33.01,
           "Out"
          ],
          [
           2,
           "Out"
          ],
          [
           7,
           "Out"
          ],
          [
           0.09,
           "Out"
          ],
          [
           0.019,
           "Out"
          ],
          [
           0.32,
           "Out"
          ],
          [
           0.01,
           "Out"
          ],
          [
           0.03,
           "Out"
          ],
          [
           0.009,
           "Out"
          ],
          [
           0.009,
           "Out"
          ],
          [
           0.1,
           "Out"
          ],
          [
           0.009,
           "Out"
          ],
          [
           0.2,
           "Out"
          ],
          [
           0.02,
           "Out"
          ],
          [
           0.67,
           "Out"
          ],
          [
           0,
           "Out"
          ],
          [
           0.02,
           "Out"
          ],
          [
           37,
           "Out"
          ],
          [
           0,
           "Out"
          ],
          [
           0.009,
           "Out"
          ],
          [
           0.009,
           "Out"
          ],
          [
           0.2,
           "Out"
          ],
          [
           0.1,
           "Out"
          ],
          [
           0.009,
           "Out"
          ],
          [
           0.8,
           "Out"
          ],
          [
           0.009,
           "Out"
          ],
          [
           0.86,
           "Out"
          ],
          [
           0.5,
           "Out"
          ],
          [
           0.009,
           "Out"
          ],
          [
           0.2,
           "Out"
          ],
          [
           0.1,
           "Out"
          ],
          [
           0.1,
           "Out"
          ],
          [
           1.6,
           "Out"
          ],
          [
           0.009,
           "Out"
          ],
          [
           2.08,
           "Out"
          ],
          [
           0.009,
           "Out"
          ],
          [
           0.2,
           "Out"
          ],
          [
           0.57,
           "Out"
          ],
          [
           0.009,
           "Out"
          ],
          [
           91.2,
           "Out"
          ],
          [
           0.1,
           "Out"
          ],
          [
           71.72,
           "Out"
          ],
          [
           0.009,
           "Out"
          ],
          [
           0,
           "Out"
          ],
          [
           0.02,
           "Out"
          ],
          [
           0.009,
           "Out"
          ],
          [
           0.009,
           "Out"
          ],
          [
           0.009,
           "Out"
          ],
          [
           0.05,
           "Out"
          ],
          [
           3.3,
           "Out"
          ],
          [
           0.009,
           "Out"
          ],
          [
           2.5,
           "Out"
          ],
          [
           0.7,
           "Out"
          ],
          [
           4.98,
           "Out"
          ],
          [
           0.009,
           "Out"
          ],
          [
           0.002,
           "Out"
          ],
          [
           2.6,
           "Out"
          ],
          [
           0,
           "Out"
          ],
          [
           0.009,
           "Out"
          ],
          [
           0.1,
           "Out"
          ],
          [
           0,
           "Out"
          ],
          [
           0.01,
           "Out"
          ],
          [
           0.009,
           "Out"
          ],
          [
           0.009,
           "Out"
          ],
          [
           1.5,
           "Out"
          ],
          [
           0.03,
           "Out"
          ],
          [
           0.01,
           "Out"
          ],
          [
           0.009,
           "Out"
          ],
          [
           0.002,
           "Out"
          ],
          [
           0.009,
           "Out"
          ],
          [
           0.7,
           "Out"
          ],
          [
           0.009,
           "Out"
          ],
          [
           0.009,
           "Out"
          ],
          [
           28.35,
           "Out"
          ],
          [
           5.34,
           "Out"
          ],
          [
           0.009,
           "Out"
          ],
          [
           0.009,
           "Out"
          ],
          [
           303,
           "Out"
          ],
          [
           0.009,
           "Out"
          ],
          [
           0.009,
           "Out"
          ],
          [
           0.009,
           "Out"
          ],
          [
           0.009,
           "Out"
          ],
          [
           0.009,
           "Out"
          ],
          [
           0.009,
           "Out"
          ],
          [
           0.009,
           "Out"
          ],
          [
           1,
           "Out"
          ],
          [
           0.1,
           "Out"
          ],
          [
           0.009,
           "Out"
          ],
          [
           3.1,
           "Out"
          ],
          [
           0.009,
           "Out"
          ],
          [
           0.02,
           "Out"
          ],
          [
           0.04,
           "Out"
          ],
          [
           0.1,
           "Out"
          ],
          [
           0.39,
           "Out"
          ],
          [
           0.009,
           "Out"
          ],
          [
           0.009,
           "Out"
          ],
          [
           2.3,
           "Out"
          ],
          [
           1.5,
           "Out"
          ],
          [
           0.009,
           "Out"
          ],
          [
           0.015,
           "Out"
          ],
          [
           0.15,
           "Out"
          ],
          [
           0.5,
           "Out"
          ],
          [
           0.25,
           "Out"
          ],
          [
           0.009,
           "Out"
          ],
          [
           34,
           "Out"
          ],
          [
           0.009,
           "Out"
          ],
          [
           0.009,
           "Out"
          ],
          [
           0.009,
           "Out"
          ],
          [
           0.4,
           "Out"
          ],
          [
           0,
           "Out"
          ],
          [
           0.009,
           "Out"
          ],
          [
           0.009,
           "Out"
          ],
          [
           0,
           "Out"
          ],
          [
           0.2,
           "Out"
          ],
          [
           0.009,
           "Out"
          ],
          [
           0.18,
           "Out"
          ],
          [
           0.009,
           "Out"
          ],
          [
           0.2,
           "Out"
          ],
          [
           0.04,
           "Out"
          ],
          [
           0.001,
           "Out"
          ],
          [
           8.24,
           "Out"
          ],
          [
           5.9,
           "Out"
          ],
          [
           0.009,
           "Out"
          ],
          [
           0.4,
           "Out"
          ],
          [
           1.7,
           "Out"
          ],
          [
           0.009,
           "Out"
          ],
          [
           0.02,
           "Out"
          ],
          [
           0.009,
           "Out"
          ],
          [
           0.009,
           "Out"
          ],
          [
           0.2,
           "Out"
          ],
          [
           0.3,
           "Out"
          ],
          [
           119.9,
           "Out"
          ],
          [
           0.6,
           "Out"
          ],
          [
           0.009,
           "Out"
          ],
          [
           0.3,
           "Out"
          ],
          [
           8.2,
           "Out"
          ],
          [
           0.009,
           "Out"
          ],
          [
           2.1,
           "Out"
          ],
          [
           0.25,
           "Out"
          ],
          [
           0.05,
           "Out"
          ],
          [
           0.002,
           "Out"
          ],
          [
           0.009,
           "Out"
          ],
          [
           0.3,
           "Out"
          ],
          [
           1.6,
           "Out"
          ],
          [
           0.009,
           "Out"
          ],
          [
           0.009,
           "Out"
          ],
          [
           0,
           "Out"
          ],
          [
           0.04,
           "Out"
          ],
          [
           0.5,
           "Out"
          ],
          [
           0.1,
           "Out"
          ],
          [
           0.009,
           "Out"
          ],
          [
           0.25,
           "Out"
          ],
          [
           2.3,
           "Out"
          ],
          [
           0.009,
           "Out"
          ],
          [
           0.24,
           "Out"
          ],
          [
           0.01,
           "Out"
          ],
          [
           3.38,
           "Out"
          ],
          [
           0.3,
           "Out"
          ],
          [
           0.14,
           "Out"
          ],
          [
           6.7,
           "Out"
          ],
          [
           0.16,
           "Out"
          ],
          [
           0.3,
           "Out"
          ],
          [
           0.01,
           "Out"
          ],
          [
           36.2,
           "Out"
          ],
          [
           0.16,
           "Out"
          ],
          [
           0.009,
           "Out"
          ],
          [
           0.009,
           "Out"
          ],
          [
           0.009,
           "Out"
          ],
          [
           0.5,
           "Out"
          ],
          [
           0.009,
           "Out"
          ],
          [
           0.3,
           "Out"
          ],
          [
           117.4,
           "Out"
          ],
          [
           0,
           "Out"
          ],
          [
           0.03,
           "Out"
          ],
          [
           0.009,
           "Out"
          ],
          [
           0.009,
           "Out"
          ],
          [
           0.009,
           "Out"
          ],
          [
           50,
           "Out"
          ],
          [
           0.3,
           "Out"
          ],
          [
           0.2,
           "Out"
          ],
          [
           0.009,
           "Out"
          ],
          [
           0.009,
           "Out"
          ],
          [
           0.009,
           "Out"
          ],
          [
           1.6,
           "Out"
          ],
          [
           80,
           "Out"
          ],
          [
           0.3,
           "Out"
          ],
          [
           9,
           "Out"
          ],
          [
           11.6,
           "Out"
          ],
          [
           0.009,
           "Out"
          ],
          [
           0.25,
           "Out"
          ],
          [
           0.009,
           "Out"
          ],
          [
           0.37,
           "Out"
          ],
          [
           0.4,
           "Out"
          ],
          [
           0.5,
           "Out"
          ],
          [
           0.009,
           "Out"
          ],
          [
           1,
           "Out"
          ],
          [
           1.3,
           "Out"
          ],
          [
           0.009,
           "Out"
          ],
          [
           0.009,
           "Out"
          ],
          [
           0.04,
           "Out"
          ],
          [
           0,
           "Out"
          ],
          [
           0.009,
           "Out"
          ],
          [
           0.22,
           "Out"
          ],
          [
           0.1,
           "Out"
          ],
          [
           0.07,
           "Out"
          ],
          [
           0.01,
           "Out"
          ],
          [
           0.009,
           "Out"
          ],
          [
           0.009,
           "Out"
          ],
          [
           0.009,
           "Out"
          ],
          [
           0.009,
           "Out"
          ],
          [
           0.009,
           "Out"
          ],
          [
           0.25,
           "Out"
          ],
          [
           0.2,
           "Out"
          ],
          [
           14.5,
           "Out"
          ],
          [
           0.08,
           "Out"
          ],
          [
           19,
           "Out"
          ],
          [
           0.009,
           "Out"
          ],
          [
           0.3,
           "Out"
          ],
          [
           1,
           "Out"
          ],
          [
           0,
           "Out"
          ],
          [
           0.009,
           "Out"
          ],
          [
           0.009,
           "Out"
          ],
          [
           70,
           "Out"
          ],
          [
           4.05,
           "Out"
          ],
          [
           0.009,
           "Out"
          ],
          [
           1.2,
           "Out"
          ],
          [
           0.009,
           "Out"
          ],
          [
           0.08,
           "Out"
          ],
          [
           0.009,
           "Out"
          ],
          [
           19.42,
           "Out"
          ],
          [
           0.5,
           "Out"
          ],
          [
           0.009,
           "Out"
          ],
          [
           0.009,
           "Out"
          ],
          [
           0.02,
           "Out"
          ],
          [
           0.1,
           "Out"
          ],
          [
           0.01,
           "Out"
          ],
          [
           0.009,
           "Out"
          ],
          [
           0.009,
           "Out"
          ],
          [
           0.009,
           "Out"
          ],
          [
           0.009,
           "Out"
          ],
          [
           0.01,
           "Out"
          ],
          [
           1.57,
           "Out"
          ],
          [
           0.009,
           "Out"
          ],
          [
           0.1,
           "Out"
          ],
          [
           0.009,
           "Out"
          ],
          [
           0.009,
           "Out"
          ],
          [
           0.009,
           "Out"
          ],
          [
           0.009,
           "Out"
          ],
          [
           0.2,
           "Out"
          ],
          [
           0.009,
           "Out"
          ],
          [
           0.04,
           "Out"
          ],
          [
           0.2,
           "Out"
          ],
          [
           0.009,
           "Out"
          ],
          [
           46,
           "Out"
          ],
          [
           0.24,
           "Out"
          ],
          [
           2.7,
           "Out"
          ],
          [
           0.2,
           "Out"
          ],
          [
           6.3,
           "Out"
          ],
          [
           0.009,
           "Out"
          ],
          [
           0.08,
           "Out"
          ],
          [
           0.1,
           "Out"
          ],
          [
           0.27,
           "Out"
          ],
          [
           0.3,
           "Out"
          ],
          [
           0.01,
           "Out"
          ],
          [
           140.6,
           "Out"
          ],
          [
           0.009,
           "Out"
          ],
          [
           0,
           "Out"
          ],
          [
           0.009,
           "Out"
          ],
          [
           2.9,
           "Out"
          ],
          [
           0.009,
           "Out"
          ],
          [
           0.009,
           "Out"
          ],
          [
           0.7,
           "Out"
          ],
          [
           0.009,
           "Out"
          ],
          [
           0.009,
           "Out"
          ],
          [
           0.009,
           "Out"
          ],
          [
           0.009,
           "Out"
          ],
          [
           0.009,
           "Out"
          ],
          [
           1.85,
           "Out"
          ],
          [
           0.009,
           "Out"
          ],
          [
           0.009,
           "Out"
          ],
          [
           8.9,
           "Out"
          ],
          [
           0.009,
           "Out"
          ],
          [
           0.009,
           "Out"
          ],
          [
           0.09,
           "Out"
          ],
          [
           0.009,
           "Out"
          ],
          [
           7.8,
           "Out"
          ],
          [
           0.009,
           "Out"
          ],
          [
           0.1,
           "Out"
          ],
          [
           0.009,
           "Out"
          ],
          [
           121.5,
           "Out"
          ],
          [
           0.1,
           "Out"
          ],
          [
           0.4,
           "Out"
          ],
          [
           0.009,
           "Out"
          ],
          [
           0.009,
           "Out"
          ],
          [
           0.11,
           "Out"
          ],
          [
           150,
           "Out"
          ],
          [
           0.3,
           "Out"
          ],
          [
           2.9,
           "Out"
          ],
          [
           0.2,
           "Out"
          ],
          [
           0.1,
           "Out"
          ],
          [
           0.009,
           "Out"
          ],
          [
           0.009,
           "Out"
          ],
          [
           0.009,
           "Out"
          ],
          [
           0.52,
           "Out"
          ],
          [
           4.6,
           "Out"
          ],
          [
           0.33,
           "Out"
          ],
          [
           0.3,
           "Out"
          ],
          [
           0.009,
           "Out"
          ],
          [
           0.009,
           "Out"
          ],
          [
           0.2,
           "Out"
          ],
          [
           0.2,
           "Out"
          ],
          [
           5.4,
           "Out"
          ],
          [
           0.01,
           "Out"
          ],
          [
           6,
           "Out"
          ],
          [
           3,
           "Out"
          ],
          [
           5,
           "Out"
          ],
          [
           0.009,
           "Out"
          ],
          [
           0.009,
           "Out"
          ],
          [
           0.009,
           "Out"
          ],
          [
           0.009,
           "Out"
          ],
          [
           0.3,
           "Out"
          ],
          [
           0.009,
           "Out"
          ],
          [
           1.1,
           "Out"
          ],
          [
           0.009,
           "Out"
          ],
          [
           0.4,
           "Out"
          ],
          [
           1.87,
           "Out"
          ],
          [
           650,
           "Out"
          ],
          [
           0.1,
           "Out"
          ],
          [
           0.009,
           "Out"
          ],
          [
           0.009,
           "Out"
          ],
          [
           0.009,
           "Out"
          ],
          [
           0.009,
           "Out"
          ],
          [
           0.06,
           "Out"
          ],
          [
           0.009,
           "Out"
          ],
          [
           0.31,
           "Out"
          ],
          [
           0.009,
           "Out"
          ],
          [
           0.009,
           "Out"
          ],
          [
           0.009,
           "Out"
          ],
          [
           0,
           "Out"
          ],
          [
           0.009,
           "Out"
          ],
          [
           0.18,
           "Out"
          ],
          [
           0.1,
           "Out"
          ],
          [
           0.1,
           "Out"
          ],
          [
           0.009,
           "Out"
          ],
          [
           0.009,
           "Out"
          ],
          [
           0.009,
           "Out"
          ],
          [
           27,
           "Out"
          ],
          [
           0.009,
           "Out"
          ],
          [
           0.009,
           "Out"
          ],
          [
           0.009,
           "Out"
          ],
          [
           0.009,
           "Out"
          ],
          [
           0.009,
           "Out"
          ],
          [
           0.009,
           "Out"
          ],
          [
           0.009,
           "Out"
          ],
          [
           0.3,
           "Out"
          ],
          [
           0.3,
           "Out"
          ],
          [
           0.009,
           "Out"
          ],
          [
           0.009,
           "Out"
          ],
          [
           7,
           "Out"
          ],
          [
           0.5,
           "Out"
          ],
          [
           0.025,
           "Out"
          ],
          [
           0.1,
           "Out"
          ],
          [
           0.25,
           "Out"
          ],
          [
           0.02,
           "Out"
          ],
          [
           0.009,
           "Out"
          ],
          [
           0.009,
           "Out"
          ],
          [
           3,
           "Out"
          ],
          [
           0.1,
           "Out"
          ],
          [
           0.009,
           "Out"
          ],
          [
           2.7,
           "Out"
          ],
          [
           0.002,
           "Out"
          ],
          [
           0.009,
           "Out"
          ],
          [
           0.009,
           "Out"
          ],
          [
           0.009,
           "Out"
          ],
          [
           0.06,
           "Out"
          ],
          [
           0.2,
           "Out"
          ],
          [
           0.009,
           "Out"
          ],
          [
           0.2,
           "Out"
          ],
          [
           295,
           "Out"
          ],
          [
           0.002,
           "Out"
          ],
          [
           0.1,
           "Out"
          ],
          [
           0.4,
           "Out"
          ],
          [
           0.3,
           "Out"
          ],
          [
           0.009,
           "Out"
          ],
          [
           0.2,
           "Out"
          ],
          [
           0,
           "Out"
          ],
          [
           0.03,
           "Out"
          ],
          [
           5.74,
           "Out"
          ],
          [
           0.41,
           "Out"
          ],
          [
           0.7,
           "Out"
          ],
          [
           0.1,
           "Out"
          ],
          [
           0.17,
           "Out"
          ],
          [
           3.5,
           "Out"
          ],
          [
           0.1,
           "Out"
          ],
          [
           0.009,
           "Out"
          ],
          [
           0.009,
           "Out"
          ],
          [
           0.03,
           "Out"
          ],
          [
           0,
           "Out"
          ],
          [
           0.009,
           "Out"
          ],
          [
           0.009,
           "Out"
          ],
          [
           0.13,
           "Out"
          ],
          [
           0.002,
           "Out"
          ],
          [
           0.009,
           "Out"
          ],
          [
           0.66,
           "Out"
          ],
          [
           0.009,
           "Out"
          ],
          [
           0.009,
           "Out"
          ],
          [
           0.009,
           "Out"
          ],
          [
           0.009,
           "Out"
          ],
          [
           0.32,
           "Out"
          ],
          [
           0.01,
           "Out"
          ],
          [
           4.5,
           "Out"
          ],
          [
           0,
           "Out"
          ],
          [
           0.5,
           "Out"
          ],
          [
           0.09,
           "Out"
          ],
          [
           0.67,
           "Out"
          ],
          [
           0.17,
           "Out"
          ],
          [
           0.009,
           "Out"
          ],
          [
           25,
           "Out"
          ],
          [
           0.009,
           "Out"
          ],
          [
           0.009,
           "Out"
          ],
          [
           26,
           "Out"
          ],
          [
           0.1,
           "Out"
          ],
          [
           0.1,
           "Out"
          ],
          [
           0.8,
           "Out"
          ],
          [
           0.009,
           "Out"
          ],
          [
           0.009,
           "Out"
          ],
          [
           0.14,
           "Out"
          ],
          [
           9.1,
           "Out"
          ],
          [
           7,
           "Out"
          ],
          [
           0.009,
           "Out"
          ],
          [
           0.1,
           "Out"
          ],
          [
           23.6,
           "Out"
          ],
          [
           0.009,
           "Out"
          ],
          [
           0.01,
           "Out"
          ],
          [
           8.6,
           "Out"
          ],
          [
           0.003,
           "Out"
          ],
          [
           0.8,
           "Out"
          ],
          [
           0.3,
           "Out"
          ],
          [
           0.09,
           "Out"
          ],
          [
           0.009,
           "Out"
          ],
          [
           0.009,
           "Out"
          ],
          [
           0.009,
           "Out"
          ],
          [
           0.009,
           "Out"
          ],
          [
           0.07,
           "Out"
          ],
          [
           0.5,
           "Out"
          ],
          [
           0.82,
           "Out"
          ],
          [
           0.009,
           "Out"
          ],
          [
           2.3,
           "Out"
          ],
          [
           0.2,
           "Out"
          ],
          [
           0.009,
           "Out"
          ],
          [
           0.5,
           "Out"
          ],
          [
           0.01,
           "Out"
          ],
          [
           0,
           "Out"
          ],
          [
           0.2,
           "Out"
          ],
          [
           0.009,
           "Out"
          ],
          [
           0.009,
           "Out"
          ],
          [
           0.21,
           "Out"
          ],
          [
           0.94,
           "Out"
          ],
          [
           0.42,
           "Out"
          ],
          [
           0.1,
           "Out"
          ],
          [
           0.02,
           "Out"
          ],
          [
           2.18,
           "Out"
          ],
          [
           0.2,
           "Out"
          ],
          [
           0.6,
           "Out"
          ],
          [
           0.009,
           "Out"
          ],
          [
           0.009,
           "Out"
          ],
          [
           0.009,
           "Out"
          ],
          [
           2.7,
           "Out"
          ],
          [
           0.65,
           "Out"
          ],
          [
           0.009,
           "Out"
          ],
          [
           0.009,
           "Out"
          ],
          [
           0.1,
           "Out"
          ],
          [
           0,
           "Out"
          ],
          [
           0.01,
           "Out"
          ],
          [
           0.009,
           "Out"
          ],
          [
           0.09,
           "Out"
          ],
          [
           0.34,
           "Out"
          ],
          [
           0.3,
           "Out"
          ],
          [
           0.21,
           "Out"
          ],
          [
           0.009,
           "Out"
          ],
          [
           0.009,
           "Out"
          ],
          [
           0.5,
           "Out"
          ],
          [
           0.009,
           "Out"
          ],
          [
           0.009,
           "Out"
          ],
          [
           190.6,
           "Out"
          ],
          [
           0.009,
           "Out"
          ],
          [
           1.9,
           "Out"
          ],
          [
           0.4,
           "Out"
          ],
          [
           0.12,
           "Out"
          ],
          [
           0.009,
           "Out"
          ],
          [
           0.1,
           "Out"
          ],
          [
           0.4,
           "Out"
          ],
          [
           0.03,
           "Out"
          ],
          [
           0.009,
           "Out"
          ],
          [
           100.58,
           "Out"
          ],
          [
           0,
           "Out"
          ],
          [
           0.009,
           "Out"
          ],
          [
           0.009,
           "Out"
          ],
          [
           0,
           "Out"
          ],
          [
           2.2,
           "Out"
          ],
          [
           0.009,
           "Out"
          ],
          [
           0.009,
           "Out"
          ],
          [
           0.009,
           "Out"
          ],
          [
           3.066,
           "Out"
          ],
          [
           0.24,
           "Out"
          ],
          [
           0.009,
           "Out"
          ],
          [
           0.009,
           "Out"
          ],
          [
           0.3,
           "Out"
          ],
          [
           200,
           "Out"
          ],
          [
           0.2,
           "Out"
          ],
          [
           5.5,
           "Out"
          ],
          [
           0.009,
           "Out"
          ],
          [
           0.3,
           "Out"
          ],
          [
           0.009,
           "Out"
          ],
          [
           0.95,
           "Out"
          ],
          [
           0.85,
           "Out"
          ],
          [
           0.009,
           "Out"
          ],
          [
           70,
           "Out"
          ],
          [
           0.009,
           "Out"
          ],
          [
           0.1,
           "Out"
          ],
          [
           0.009,
           "Out"
          ],
          [
           0.009,
           "Out"
          ],
          [
           0.009,
           "Out"
          ],
          [
           0.009,
           "Out"
          ],
          [
           0.3,
           "Out"
          ],
          [
           197.2,
           "Out"
          ],
          [
           0.009,
           "Out"
          ],
          [
           0.07,
           "Out"
          ],
          [
           0.009,
           "Out"
          ],
          [
           0.32,
           "Out"
          ],
          [
           0.009,
           "Out"
          ],
          [
           0.6,
           "Out"
          ],
          [
           0.009,
           "Out"
          ],
          [
           0.009,
           "Out"
          ],
          [
           11.6,
           "Out"
          ],
          [
           0.04,
           "Out"
          ],
          [
           0.009,
           "Out"
          ],
          [
           0.01,
           "Out"
          ],
          [
           0.009,
           "Out"
          ],
          [
           0.009,
           "Out"
          ],
          [
           10.4,
           "Out"
          ],
          [
           0.1,
           "Out"
          ],
          [
           11.2,
           "Out"
          ],
          [
           0.002,
           "Out"
          ],
          [
           0.1,
           "Out"
          ],
          [
           0.009,
           "Out"
          ],
          [
           6.1,
           "Out"
          ],
          [
           0.009,
           "Out"
          ],
          [
           0.01,
           "Out"
          ],
          [
           0.7,
           "Out"
          ],
          [
           5.2,
           "Out"
          ],
          [
           0.25,
           "Out"
          ],
          [
           0.01,
           "Out"
          ],
          [
           4,
           "Out"
          ],
          [
           0.009,
           "Out"
          ],
          [
           0.009,
           "Out"
          ],
          [
           0.009,
           "Out"
          ],
          [
           0.02,
           "Out"
          ],
          [
           0.04,
           "Out"
          ],
          [
           0.07,
           "Out"
          ],
          [
           0.16,
           "Out"
          ],
          [
           0.009,
           "Out"
          ],
          [
           0.06,
           "Out"
          ],
          [
           0.009,
           "Out"
          ],
          [
           0.7,
           "Out"
          ],
          [
           0.009,
           "Out"
          ],
          [
           0.2,
           "Out"
          ],
          [
           0.009,
           "Out"
          ],
          [
           22.75,
           "Out"
          ],
          [
           0.03,
           "Out"
          ],
          [
           0.009,
           "Out"
          ],
          [
           0.2,
           "Out"
          ],
          [
           0.15,
           "Out"
          ],
          [
           0.009,
           "Out"
          ],
          [
           0.009,
           "Out"
          ],
          [
           0.44,
           "Out"
          ],
          [
           0.022,
           "Out"
          ],
          [
           0.03,
           "Out"
          ],
          [
           0.009,
           "Out"
          ],
          [
           0.009,
           "Out"
          ],
          [
           0.009,
           "Out"
          ],
          [
           2,
           "Out"
          ],
          [
           0.5,
           "Out"
          ],
          [
           0.009,
           "Out"
          ],
          [
           500,
           "Out"
          ],
          [
           173.7,
           "Out"
          ],
          [
           0.009,
           "Out"
          ],
          [
           4,
           "Out"
          ],
          [
           0.5,
           "Out"
          ],
          [
           37,
           "Out"
          ],
          [
           0.009,
           "Out"
          ],
          [
           0.009,
           "Out"
          ],
          [
           1.2,
           "Out"
          ],
          [
           0.009,
           "Out"
          ],
          [
           0.1,
           "Out"
          ],
          [
           0.009,
           "Out"
          ],
          [
           0.4,
           "Out"
          ],
          [
           0.67,
           "Out"
          ],
          [
           0.13,
           "Out"
          ],
          [
           0.1,
           "Out"
          ],
          [
           0.2,
           "Out"
          ],
          [
           0.009,
           "Out"
          ],
          [
           0.009,
           "Out"
          ],
          [
           0.6,
           "Out"
          ],
          [
           0.009,
           "Out"
          ],
          [
           0.009,
           "Out"
          ],
          [
           0.009,
           "Out"
          ],
          [
           1.87,
           "Out"
          ],
          [
           0.009,
           "Out"
          ],
          [
           3,
           "Out"
          ],
          [
           0.009,
           "Out"
          ],
          [
           0.1,
           "Out"
          ],
          [
           0.009,
           "Out"
          ],
          [
           0.009,
           "Out"
          ],
          [
           0.009,
           "Out"
          ],
          [
           0.009,
           "Out"
          ],
          [
           0.5,
           "Out"
          ],
          [
           0.001,
           "Out"
          ],
          [
           0.01,
           "Out"
          ],
          [
           0.8,
           "Out"
          ],
          [
           0,
           "Out"
          ],
          [
           0.02,
           "Out"
          ],
          [
           0.6,
           "Out"
          ],
          [
           0.02,
           "Out"
          ],
          [
           0.009,
           "Out"
          ],
          [
           0.8,
           "Out"
          ],
          [
           2,
           "Out"
          ],
          [
           0.056,
           "Out"
          ],
          [
           0.009,
           "Out"
          ],
          [
           0.009,
           "Out"
          ],
          [
           0.009,
           "Out"
          ],
          [
           0.009,
           "Out"
          ],
          [
           0.01,
           "Out"
          ],
          [
           0.009,
           "Out"
          ],
          [
           0.009,
           "Out"
          ],
          [
           0.009,
           "Out"
          ],
          [
           0.009,
           "Out"
          ],
          [
           0.09,
           "Out"
          ],
          [
           0.2,
           "Out"
          ],
          [
           0.1,
           "Out"
          ],
          [
           0.009,
           "Out"
          ],
          [
           0.009,
           "Out"
          ],
          [
           0.009,
           "Out"
          ],
          [
           0.2,
           "Out"
          ],
          [
           0.009,
           "Out"
          ],
          [
           0.3,
           "Out"
          ],
          [
           0.009,
           "Out"
          ],
          [
           0.009,
           "Out"
          ],
          [
           0.005,
           "Out"
          ],
          [
           0.1,
           "Out"
          ],
          [
           0.5,
           "Out"
          ],
          [
           0.009,
           "Out"
          ],
          [
           0.009,
           "Out"
          ],
          [
           0.02,
           "Out"
          ],
          [
           0.2,
           "Out"
          ],
          [
           0.009,
           "Out"
          ],
          [
           1.7,
           "Out"
          ],
          [
           4.6,
           "Out"
          ],
          [
           0.3,
           "Out"
          ],
          [
           0.009,
           "Out"
          ],
          [
           0.009,
           "Out"
          ],
          [
           0.009,
           "Out"
          ],
          [
           20.7,
           "Out"
          ],
          [
           0.05,
           "Out"
          ],
          [
           0.009,
           "Out"
          ],
          [
           4,
           "Out"
          ],
          [
           0.009,
           "Out"
          ],
          [
           0.009,
           "Out"
          ],
          [
           0.6,
           "Out"
          ],
          [
           0.009,
           "Out"
          ],
          [
           0.39,
           "Out"
          ],
          [
           0.009,
           "Out"
          ],
          [
           6.5,
           "Out"
          ],
          [
           249,
           "Out"
          ],
          [
           0.009,
           "Out"
          ],
          [
           0.1,
           "Out"
          ],
          [
           37,
           "Out"
          ],
          [
           0.009,
           "Out"
          ],
          [
           0.009,
           "Out"
          ],
          [
           5.9,
           "Out"
          ],
          [
           0.001,
           "Out"
          ],
          [
           0.22,
           "Out"
          ],
          [
           223,
           "Out"
          ],
          [
           0.3,
           "Out"
          ],
          [
           60,
           "Out"
          ],
          [
           0.009,
           "Out"
          ],
          [
           1,
           "Out"
          ],
          [
           0,
           "Out"
          ],
          [
           0.16,
           "Out"
          ],
          [
           0.009,
           "Out"
          ],
          [
           0.009,
           "Out"
          ],
          [
           0,
           "Out"
          ],
          [
           2,
           "Out"
          ],
          [
           0.3,
           "Out"
          ],
          [
           0.009,
           "Out"
          ],
          [
           0.009,
           "Out"
          ],
          [
           0.009,
           "Out"
          ],
          [
           0.009,
           "Out"
          ],
          [
           0.3,
           "Out"
          ],
          [
           6695,
           "Out"
          ],
          [
           0.5,
           "Out"
          ],
          [
           0.009,
           "Out"
          ],
          [
           0.2,
           "Out"
          ],
          [
           0.009,
           "Out"
          ],
          [
           0.04,
           "Out"
          ],
          [
           0.009,
           "Out"
          ],
          [
           0.009,
           "Out"
          ],
          [
           0.009,
           "Out"
          ],
          [
           9,
           "Out"
          ],
          [
           0.009,
           "Out"
          ],
          [
           0.009,
           "Out"
          ],
          [
           0.21,
           "Out"
          ],
          [
           0.6,
           "Out"
          ],
          [
           0.01,
           "Out"
          ],
          [
           0.3,
           "Out"
          ],
          [
           0.009,
           "Out"
          ],
          [
           0.009,
           "Out"
          ],
          [
           0.02,
           "Out"
          ],
          [
           0.8,
           "Out"
          ],
          [
           0.009,
           "Out"
          ],
          [
           0.009,
           "Out"
          ],
          [
           0.009,
           "Out"
          ],
          [
           0.009,
           "Out"
          ],
          [
           0.009,
           "Out"
          ],
          [
           0.009,
           "Out"
          ],
          [
           0.02,
           "Out"
          ],
          [
           0.1,
           "Out"
          ],
          [
           0.5,
           "Out"
          ],
          [
           151,
           "Out"
          ],
          [
           0.009,
           "Out"
          ],
          [
           0,
           "Out"
          ],
          [
           0.34,
           "Out"
          ],
          [
           0.3,
           "Out"
          ],
          [
           0,
           "Out"
          ],
          [
           0.2,
           "Out"
          ],
          [
           0.8,
           "Out"
          ],
          [
           12,
           "Out"
          ],
          [
           0.009,
           "Out"
          ],
          [
           0.009,
           "Out"
          ],
          [
           0.03,
           "Out"
          ],
          [
           0.009,
           "Out"
          ],
          [
           0.1,
           "Out"
          ],
          [
           0.03,
           "Out"
          ],
          [
           13,
           "Out"
          ],
          [
           0.009,
           "Out"
          ],
          [
           0.93,
           "Out"
          ],
          [
           0.5,
           "Out"
          ],
          [
           0.009,
           "Out"
          ],
          [
           0.009,
           "Out"
          ],
          [
           0.009,
           "Out"
          ],
          [
           0.009,
           "Out"
          ],
          [
           0.009,
           "Out"
          ],
          [
           0.009,
           "Out"
          ],
          [
           0.009,
           "Out"
          ],
          [
           0.009,
           "Out"
          ],
          [
           0.009,
           "Out"
          ],
          [
           0,
           "Out"
          ],
          [
           0.71,
           "Out"
          ],
          [
           0.009,
           "Out"
          ],
          [
           0,
           "Out"
          ],
          [
           0.009,
           "Out"
          ],
          [
           0.5,
           "Out"
          ],
          [
           0.15,
           "Out"
          ],
          [
           0.3,
           "Out"
          ],
          [
           3.51,
           "Out"
          ],
          [
           0.009,
           "Out"
          ],
          [
           0.009,
           "Out"
          ],
          [
           0.009,
           "Out"
          ],
          [
           4.2,
           "Out"
          ],
          [
           0.1,
           "Out"
          ],
          [
           0.63,
           "Out"
          ],
          [
           0.01,
           "Out"
          ],
          [
           0.009,
           "Out"
          ],
          [
           0.009,
           "Out"
          ],
          [
           0.009,
           "Out"
          ],
          [
           0.009,
           "Out"
          ],
          [
           0.4,
           "Out"
          ],
          [
           0.009,
           "Out"
          ],
          [
           0.02,
           "Out"
          ],
          [
           271,
           "Out"
          ],
          [
           0,
           "Out"
          ],
          [
           0.009,
           "Out"
          ],
          [
           0.1,
           "Out"
          ],
          [
           0.009,
           "Out"
          ],
          [
           0.009,
           "Out"
          ],
          [
           0.009,
           "Out"
          ],
          [
           1.1,
           "Out"
          ],
          [
           0.002,
           "Out"
          ],
          [
           1.3,
           "Out"
          ],
          [
           0.009,
           "Out"
          ],
          [
           0.009,
           "Out"
          ],
          [
           0.009,
           "Out"
          ],
          [
           0.002,
           "Out"
          ],
          [
           0.3,
           "Out"
          ],
          [
           0.19,
           "Out"
          ],
          [
           0.1,
           "Out"
          ],
          [
           0.5,
           "Out"
          ],
          [
           1,
           "Out"
          ],
          [
           1.6,
           "Out"
          ],
          [
           78,
           "Out"
          ],
          [
           38.62,
           "Out"
          ],
          [
           8.1,
           "Out"
          ],
          [
           1.5,
           "Out"
          ],
          [
           0.009,
           "Out"
          ],
          [
           0.009,
           "Out"
          ],
          [
           0.002,
           "Out"
          ],
          [
           0.08,
           "Out"
          ],
          [
           0.09,
           "Out"
          ],
          [
           0.009,
           "Out"
          ],
          [
           0.009,
           "Out"
          ],
          [
           0.009,
           "Out"
          ],
          [
           0.18,
           "Out"
          ],
          [
           0.16,
           "Out"
          ],
          [
           0.009,
           "Out"
          ],
          [
           0.3,
           "Out"
          ],
          [
           0.009,
           "Out"
          ],
          [
           0.009,
           "Out"
          ],
          [
           0.009,
           "Out"
          ],
          [
           0.009,
           "Out"
          ],
          [
           0.009,
           "Out"
          ],
          [
           0.009,
           "Out"
          ],
          [
           0.009,
           "Out"
          ],
          [
           0.04,
           "Out"
          ],
          [
           0.5,
           "Out"
          ],
          [
           40,
           "Out"
          ],
          [
           0.009,
           "Out"
          ],
          [
           0.009,
           "Out"
          ],
          [
           0.009,
           "Out"
          ],
          [
           1800,
           "Out"
          ],
          [
           0.03,
           "Out"
          ],
          [
           0.05,
           "Out"
          ],
          [
           19.3,
           "Out"
          ],
          [
           0.009,
           "Out"
          ],
          [
           0.1,
           "Out"
          ],
          [
           0.1,
           "Out"
          ],
          [
           0.009,
           "Out"
          ],
          [
           0.009,
           "Out"
          ],
          [
           6.5,
           "Out"
          ],
          [
           0.009,
           "Out"
          ],
          [
           0.009,
           "Out"
          ],
          [
           0.009,
           "Out"
          ],
          [
           0,
           "Out"
          ],
          [
           0.7,
           "Out"
          ],
          [
           0.02,
           "Out"
          ],
          [
           0.009,
           "Out"
          ],
          [
           0.009,
           "Out"
          ],
          [
           0.009,
           "Out"
          ],
          [
           1555,
           "Out"
          ],
          [
           0.1,
           "Out"
          ],
          [
           0.3,
           "Out"
          ],
          [
           0.009,
           "Out"
          ],
          [
           0.009,
           "Out"
          ],
          [
           0.5,
           "Out"
          ],
          [
           4.8,
           "Out"
          ],
          [
           0.009,
           "Out"
          ],
          [
           1,
           "Out"
          ],
          [
           0.009,
           "Out"
          ],
          [
           0.47,
           "Out"
          ],
          [
           0.009,
           "Out"
          ],
          [
           0.009,
           "Out"
          ],
          [
           0.01,
           "Out"
          ],
          [
           2.28,
           "Out"
          ],
          [
           0.2,
           "Out"
          ],
          [
           0.5,
           "Out"
          ],
          [
           995,
           "Out"
          ],
          [
           0.009,
           "Out"
          ],
          [
           0.1,
           "Out"
          ],
          [
           0.1,
           "Out"
          ],
          [
           6.9,
           "Out"
          ],
          [
           0.009,
           "Out"
          ],
          [
           0.009,
           "Out"
          ],
          [
           0.009,
           "Out"
          ],
          [
           0.26,
           "Out"
          ],
          [
           1.4,
           "Out"
          ],
          [
           27,
           "Out"
          ],
          [
           0.4,
           "Out"
          ],
          [
           0.009,
           "Out"
          ],
          [
           0.01,
           "Out"
          ],
          [
           0.009,
           "Out"
          ],
          [
           0.55,
           "Out"
          ],
          [
           0.3,
           "Out"
          ],
          [
           0.009,
           "Out"
          ],
          [
           17.4,
           "Out"
          ],
          [
           0.009,
           "Out"
          ],
          [
           0.5,
           "Out"
          ],
          [
           0.72,
           "Out"
          ],
          [
           0.01,
           "Out"
          ],
          [
           0.009,
           "Out"
          ],
          [
           0.1,
           "Out"
          ],
          [
           0.3,
           "Out"
          ],
          [
           1,
           "Out"
          ],
          [
           0.009,
           "Out"
          ],
          [
           0.009,
           "Out"
          ],
          [
           19.5,
           "Out"
          ],
          [
           0.009,
           "Out"
          ],
          [
           1.9,
           "Out"
          ],
          [
           0,
           "Out"
          ],
          [
           37.8,
           "Out"
          ],
          [
           0.01,
           "Out"
          ],
          [
           0.1,
           "Out"
          ],
          [
           0.009,
           "Out"
          ],
          [
           0.11,
           "Out"
          ],
          [
           0.009,
           "Out"
          ],
          [
           2.8,
           "Out"
          ],
          [
           34.8,
           "Out"
          ],
          [
           0.009,
           "Out"
          ],
          [
           0.009,
           "Out"
          ],
          [
           0,
           "Out"
          ],
          [
           0.75,
           "Out"
          ],
          [
           0.009,
           "Out"
          ],
          [
           0.17,
           "Out"
          ],
          [
           0.009,
           "Out"
          ],
          [
           0.88,
           "Out"
          ],
          [
           2.3,
           "Out"
          ],
          [
           0.009,
           "Out"
          ],
          [
           0.009,
           "Out"
          ],
          [
           135.9,
           "Out"
          ],
          [
           0.17,
           "Out"
          ],
          [
           0.009,
           "Out"
          ],
          [
           0.009,
           "Out"
          ],
          [
           0.009,
           "Out"
          ],
          [
           1.85,
           "Out"
          ],
          [
           0.009,
           "Out"
          ],
          [
           0.009,
           "Out"
          ],
          [
           0.009,
           "Out"
          ],
          [
           0.009,
           "Out"
          ],
          [
           0.1,
           "Out"
          ],
          [
           0.009,
           "Out"
          ],
          [
           0.009,
           "Out"
          ],
          [
           5.5,
           "Out"
          ],
          [
           0.77,
           "Out"
          ],
          [
           0.009,
           "Out"
          ],
          [
           0.009,
           "Out"
          ],
          [
           0.009,
           "Out"
          ],
          [
           0.009,
           "Out"
          ],
          [
           1.2,
           "Out"
          ],
          [
           0.1,
           "Out"
          ],
          [
           0.009,
           "Out"
          ],
          [
           0.009,
           "Out"
          ],
          [
           13,
           "Out"
          ],
          [
           8.2,
           "Out"
          ],
          [
           0.02,
           "Out"
          ],
          [
           0.009,
           "Out"
          ],
          [
           0,
           "Out"
          ],
          [
           0.009,
           "Out"
          ],
          [
           46,
           "Out"
          ],
          [
           0.1,
           "Out"
          ],
          [
           0.009,
           "Out"
          ],
          [
           0.009,
           "Out"
          ],
          [
           43,
           "Out"
          ],
          [
           0.009,
           "Out"
          ],
          [
           0.009,
           "Out"
          ],
          [
           0.07,
           "Out"
          ],
          [
           4.8,
           "Out"
          ],
          [
           0.07,
           "Out"
          ],
          [
           17,
           "Out"
          ],
          [
           0.009,
           "Out"
          ],
          [
           0.2,
           "Out"
          ],
          [
           1.1,
           "Out"
          ],
          [
           84,
           "Out"
          ],
          [
           0.009,
           "Out"
          ],
          [
           0.009,
           "Out"
          ],
          [
           1.7,
           "Out"
          ],
          [
           0.009,
           "Out"
          ],
          [
           0.009,
           "Out"
          ],
          [
           1.7,
           "Out"
          ],
          [
           0.9,
           "Out"
          ],
          [
           0.009,
           "Out"
          ],
          [
           0.009,
           "Out"
          ],
          [
           0.5,
           "Out"
          ],
          [
           0.5,
           "Out"
          ],
          [
           0.6,
           "Out"
          ],
          [
           0.009,
           "Out"
          ],
          [
           0.12,
           "Out"
          ],
          [
           35.8,
           "Out"
          ],
          [
           0.3,
           "Out"
          ],
          [
           0.009,
           "Out"
          ],
          [
           0.6,
           "Out"
          ],
          [
           0.16,
           "Out"
          ],
          [
           0.22,
           "Out"
          ],
          [
           0.1,
           "Out"
          ],
          [
           0.009,
           "Out"
          ],
          [
           0.009,
           "Out"
          ],
          [
           0.127,
           "Out"
          ],
          [
           0.009,
           "Out"
          ],
          [
           4.7,
           "Out"
          ],
          [
           60,
           "Out"
          ],
          [
           8.4,
           "Out"
          ],
          [
           0.009,
           "Out"
          ],
          [
           27.4,
           "Out"
          ],
          [
           7.13,
           "Out"
          ],
          [
           0.009,
           "Out"
          ],
          [
           0.09,
           "Out"
          ],
          [
           0.009,
           "Out"
          ],
          [
           0.009,
           "Out"
          ],
          [
           82,
           "Out"
          ],
          [
           3.6,
           "Out"
          ],
          [
           0.04,
           "Out"
          ],
          [
           147.6,
           "Out"
          ],
          [
           0.009,
           "Out"
          ],
          [
           0.009,
           "Out"
          ],
          [
           0.1,
           "Out"
          ],
          [
           0.4,
           "Out"
          ],
          [
           0.49,
           "Out"
          ],
          [
           290,
           "Out"
          ],
          [
           3,
           "Out"
          ],
          [
           0.009,
           "Out"
          ],
          [
           0,
           "Out"
          ],
          [
           0.009,
           "Out"
          ],
          [
           0.009,
           "Out"
          ],
          [
           0.009,
           "Out"
          ],
          [
           0.009,
           "Out"
          ],
          [
           0.009,
           "Out"
          ],
          [
           0.6,
           "Out"
          ],
          [
           0.3,
           "Out"
          ],
          [
           0.009,
           "Out"
          ],
          [
           0.009,
           "Out"
          ],
          [
           0.009,
           "Out"
          ],
          [
           0.001,
           "Out"
          ],
          [
           0.16,
           "Out"
          ],
          [
           0.1,
           "Out"
          ],
          [
           0.1,
           "Out"
          ],
          [
           0.1,
           "Out"
          ],
          [
           1.1,
           "Out"
          ],
          [
           0.009,
           "Out"
          ],
          [
           0.009,
           "Out"
          ]
         ],
         "hovertemplate": "<b>%{hovertext}</b><br><br>FIRESTATUS=%{customdata[1]}<br>LATITUDE=%{lat}<br>LONGITUDE=%{lon}<br>SIZE_HA=%{customdata[0]}<extra></extra>",
         "hovertext": [
          "C41494",
          "N71052",
          "G11274",
          "V32102",
          "V10959",
          "G30984",
          "C11208",
          "G70226",
          "C50212",
          "N10094",
          "G70499",
          "C51948",
          "K50283",
          "C41470",
          "K50113",
          "K21329",
          "N21630",
          "R22011",
          "K62181",
          "G81344",
          "K21520",
          "N41745",
          "G70260",
          "G80429",
          "G91877",
          "K41808",
          "C42145",
          "K21611",
          "G90908",
          "N20769",
          "K22174",
          "G41302",
          "K40126",
          "G30981",
          "N21398",
          "N11235",
          "R50406",
          "C11343",
          "K60343",
          "C21178",
          "K42246",
          "G90692",
          "G61412",
          "G31188",
          "G61920",
          "K52066",
          "K21352",
          "G51724",
          "G41593",
          "K21664",
          "N62062",
          "K20253",
          "N51789",
          "K22235",
          "K41835",
          "V60540",
          "K20678",
          "G31382",
          "C12197",
          "N21852",
          "K62367",
          "V11685",
          "G80461",
          "N22341",
          "C21642",
          "C10812",
          "G61695",
          "N71099",
          "G70293",
          "K62153",
          "R22228",
          "G10830",
          "C52104",
          "G10824",
          "K21387",
          "N22343",
          "C21060",
          "K40995",
          "G80469",
          "G11341",
          "G80551",
          "N70598",
          "G71377",
          "K41102",
          "V71945",
          "G61023",
          "K20031",
          "G90879",
          "V10326",
          "G71677",
          "V31395",
          "G70964",
          "G91722",
          "N41810",
          "C11238",
          "C41616",
          "C40970",
          "N71887",
          "K71824",
          "G70039",
          "G30068",
          "G70040",
          "G40102",
          "G80426",
          "G80188",
          "K60019",
          "K70175",
          "V80306",
          "N40500",
          "G50538",
          "K40238",
          "V90318",
          "G30755",
          "V81025",
          "N41589",
          "N42109",
          "G80428",
          "K41811",
          "C11265",
          "V82372",
          "G80400",
          "G40119",
          "G80438",
          "G30477",
          "K70650",
          "G90861",
          "G71720",
          "K41081",
          "N41830",
          "K40484",
          "K40486",
          "K71656",
          "C12060",
          "N71650",
          "N51926",
          "G92307",
          "G80016",
          "C20056",
          "G80155",
          "C10089",
          "G80008",
          "K60269",
          "G90220",
          "C20118",
          "G70183",
          "K70416",
          "G70167",
          "C10110",
          "V60030",
          "K60249",
          "C50087",
          "G80315",
          "N50391",
          "C50413",
          "G90668",
          "K70695",
          "G90917",
          "C50214",
          "V50099",
          "G31553",
          "G31361",
          "G71965",
          "K71863",
          "G32209",
          "N41785",
          "N42137",
          "G70149",
          "C42274",
          "G80447",
          "V92371",
          "N41897",
          "V82270",
          "N10165",
          "G70236",
          "G80189",
          "G30452",
          "V10564",
          "K40213",
          "VA0145",
          "K70783",
          "V70988",
          "C10787",
          "G91053",
          "G71689",
          "G71459",
          "G71746",
          "V10061",
          "N41764",
          "K71851",
          "G32231",
          "G32129",
          "C22358",
          "G72409",
          "R22425",
          "G72426",
          "V82401",
          "N10491",
          "C20006",
          "G70042",
          "G80071",
          "G30096",
          "N10250",
          "K40140",
          "K60018",
          "C50414",
          "R10208",
          "G90679",
          "G90698",
          "G90858",
          "V10802",
          "C10852",
          "K70955",
          "V10023",
          "V10024",
          "K71335",
          "K41113",
          "G61430",
          "N21295",
          "G31537",
          "K40104",
          "K20150",
          "G80273",
          "G80187",
          "G70257",
          "N20505",
          "N10503",
          "G90671",
          "G80465",
          "G10862",
          "V80883",
          "C50248",
          "V70488",
          "G10985",
          "K40982",
          "C10803",
          "N41076",
          "K51316",
          "G91715",
          "V70931",
          "V10073",
          "V10454",
          "V81728",
          "G32042",
          "G32041",
          "K51608",
          "N51858",
          "G72038",
          "N22215",
          "N71323",
          "N41755",
          "N41862",
          "R52252",
          "C11309",
          "C11554",
          "G80859",
          "G92306",
          "C42156",
          "G80424",
          "G11357",
          "K61584",
          "G10885",
          "G10825",
          "V10492",
          "G41161",
          "C42347",
          "N41756",
          "N71306",
          "K50247",
          "G32044",
          "R11690",
          "C41672",
          "K40332",
          "G91003",
          "K21546",
          "K41075",
          "C10906",
          "K72267",
          "G92312",
          "N52131",
          "K21540",
          "V61488",
          "N61383",
          "K20604",
          "G10847",
          "K40735",
          "V31833",
          "K62191",
          "G90734",
          "K21491",
          "G11214",
          "G31333",
          "G80409",
          "K21349",
          "V60760",
          "N51096",
          "K62350",
          "G80563",
          "G11618",
          "G31539",
          "G80468",
          "K21150",
          "VA2037",
          "G32032",
          "C40206",
          "K42336",
          "N21655",
          "G10822",
          "C12058",
          "N52012",
          "G32126",
          "G11005",
          "K21551",
          "G32149",
          "G91104",
          "V11297",
          "G41723",
          "G61902",
          "C42147",
          "K21495",
          "K60971",
          "N51913",
          "G31771",
          "N62072",
          "N61457",
          "K61969",
          "K52233",
          "K41818",
          "G30801",
          "G61927",
          "C30780",
          "K61646",
          "G40132",
          "R40455",
          "K50584",
          "N41757",
          "C51968",
          "K62050",
          "K50470",
          "K21865",
          "K50450",
          "K62107",
          "C50476",
          "G70764",
          "G11041",
          "K21093",
          "N71044",
          "K60395",
          "G10070",
          "N22327",
          "K62182",
          "K62075",
          "C10900",
          "R21198",
          "G80405",
          "K70107",
          "C20135",
          "C30779",
          "G11890",
          "G90893",
          "K70909",
          "K41372",
          "K51828",
          "C41873",
          "C42148",
          "N52166",
          "G32184",
          "G40163",
          "N72142",
          "G90643",
          "G90682",
          "N71092",
          "G10868",
          "G80561",
          "G82055",
          "K62154",
          "G10844",
          "C50281",
          "C41802",
          "N61409",
          "G10043",
          "G90675",
          "R11166",
          "V72130",
          "G80303",
          "G90996",
          "K60914",
          "N51114",
          "K41957",
          "G80733",
          "C30828",
          "G31480",
          "C42272",
          "K21393",
          "C30823",
          "N51157",
          "G80419",
          "K42157",
          "N51133",
          "N71315",
          "N52116",
          "C31408",
          "K41548",
          "K20693",
          "N11234",
          "R52368",
          "N61850",
          "N61881",
          "C50115",
          "K20943",
          "N22361",
          "K50842",
          "N71084",
          "V80296",
          "N12346",
          "G90324",
          "G90950",
          "G51766",
          "N10670",
          "K61068",
          "V52283",
          "V10427",
          "V11581",
          "N72192",
          "C51905",
          "G90688",
          "G61999",
          "G51629",
          "G30983",
          "G51174",
          "R20020",
          "VA0172",
          "N71105",
          "N51859",
          "K22339",
          "R32007",
          "C40519",
          "K22079",
          "G31231",
          "C21432",
          "G40138",
          "C10853",
          "K21622",
          "K22092",
          "C21460",
          "N21010",
          "G90665",
          "K20583",
          "G90570",
          "K60655",
          "C10136",
          "N70708",
          "R50508",
          "G40975",
          "N60403",
          "V31980",
          "G31301",
          "C21974",
          "K60630",
          "G40116",
          "K62163",
          "G90726",
          "N52265",
          "K60474",
          "G90319",
          "K62070",
          "N70606",
          "G90287",
          "V31837",
          "C52250",
          "G32057",
          "V71739",
          "N51107",
          "K42302",
          "N11598",
          "G80062",
          "K21485",
          "C40047",
          "V31973",
          "N71054",
          "C41609",
          "V60256",
          "G72427",
          "K21513",
          "G10848",
          "K22176",
          "K21360",
          "G90408",
          "K21582",
          "V31871",
          "G80036",
          "V62255",
          "N12086",
          "G70217",
          "G40235",
          "N72119",
          "R31964",
          "R50547",
          "G11953",
          "C21987",
          "R11283",
          "G90680",
          "G32085",
          "G10571",
          "N51125",
          "C21244",
          "K21795",
          "K20912",
          "K21456",
          "N61861",
          "N50351",
          "K21441",
          "V10291",
          "K41370",
          "G50543",
          "K62047",
          "K62094",
          "N21848",
          "N71148",
          "G10857",
          "G72308",
          "C40609",
          "G10092",
          "K20284",
          "K22170",
          "K52031",
          "G31262",
          "N71088",
          "G51778",
          "K21966",
          "G51624",
          "V81278",
          "G11050",
          "K61064",
          "V30737",
          "G41169",
          "K62178",
          "K60911",
          "N60124",
          "K21559",
          "K21521",
          "C42240",
          "G10869",
          "N51788",
          "N71886",
          "V62266",
          "G11257",
          "V32259",
          "N71145",
          "N62026",
          "N51857",
          "K21020",
          "G11247",
          "G11597",
          "N22298",
          "G90729",
          "N12207",
          "G51735",
          "V31961",
          "G51694",
          "N21806",
          "R32071",
          "K60673",
          "K41519",
          "N71332",
          "K51376",
          "K42208",
          "C21972",
          "K62268",
          "C51798",
          "K21570",
          "K62179",
          "N50003",
          "G80162",
          "N71299",
          "K41809",
          "C42194",
          "C10795",
          "K70934",
          "G31574",
          "K21375",
          "K20832",
          "G61004",
          "G90860",
          "K21453",
          "K21566",
          "R31959",
          "G31216",
          "N51139",
          "G90430",
          "G90700",
          "K52353",
          "K62054",
          "K60527",
          "C41433",
          "V12205",
          "G31713",
          "K51995",
          "K22134",
          "G32225",
          "K21569",
          "K61027",
          "C41587",
          "G11366",
          "G31252",
          "N51091",
          "G90209",
          "G41769",
          "K51866",
          "V60594",
          "C50067",
          "G10973",
          "K20114",
          "G90684",
          "C31008",
          "N71047",
          "K41984",
          "K41812",
          "N61991",
          "C30799",
          "C21422",
          "G90676",
          "K51915",
          "N51094",
          "V30304",
          "C40082",
          "C10874",
          "G80771",
          "V72315",
          "V70466",
          "K21374",
          "C41662",
          "N70229",
          "N60892",
          "C40986",
          "N20773",
          "K21793",
          "C31030",
          "G11275",
          "K21386",
          "K21555",
          "G90942",
          "C41407",
          "K22076",
          "K21552",
          "C20559",
          "N21885",
          "N12219",
          "K21950",
          "C52096",
          "C41510",
          "K62165",
          "C40013",
          "G11029",
          "G41326",
          "G40390",
          "G90954",
          "K21843",
          "G90966",
          "V30202",
          "K21511",
          "K22237",
          "G42303",
          "N11416",
          "V12084",
          "G10572",
          "K21353",
          "N61429",
          "K51015",
          "K21603",
          "K61572",
          "K52051",
          "G41921",
          "V72121",
          "V80336",
          "C51952",
          "N72048",
          "N10687",
          "G90944",
          "R90517",
          "R40544",
          "G80305",
          "N51221",
          "K20525",
          "N71675",
          "N41754",
          "R11428",
          "G11474",
          "K21514",
          "C41661",
          "K52328",
          "K41108",
          "N11500",
          "G90712",
          "N62087",
          "G80725",
          "G81691",
          "N10716",
          "K21680",
          "K41916",
          "K21979",
          "G11330",
          "N11219",
          "N61380",
          "R31962",
          "C12161",
          "C11509",
          "C31038",
          "K50478",
          "K62177",
          "K21567",
          "N51805",
          "K22195",
          "C21963",
          "G70001",
          "N42013",
          "G11051",
          "N50595",
          "N21718",
          "G11035",
          "G10130",
          "K62221",
          "K41468",
          "C10156",
          "K21524",
          "N72198",
          "V60702",
          "N72211",
          "V10441",
          "N70381",
          "K60193",
          "K62180",
          "G82264",
          "G70301",
          "N62217",
          "N11298",
          "C10821",
          "C20059",
          "K62189",
          "G80718",
          "G90289",
          "K21899",
          "G90709",
          "G90656",
          "R50546",
          "K60919",
          "V12089",
          "K21665",
          "R30142",
          "V30748",
          "N70346",
          "C41445",
          "G90644",
          "G51823",
          "K21390",
          "K21024",
          "N72210",
          "K21604",
          "G41183",
          "K62000",
          "G11253",
          "K60963",
          "R31706",
          "K62108",
          "N20958",
          "R90518",
          "N71089",
          "K21561",
          "G90717",
          "G80251",
          "K51834",
          "G90881",
          "K21620",
          "G41982",
          "G70411",
          "G80648",
          "G82236",
          "K42002",
          "K72311",
          "G41588",
          "G91732",
          "N61400",
          "C40496",
          "G90548",
          "G40766",
          "K21475",
          "K21663",
          "V30541",
          "G61196",
          "K21389",
          "C41406",
          "C40245",
          "C40074",
          "G90435",
          "C31547",
          "V10077",
          "G51193",
          "K40314",
          "R32164",
          "G10843",
          "G70241",
          "N52120",
          "K21392",
          "V50095",
          "V11816",
          "G10836",
          "K21738",
          "N71192",
          "G31046",
          "C10782",
          "N71140",
          "V50342",
          "K60463",
          "C21337",
          "V11970",
          "R11267",
          "K51856",
          "K21536",
          "C41391",
          "G11042",
          "G11032",
          "K41641",
          "G80467",
          "G30819",
          "K21985",
          "K20243",
          "V80090",
          "G80751",
          "K21558",
          "G91743",
          "K41919",
          "K70108",
          "K41508",
          "G61287",
          "G90888",
          "K21565",
          "V70539",
          "G80930",
          "C41702",
          "G31269",
          "K41776",
          "K22160",
          "C40037",
          "N71141",
          "G81701",
          "N70472",
          "G31209",
          "K62273",
          "K61967",
          "G31191",
          "N71083",
          "V10841",
          "K22238",
          "G90285",
          "V11006",
          "K50516",
          "G32110",
          "C21437",
          "G11693",
          "N52136",
          "G32046",
          "G40083",
          "C41469",
          "K21564",
          "N21207",
          "K21458",
          "V31971",
          "G51931",
          "K22314",
          "G70221",
          "K51365",
          "K20268",
          "C41350",
          "N51819",
          "R11179",
          "K60921",
          "K20159",
          "G31580",
          "R11246",
          "K51845",
          "N71232",
          "K20603",
          "G90697",
          "G41190",
          "N71660",
          "C21414",
          "C10121",
          "R52360",
          "N71048",
          "K21534",
          "G90558",
          "C21424",
          "G41512",
          "R32103",
          "C12098",
          "G31043",
          "K70915",
          "K60947",
          "N72117",
          "G71640",
          "C42113",
          "G11110",
          "K20480",
          "N21378",
          "V12083",
          "N71879",
          "G61868",
          "N21822",
          "G42091",
          "R11443",
          "G90905",
          "G10534",
          "N72227",
          "C21116",
          "G71080",
          "K21455",
          "C41725",
          "C10998",
          "G60774",
          "N71213",
          "N71097",
          "K41489",
          "G31236",
          "G70308",
          "C11821",
          "N60521",
          "G80004",
          "K20240",
          "V31896",
          "K51364",
          "K41078",
          "K51363",
          "G12352",
          "N21653",
          "K22169",
          "K60489",
          "V12033",
          "G52376",
          "K50436",
          "K21562",
          "G30263",
          "C40050",
          "K61522",
          "G80060",
          "G90230",
          "K21351",
          "N11017",
          "K21577",
          "G41471",
          "N61379",
          "K21679",
          "G31167",
          "K20903",
          "K22150",
          "N51358",
          "V31888",
          "C41538",
          "G71462",
          "K21556",
          "K21523",
          "G32203",
          "K62329",
          "C20101",
          "C12009",
          "G90637",
          "K61155",
          "G61187",
          "K21832",
          "G11782",
          "G31250",
          "G91138",
          "K21628",
          "V71721",
          "N10616",
          "K41061",
          "N71098",
          "G31606",
          "K62078",
          "N10601",
          "K61666",
          "G10886",
          "G10134",
          "G80394",
          "V80439",
          "K52428",
          "N71531",
          "K62039",
          "K21719",
          "V80672",
          "V10761",
          "K41368",
          "K20109",
          "G10926",
          "G32043",
          "N11063",
          "K22282",
          "C42151",
          "C21493",
          "G80216",
          "R22027",
          "N51135",
          "G11273",
          "N61988",
          "G11617",
          "G61181",
          "K41621",
          "V11990",
          "V12261",
          "N40897",
          "V50299",
          "K52417",
          "G51992",
          "N52226",
          "G80872",
          "K42004",
          "C11423",
          "C11260",
          "N51614",
          "V10341",
          "C10804",
          "C11476",
          "R31849",
          "C20168",
          "N51137",
          "C11411",
          "K41955",
          "R31703",
          "N52056",
          "K70913",
          "R30566",
          "N41230",
          "C21338",
          "K41777",
          "K41402",
          "R10357",
          "V71704",
          "N51636",
          "K51472",
          "K41289",
          "N51152",
          "C41590",
          "V11997",
          "G51272",
          "N62388",
          "K40715",
          "K42171",
          "N21255",
          "R30139",
          "R10387",
          "N51820",
          "C11305",
          "G32451",
          "V32375",
          "C41200",
          "C31291",
          "K51623",
          "V52420",
          "G51998",
          "C20404",
          "N61883",
          "K40704",
          "N41085",
          "C11585",
          "G61356",
          "C10805",
          "V71037",
          "G90976",
          "N71175",
          "K71847",
          "C41434",
          "N52143",
          "V12263",
          "N41875",
          "R12291",
          "C41421",
          "N10375",
          "C41425",
          "C11545",
          "V31983",
          "C10865",
          "C22423",
          "C10807",
          "G42138",
          "K70591",
          "V70745",
          "V12319",
          "N41506",
          "C31215",
          "N51072",
          "V51586",
          "C21184",
          "N71049",
          "V50366",
          "R22008",
          "N42124",
          "R41737",
          "C40951",
          "N51804",
          "C10902",
          "C12196",
          "G91001",
          "G52122",
          "N50608",
          "K20756",
          "K41975",
          "C21668",
          "R21264",
          "C22294",
          "K42213",
          "N41783",
          "R30932",
          "K41928",
          "K40481",
          "R30588",
          "R11239",
          "R21121",
          "N52074",
          "N42061",
          "R90625",
          "C11482",
          "R31994",
          "N42125",
          "K52381",
          "K40962",
          "R22430",
          "V52067",
          "N52450",
          "N40493",
          "K52144",
          "K40870",
          "V12220",
          "K41112",
          "C41399",
          "N51128",
          "C41501",
          "N51071",
          "G32431",
          "R22365",
          "C31473",
          "G41692",
          "K21941",
          "K21449",
          "N21388",
          "C11464",
          "N12216",
          "N61853",
          "G90645",
          "V60064",
          "K51895",
          "G31384",
          "K41687",
          "K62021",
          "G70002",
          "K60280",
          "N71101",
          "G72374",
          "K21436",
          "K21499",
          "G90677",
          "N61844",
          "N62232",
          "V30515",
          "G10855",
          "G11036",
          "R31907",
          "C40490",
          "V12243",
          "N41932",
          "N52135",
          "V32024",
          "C41596",
          "C32128",
          "V11937",
          "N41082",
          "R10179",
          "C32299",
          "G82459",
          "N42133",
          "G52052",
          "C41452",
          "C41583",
          "N41533",
          "K42281",
          "C20117",
          "V62111",
          "C31066",
          "C10815",
          "V71466",
          "V12284",
          "K70103",
          "G42345",
          "N60204",
          "C12127",
          "N51226",
          "K42331",
          "C10813",
          "G52034",
          "N52115",
          "V12242",
          "K41095",
          "C41205",
          "K42249",
          "C30788",
          "C41461",
          "N41405",
          "K41170",
          "G61900",
          "K41143",
          "C10811",
          "C41573",
          "K41454",
          "K41949",
          "K70727",
          "N50890",
          "V31904",
          "N51074",
          "C10084",
          "K41747",
          "G61293",
          "C11233",
          "K41803",
          "V32049",
          "N52099",
          "C10933",
          "K42260",
          "N40498",
          "R40876",
          "G41530",
          "N51151",
          "N51324",
          "C11189",
          "V12097",
          "N40923",
          "C10831",
          "C41954",
          "G92404",
          "C32175",
          "C31599",
          "N72359",
          "K42230",
          "G41180",
          "N71100",
          "C30808",
          "R11206",
          "C10806",
          "K72082",
          "C12318",
          "R11285",
          "N61394",
          "N42077",
          "K50977",
          "N51119",
          "N51129",
          "N72351",
          "V70562",
          "N51637",
          "N71840",
          "V12200",
          "C21277",
          "C31373",
          "C10224",
          "K41498",
          "N11296",
          "V51917",
          "G41934",
          "R22447",
          "N42155",
          "C12036",
          "K41217",
          "R22006",
          "K40560",
          "N51120",
          "V31797",
          "N51065",
          "N51229",
          "V71503",
          "N71147",
          "N52141",
          "G91106",
          "K42193",
          "V10873",
          "R10086",
          "R30578",
          "V12201",
          "N51124",
          "C11484",
          "G90880",
          "R12287",
          "N42159",
          "K72323",
          "C42146",
          "R22014",
          "K41371",
          "G82112",
          "N51122",
          "R50969",
          "K41946",
          "K41197",
          "G90967",
          "C41497",
          "N51222",
          "C31600",
          "K42003",
          "V12324",
          "C21960",
          "N40968",
          "K42173",
          "N41854",
          "R11923",
          "K42168",
          "N51325",
          "K42289",
          "N40596",
          "N52222",
          "C10791",
          "C22317",
          "V12018",
          "R21892",
          "K41186",
          "R11542",
          "K41403",
          "V31846",
          "G81619",
          "N41541",
          "R90746",
          "V71869",
          "C10875",
          "N51345",
          "N42088",
          "G42035",
          "K42290",
          "N41279",
          "N52386",
          "G51924",
          "C21909",
          "R10261",
          "N42206",
          "V72434",
          "G81019",
          "G41413",
          "G51774",
          "C10809",
          "C10814",
          "N40282",
          "G50497",
          "G61339",
          "K41362",
          "N51993",
          "V12320",
          "K70882",
          "C31478",
          "C41504",
          "N41765",
          "C10810",
          "C31781",
          "V12325",
          "C41615",
          "K41813",
          "K50974",
          "C41440",
          "C41438",
          "K41878",
          "G51989",
          "G91002",
          "N72472",
          "C10938",
          "N51165",
          "C11479",
          "R11918",
          "K72245",
          "G52022",
          "K41149",
          "R22457",
          "N52224",
          "N51906",
          "C42456",
          "N71045",
          "N41891",
          "C10838",
          "G90894",
          "C41417"
         ],
         "lat": [
          51.5341,
          49.4354,
          53.7878,
          49.7852,
          49.2762,
          53.4081,
          53.2524,
          56.0148,
          52.455,
          49.5812,
          55.7919,
          52.5422,
          49.8368,
          51.7495,
          49.2711,
          52.2722,
          50.7129,
          54.0686,
          50.1478,
          56.2885,
          51.3816,
          51.4468,
          55.6088,
          56.2679,
          58.7378,
          50.8663,
          51.2413,
          50.5205,
          58.9278,
          50.6229,
          50.694,
          53.2678,
          50.7045,
          53.4205,
          50.3943,
          49.2123,
          54.4114,
          53.2747,
          50.252,
          52.078,
          51.0759,
          59.0746,
          55.3141,
          53.1248,
          55.7222,
          49.2359,
          51.5785,
          54.8488,
          53.7851,
          52.3542,
          49.1496,
          50.8712,
          50.3226,
          52.2543,
          50.1503,
          48.7153,
          50.8754,
          53.4827,
          53.0815,
          50.601,
          49.8407,
          49.3209,
          56.9228,
          50.4533,
          52.1413,
          52.9492,
          56.3282,
          50.2951,
          55.9544,
          50.199,
          54.262,
          53.421,
          52.5421,
          53.9595,
          51.749,
          51.1378,
          52.0783,
          50.8708,
          56.7849,
          53.9073,
          57.8879,
          49.1421,
          55.8815,
          50.659,
          49.0701,
          55.5438,
          50.7119,
          58.9445,
          49.489,
          55.3092,
          50.19,
          55.6679,
          59.7112,
          50.9742,
          53.0704,
          51.7396,
          51.9926,
          49.7589,
          50.87,
          55.6766,
          53.2446,
          55.673,
          54.0259,
          56.8905,
          57.1519,
          50.1446,
          50.1819,
          49.9054,
          51.5083,
          55.0394,
          50.9725,
          50.1696,
          52.9983,
          50.3497,
          51.9962,
          51.5424,
          56.6455,
          51.0899,
          53.0458,
          50.0543,
          56.6754,
          54.0906,
          56.5467,
          52.3765,
          50.4088,
          59.2181,
          55.1536,
          50.9554,
          51.1308,
          50.2022,
          50.201,
          50.2559,
          53.1041,
          50.2082,
          50.2231,
          59.8796,
          56.5876,
          52.0281,
          56.9826,
          53.0577,
          56.6493,
          50.2565,
          58.7308,
          52.2152,
          55.6351,
          50.7062,
          55.636,
          52.7746,
          48.6345,
          50.2533,
          51.9235,
          56.3461,
          50.1111,
          52.8813,
          58.7685,
          50.3993,
          59.1992,
          52.0049,
          50.1828,
          52.0768,
          52.0813,
          55.8061,
          50.7987,
          52.263,
          51.9669,
          52.0326,
          55.6425,
          51.3396,
          56.3264,
          50.3713,
          51.6152,
          49.569,
          49.4228,
          55.754,
          57.1717,
          52.4761,
          49.288,
          50.9723,
          52.4064,
          50.7183,
          48.9738,
          53.1491,
          58.6622,
          55.666,
          55.0288,
          55.6693,
          49.2447,
          51.4366,
          50.804,
          52.1589,
          52.0908,
          52.1224,
          55.1125,
          53.6169,
          56.0159,
          49.8662,
          49.3002,
          52.0358,
          55.6796,
          56.8808,
          53.5564,
          49.6036,
          50.2529,
          49.5233,
          52.8794,
          54.3535,
          59.2374,
          59.043,
          58.9517,
          49.4162,
          53.1661,
          50.4244,
          49.2443,
          49.2433,
          50.0323,
          51.275,
          55.4969,
          50.0027,
          52.069,
          50.0236,
          51.598,
          56.6932,
          57.1457,
          55.9016,
          50.1601,
          49.8507,
          58.9607,
          56.3638,
          53.7388,
          50.4149,
          52.8698,
          49.1866,
          53.8095,
          50.3217,
          53.1515,
          50.7854,
          50.1025,
          59.7091,
          49.131,
          49.3015,
          49.454,
          49.5864,
          52.2208,
          52.1586,
          49.7123,
          50.1653,
          55.8719,
          50.1091,
          50.3847,
          51.1928,
          51.4621,
          54.0827,
          53.0217,
          52.8211,
          56.7636,
          59.7255,
          51.2709,
          56.2599,
          54.4848,
          50.0774,
          53.3388,
          53.8545,
          49.1422,
          53.1701,
          51.2465,
          51.1795,
          50.3765,
          49.959,
          52.803,
          53.3006,
          51.9874,
          50.6851,
          59.5354,
          51.413,
          50.9739,
          52.8716,
          50.3921,
          59.6244,
          49.3033,
          51.2904,
          49.06,
          49.482,
          50.7196,
          53.744,
          50.3676,
          50.4529,
          50.0855,
          59.5941,
          50.8371,
          53.9577,
          52.5153,
          56.4788,
          51.41,
          49.0616,
          50.2817,
          49.9611,
          57.9815,
          53.8822,
          52.5414,
          56.7865,
          50.8621,
          52.5414,
          52.1976,
          51.3038,
          50.6737,
          50.5638,
          53.9367,
          52.8757,
          50.651,
          53.1641,
          54.7431,
          51.9698,
          52.7519,
          59.6098,
          49.098,
          53.4279,
          55.1922,
          51.6334,
          50.8533,
          50.2257,
          50.1953,
          52.4024,
          49.7685,
          49.4405,
          50.1906,
          49.9394,
          51.0216,
          53.6167,
          55.6203,
          52.6154,
          50.471,
          54.1026,
          55.5395,
          49.6277,
          51.2062,
          52.6727,
          50.0096,
          49.2104,
          51.1652,
          49.3456,
          49.7263,
          52.6283,
          55.2101,
          53.7934,
          50.9822,
          49.5113,
          50.4585,
          53.8636,
          50.9838,
          50.1584,
          49.9694,
          52.9579,
          54.2558,
          56.224,
          50.4022,
          51.8905,
          52.6305,
          54.2525,
          59.6456,
          50.8065,
          50.8731,
          49.8485,
          51.7452,
          51.6429,
          49.2325,
          53.3683,
          53.9815,
          49.7002,
          59.5411,
          59.0071,
          50.1936,
          53.4268,
          57.8968,
          56.5948,
          49.5716,
          53.3419,
          52.0013,
          51.7445,
          49.5106,
          54.0212,
          59.2758,
          54.0745,
          49.4202,
          56.5486,
          59.2938,
          50.2148,
          50.3784,
          50.2307,
          56.9153,
          52.6252,
          52.7473,
          51.8443,
          51.2782,
          52.6665,
          50.1055,
          56.796,
          50.4671,
          50.6163,
          50.3393,
          49.2201,
          52.6771,
          51.02,
          50.7855,
          49.2312,
          54.4087,
          49.7495,
          49.5432,
          52.0513,
          50.88,
          50.8998,
          49.782,
          50.1866,
          49.6433,
          49.71,
          59.3139,
          59.3004,
          54.4315,
          49.797,
          49.1182,
          49.6889,
          49.3543,
          49.085,
          49.1756,
          52.5056,
          59.0793,
          55.2733,
          54.9384,
          53.4287,
          54.595,
          54.0835,
          52.3742,
          50.265,
          49.9894,
          51.215,
          55.0611,
          51.9763,
          51.2731,
          53.265,
          51.9827,
          53.5783,
          53.1643,
          51.2184,
          51.8388,
          51.994,
          50.476,
          58.3163,
          50.8745,
          58.3803,
          49.6639,
          52.9826,
          49.8231,
          54.2926,
          53.8676,
          49.5075,
          50.2175,
          52.7728,
          51.7458,
          49.3866,
          53.9921,
          50.0528,
          59.0199,
          50.4274,
          49.8786,
          59.1627,
          49.993,
          49.4861,
          59.2514,
          50.5326,
          51.927,
          53.4362,
          49.132,
          50.3874,
          50.6787,
          49.339,
          56.1573,
          51.4305,
          51.4047,
          49.9563,
          49.4498,
          51.8558,
          48.5873,
          55.6514,
          51.6214,
          53.7697,
          50.4038,
          52.3881,
          59.1943,
          51.2075,
          50.0606,
          56.3214,
          48.5889,
          49.7481,
          55.7667,
          54.0479,
          49.5872,
          54.9773,
          55.0636,
          53.6167,
          52.0736,
          53.8191,
          59.6633,
          52.8977,
          53.7632,
          50.6665,
          52.2539,
          50.7871,
          50.5965,
          50.5159,
          49.591,
          50.1036,
          51.444,
          49.4094,
          50.842,
          55.1049,
          50.1041,
          50.0795,
          50.6626,
          50.3953,
          54.1238,
          55.9119,
          51.5018,
          53.9368,
          51.2301,
          51.4075,
          49.2721,
          52.5402,
          50.2073,
          54.6868,
          51.2761,
          54.7558,
          50.2403,
          53.944,
          49.0345,
          50.1251,
          53.3907,
          50.2432,
          50.2088,
          49.2467,
          52.0596,
          50.8621,
          51.3925,
          53.4456,
          50.3188,
          50.0653,
          48.596,
          53.3261,
          49.7242,
          50.3585,
          49.6644,
          50.6012,
          50.8021,
          54.081,
          54.348,
          50.9326,
          59.0772,
          50.1146,
          54.4452,
          50.0298,
          54.4085,
          50.4009,
          54.6071,
          50.1715,
          50.9487,
          49.4637,
          49.6588,
          50.9806,
          51.7385,
          50.0936,
          51.721,
          52.0004,
          50.184,
          49.4181,
          56.179,
          50.3207,
          51.1075,
          51.493,
          53.1385,
          50.2435,
          52.7245,
          51.5208,
          50.9385,
          55.1843,
          59.1929,
          51.1642,
          52.3646,
          54.742,
          52.8938,
          50.1325,
          58.8502,
          59.0441,
          49.9233,
          50.0435,
          50.0693,
          51.7808,
          49.9808,
          53.1242,
          49.68,
          51.2313,
          52.2513,
          52.1113,
          49.3189,
          51.7916,
          55.0749,
          53.1879,
          50.3023,
          58.9248,
          54.0683,
          49.4847,
          48.6279,
          52.4605,
          54.6794,
          50.7229,
          59.0732,
          52.6156,
          49.4367,
          51.099,
          51.103,
          49.2271,
          52.622,
          52.4001,
          59.4542,
          49.377,
          50.4182,
          50.3176,
          51.8517,
          52.7216,
          57.0487,
          49.2821,
          49.225,
          51.5149,
          51.8878,
          49.002,
          49.49,
          51.2051,
          50.9526,
          50.547,
          52.4204,
          54.2593,
          51.7381,
          51.9643,
          59.1601,
          51.9705,
          51.3303,
          51.7186,
          52.0864,
          50.9735,
          49.5473,
          51.5475,
          52.5385,
          51.0103,
          50.1932,
          51.8146,
          53.5481,
          53.5819,
          54.0501,
          59.1675,
          50.7414,
          59.3479,
          50.4599,
          51.669,
          50.696,
          54.026,
          49.7813,
          49.8977,
          53.9435,
          51.2819,
          49.0657,
          49.7149,
          51.6016,
          50.2381,
          50.1102,
          54.0925,
          49.4036,
          49.9838,
          52.7107,
          49.1652,
          49.3113,
          58.9817,
          59.2232,
          55.0322,
          56.5874,
          50.5399,
          50.7016,
          50.5706,
          51.2039,
          54.3419,
          54.1196,
          50.5079,
          51.9323,
          49.5911,
          50.4378,
          49.5118,
          59.293,
          49.3604,
          57.8894,
          56.357,
          49.0432,
          51.3255,
          51.0975,
          50.5727,
          53.3698,
          49.8911,
          49.4902,
          54.7389,
          52.6462,
          52.5149,
          52.426,
          49.8902,
          50.2448,
          52.2556,
          50.384,
          50.6572,
          51.6344,
          55.9615,
          50.7044,
          53.9347,
          49.9678,
          50.2648,
          53.5212,
          54.1314,
          50.0827,
          51.187,
          53.0233,
          51.5473,
          49.5994,
          49.0612,
          49.4201,
          49.1002,
          49.0833,
          50.1396,
          50.1759,
          57.0394,
          55.9371,
          49.1857,
          50.0297,
          52.9253,
          52.1141,
          49.5696,
          56.5177,
          59.6011,
          51.5394,
          59.1945,
          59.0307,
          55.0505,
          50.1994,
          49.9683,
          52.3971,
          54.6449,
          49.9226,
          49.0122,
          51.634,
          59.543,
          55.2403,
          51.7439,
          50.7948,
          49.3738,
          51.5344,
          53.1803,
          49.9863,
          53.9462,
          50.1819,
          54.9534,
          49.9714,
          50.8976,
          59.2381,
          50.202,
          52.1786,
          59.1918,
          56.5818,
          49.3988,
          59.0208,
          51.825,
          53.8567,
          56.0925,
          56.9424,
          56.27,
          50.3371,
          50.2629,
          54.0447,
          59.6777,
          49.2841,
          51.0646,
          58.359,
          54.0611,
          51.2914,
          52.2883,
          50.1888,
          55.2221,
          50.8877,
          51.9225,
          51.6324,
          51.872,
          59.2091,
          52.6642,
          49.2622,
          54.5664,
          50.0145,
          55.673,
          53.3401,
          55.8894,
          49.2352,
          52.0192,
          49.818,
          49.3775,
          53.3662,
          51.5997,
          50.3391,
          53.4088,
          53.2146,
          50.3366,
          51.0792,
          50.138,
          52.3316,
          49.0002,
          53.7951,
          49.5052,
          51.3469,
          52.0227,
          53.7935,
          53.5464,
          50.2054,
          56.7787,
          53.698,
          51.9922,
          50.8264,
          50.0665,
          58.3985,
          51.2741,
          59.2295,
          50.7617,
          50.3898,
          51.1949,
          55.6025,
          59.0694,
          52.2656,
          49.2611,
          56.8985,
          51.5258,
          53.0894,
          51.2623,
          51.6162,
          51.6804,
          50.3414,
          56.714,
          49.1813,
          52.7149,
          50.3196,
          50.1876,
          53.1316,
          50.1803,
          49.7335,
          50.9739,
          59.7892,
          50.0453,
          49.779,
          52.6187,
          52.0926,
          54.4714,
          49.2033,
          52.3323,
          54.0647,
          51.1558,
          52.3325,
          50.3867,
          50.835,
          49.9879,
          55.1152,
          51.7102,
          55.7249,
          49.1377,
          50.9604,
          51.9793,
          50.6579,
          54.0442,
          50.1777,
          51.031,
          52.9592,
          54.3002,
          49.6387,
          50.7438,
          50.8041,
          59.125,
          53.238,
          50.525,
          51.8782,
          52.8925,
          54.3129,
          49.4434,
          51.3676,
          58.3193,
          51.8653,
          53.9951,
          55.0587,
          53.1384,
          53.3911,
          50.4581,
          50.1822,
          49.6,
          55.4382,
          51.6273,
          54.2855,
          51.2509,
          50.3972,
          50.0143,
          50.7713,
          55.9112,
          50.5587,
          53.186,
          54.3414,
          58.9363,
          53.7932,
          49.1888,
          52.5788,
          55.6824,
          50.5516,
          51.5971,
          52.968,
          55.2332,
          50.5777,
          50.2367,
          50.8548,
          53.2923,
          55.5303,
          52.5499,
          49.0075,
          56.1907,
          50.8621,
          50.3712,
          49.1712,
          50.9607,
          49.169,
          53.7903,
          50.2156,
          51.5679,
          50.1567,
          49.0299,
          54.4535,
          49.9418,
          52.2069,
          53.5541,
          51.3878,
          49.7628,
          56.2758,
          58.6686,
          50.9719,
          49.2475,
          51.8686,
          54.0603,
          49.4886,
          51.5186,
          52.7159,
          50.6321,
          50.5104,
          49.3114,
          50.5294,
          51.5565,
          55.5761,
          51.9654,
          51.3995,
          53.0258,
          49.8139,
          51.6,
          52.8755,
          59.5571,
          49.1531,
          55.2945,
          50.4494,
          53.9695,
          53.1658,
          59.2545,
          51.5033,
          49.3149,
          49.7253,
          51.2419,
          50.2873,
          52.8463,
          49.9401,
          49.5443,
          50.2953,
          53.4795,
          54.0262,
          56.6065,
          49.6389,
          49.4701,
          50.168,
          49.9651,
          51.0645,
          50.0697,
          49.1619,
          51.1344,
          50.8658,
          53.7799,
          52.8289,
          49.7193,
          50.805,
          51.8841,
          52.027,
          56.3813,
          54.0857,
          50.4008,
          54.0733,
          49.4323,
          53.9875,
          55.3012,
          50.6708,
          49.0065,
          49.0207,
          51.1389,
          49.7453,
          49.4794,
          54.8038,
          49.4769,
          56.3915,
          50.723,
          52.5587,
          52.9071,
          50.0197,
          49.319,
          52.7381,
          52.9066,
          54.9358,
          52.268,
          50.4313,
          52.7759,
          50.2893,
          55.1335,
          49.2469,
          50.449,
          54.7377,
          50.7728,
          52.1383,
          51.2509,
          50.712,
          54.0595,
          49.1941,
          50.1253,
          49.5165,
          51.3245,
          50.514,
          51.9314,
          49.2131,
          55.2118,
          49.5707,
          50.4181,
          51.3974,
          49.9172,
          54.6737,
          54.2406,
          50.6802,
          52.9926,
          52.9118,
          50.2459,
          51.7468,
          52.1817,
          49.4963,
          49.8184,
          55.2223,
          52.1181,
          49.509,
          50.0855,
          50.6142,
          52.9235,
          55.993,
          52.7729,
          49.247,
          58.3953,
          49.2673,
          50.8656,
          51.5604,
          49.2503,
          49.3458,
          50.5178,
          54.3191,
          51.8321,
          49.4107,
          51.4658,
          52.6118,
          49.9502,
          53.0179,
          51.7185,
          52.814,
          53.1927,
          50.8135,
          49.1679,
          49.5842,
          51.7125,
          52.1801,
          49.9138,
          49.6989,
          51.8027,
          49.4731,
          49.5077,
          54.5127,
          51.6641,
          55.3723,
          51.0407,
          50.389,
          52.8701,
          53.019,
          58.7906,
          54.653,
          49.2793,
          50.595,
          50.2559,
          52.1269,
          54.9979,
          51.8611,
          50.2458,
          51.2365,
          54.8261,
          50.7929,
          50.068,
          54.8438,
          53.5423,
          54.8147,
          49.3597,
          50.8022,
          59.9315,
          52.9208,
          54.9765,
          51.5897,
          49.8653,
          50.8908,
          54.1545,
          49.7894,
          50.5537,
          51.1693,
          49.0228,
          50.7578,
          49.8631,
          50.3914,
          51.6173,
          50.2163,
          51.2343,
          49.7058,
          52.536,
          54.2434,
          52.452,
          53.4792,
          51.5979,
          51.7315,
          50.3703,
          52.8635,
          49.5331,
          49.498,
          59.5045,
          48.6871,
          49.5381,
          52.9424,
          50.5309,
          50.0213,
          55.9601,
          50.1849,
          50.214,
          55.8862,
          50.7703,
          50.771,
          59.2315,
          49.6421,
          49.0797,
          49.77,
          53.7895,
          53.5245,
          55.6852,
          51.0643,
          49.7096,
          51.4177,
          49.0174,
          50.4812,
          52.0451,
          52.1878,
          49.2203,
          50.629,
          54.3013,
          52.5547,
          56.2916,
          51.8535,
          55.7705,
          51.3146,
          51.7828,
          52.0758,
          51.0188,
          52.6098,
          49.0792,
          52.2988,
          52.9592,
          49.2944,
          49.3109,
          50.1452,
          54.2123,
          49.056,
          52.7741,
          50.0001,
          50.0499,
          52.9395,
          55.2223,
          49.1551,
          49.0625,
          50.5219,
          51.7727,
          51.2444,
          52.638,
          51.8124,
          51.1851,
          49.9981,
          55.7103,
          51.0792,
          52.9107,
          51.7654,
          50.8678,
          50.3502,
          50.3675,
          50.2992,
          49.962,
          49.9845,
          53.0874,
          51.2787,
          55.4995,
          52.9159,
          50.7966,
          50.4827,
          49.4548,
          52.7805,
          50.9155,
          51.2977,
          55.9225,
          53.9011,
          50.5009,
          50.7183,
          53.2813,
          49.117,
          51.4136,
          53.1547,
          51.4715,
          58.9718,
          52.5568,
          52.6695,
          49.5754,
          50.4132,
          53.1802,
          50.3092,
          52.8436,
          53.7741,
          52.7966,
          50.9525,
          52.9159,
          53.7385,
          49.2029,
          51.6515,
          49.0366,
          50.6493,
          50.2175,
          49.6047,
          49.2494,
          50.2515,
          49.4068,
          49.0671,
          51.9235,
          52.7178,
          53.0136,
          51.1533,
          49.6066,
          49.5323,
          54.0752,
          54.0865,
          50.7208,
          52.9451,
          50.1805,
          53.7573,
          50.9573,
          50.1174,
          49.8801,
          49.8893,
          49.7371,
          49.2824,
          50.3901,
          49.2388,
          59.3894,
          50.718,
          49.0974,
          54.475,
          54.849,
          49.0955,
          50.6013,
          52.9323,
          58.9775,
          54.318,
          51.0035,
          50.6343,
          51.4541,
          53.777,
          50.6694,
          56.3775,
          50.1888,
          54.7126,
          50.3409,
          50.5532,
          59.267,
          51.489,
          50.0475,
          52.6757,
          50.5355,
          49.6681,
          51.5954,
          51.3429,
          51.129,
          51.0807,
          54.2965,
          50.4596,
          50.44,
          50.4265,
          51.2498,
          49.3352,
          53.0145,
          52.3448,
          49.076,
          54.0592,
          50.3717,
          53.686,
          51.0224,
          50.0635,
          56.3388,
          52.0036,
          58.9002,
          49.25,
          53.1296,
          49.7739,
          51.9045,
          53.7211,
          50.6636,
          51.2863,
          49.3639,
          55.0257,
          51.4258,
          54.1867,
          51.7598,
          49.2648,
          56.6867,
          54.0769,
          54.8555,
          52.9326,
          52.9472,
          51.3731,
          55.927,
          56.7453,
          50.9768,
          49.3192,
          49.5935,
          50.848,
          52.6114,
          51.3069,
          51.7898,
          52.9389,
          52.2773,
          49.8776,
          51.7485,
          51.0884,
          49.0169,
          51.6804,
          51.3216,
          51.2648,
          54.818,
          58.5945,
          49.068,
          52.9585,
          49.9883,
          52.8501,
          54.1382,
          50.6691,
          55.1417,
          50.8702,
          54.5218,
          49.3257,
          49.9172,
          51.4841,
          49.4675,
          51.6401,
          52.8206,
          58.8159,
          51.4959
         ],
         "legendgroup": "Out",
         "lon": [
          -121.3162,
          -117.3562,
          -123.3749,
          -123.2513,
          -121.6708,
          -120.5112,
          -121.948,
          -120.5496,
          -125.2995,
          -114.9717,
          -121.5956,
          -124.7855,
          -119.1011,
          -121.2247,
          -119.4967,
          -120.1191,
          -116.1815,
          -127.2064,
          -120.7992,
          -120.7949,
          -119.4957,
          -118.361,
          -120.1309,
          -120.8815,
          -122.6032,
          -119.2139,
          -121.5169,
          -120.614,
          -122.5319,
          -116.1349,
          -120.1853,
          -124.2974,
          -119.6456,
          -120.5488,
          -115.8928,
          -115.4145,
          -128.9982,
          -123.1825,
          -120.2742,
          -121.8568,
          -118.9313,
          -122.3533,
          -122.608,
          -119.7214,
          -124.8058,
          -119.761,
          -119.6525,
          -124.7901,
          -124.7677,
          -120.1561,
          -119.0813,
          -119.9588,
          -117.6753,
          -119.6481,
          -119.4348,
          -123.8106,
          -120.2836,
          -119.8197,
          -121.2081,
          -116.2654,
          -120.9198,
          -122.3773,
          -120.7599,
          -116.0186,
          -122.4207,
          -121.431,
          -124.2498,
          -116.9158,
          -120.6125,
          -120.9343,
          -127.4463,
          -121.2038,
          -125.3956,
          -120.653,
          -119.4656,
          -116.7206,
          -121.7915,
          -118.5954,
          -120.7353,
          -122.8183,
          -121.3463,
          -116.6806,
          -122.6198,
          -118.6446,
          -123.9455,
          -123.6376,
          -120.9757,
          -122.3806,
          -121.7629,
          -120.9605,
          -122.4737,
          -120.365,
          -124.0661,
          -118.1027,
          -123.28,
          -120.993,
          -120.5271,
          -116.9559,
          -121.8468,
          -120.3518,
          -120.102,
          -120.0143,
          -124.1971,
          -121.9997,
          -121.3984,
          -121.001,
          -121.5757,
          -125.2466,
          -117.494,
          -124.8227,
          -119.175,
          -126.6612,
          -119.3028,
          -126.042,
          -118.4814,
          -118.4911,
          -120.8082,
          -118.9468,
          -123.5265,
          -125.7859,
          -122.1262,
          -125.0623,
          -121.2288,
          -119.1719,
          -121.3653,
          -123.3223,
          -121.1468,
          -118.565,
          -118.2619,
          -119.2396,
          -119.2462,
          -121.4405,
          -121.7222,
          -117.0089,
          -117.6824,
          -123.7888,
          -120.902,
          -121.9202,
          -120.4533,
          -122.5239,
          -120.9596,
          -120.2776,
          -122.9852,
          -122.0813,
          -120.5579,
          -121.9235,
          -121.7634,
          -122.531,
          -123.6101,
          -120.2774,
          -123.1155,
          -121.7282,
          -118.0931,
          -125.6669,
          -122.7162,
          -121.3853,
          -122.2559,
          -123.1822,
          -123.9783,
          -119.2831,
          -119.275,
          -121.808,
          -122.3421,
          -119.2995,
          -117.958,
          -118.5023,
          -121.4439,
          -122.0992,
          -121.0299,
          -127.4028,
          -118.4823,
          -124.9743,
          -115.4038,
          -120.8257,
          -121.3598,
          -119.1287,
          -121.7855,
          -119.1675,
          -126.4781,
          -121.9168,
          -124.7344,
          -121.5824,
          -123.1365,
          -120.5712,
          -120.9688,
          -121.2198,
          -121.8744,
          -118.3479,
          -122.4323,
          -119.252,
          -119.2649,
          -122.6749,
          -120.522,
          -126.8176,
          -122.0916,
          -126.1416,
          -114.726,
          -121.9572,
          -121.6978,
          -120.6191,
          -120.6477,
          -115.6029,
          -119.4683,
          -120.718,
          -125.6879,
          -125.9026,
          -122.44,
          -122.122,
          -122.8167,
          -121.7528,
          -121.5933,
          -121.3942,
          -121.8752,
          -121.8705,
          -121.5516,
          -118.9713,
          -124.8389,
          -115.7418,
          -119.2712,
          -119.3298,
          -119.8828,
          -122.1539,
          -121.358,
          -120.4958,
          -115.796,
          -115.6408,
          -122.6363,
          -120.6103,
          -121.258,
          -126.2157,
          -125.6687,
          -124.4417,
          -122.4928,
          -119.3725,
          -121.5661,
          -118.1251,
          -119.5068,
          -124.0902,
          -123.856,
          -121.6233,
          -121.8547,
          -124.9561,
          -119.2807,
          -119.2553,
          -119.8667,
          -118.0063,
          -121.6089,
          -116.0552,
          -117.0137,
          -118.1111,
          -118.1872,
          -128.5894,
          -123.3934,
          -122.5748,
          -121.8693,
          -123.7331,
          -121.3946,
          -120.9593,
          -121.1742,
          -120.7668,
          -121.2535,
          -120.5458,
          -122.1335,
          -124.5246,
          -121.224,
          -118.1042,
          -117.0294,
          -119.5501,
          -119.2216,
          -127.0976,
          -121.3301,
          -119.0423,
          -124.0624,
          -120.0658,
          -118.8312,
          -121.5877,
          -121.6668,
          -127.082,
          -117.553,
          -120.2742,
          -123.9687,
          -119.134,
          -119.842,
          -120.7354,
          -118.638,
          -122.7135,
          -120.376,
          -123.3059,
          -120.5805,
          -123.2853,
          -119.0842,
          -121.1203,
          -120.1718,
          -124.4261,
          -117.7922,
          -120.7582,
          -121.5792,
          -120.5574,
          -118.8561,
          -120.679,
          -120.6941,
          -125.9347,
          -119.253,
          -121.107,
          -119.0126,
          -115.9558,
          -120.6328,
          -121.2558,
          -117.6295,
          -119.6689,
          -122.5737,
          -119.1009,
          -119.3641,
          -123.6415,
          -121.6156,
          -125.02,
          -122.7815,
          -121.4867,
          -120.5739,
          -120.7858,
          -117.7592,
          -118.7707,
          -118.6444,
          -119.1993,
          -120.6441,
          -119.8861,
          -118.9386,
          -120.3252,
          -125.0202,
          -121.5403,
          -121.2072,
          -124.8455,
          -128.2754,
          -119.7812,
          -118.0869,
          -125.1619,
          -120.8623,
          -119.6131,
          -119.9243,
          -119.5667,
          -120.659,
          -125.5045,
          -120.6061,
          -121.5157,
          -120.5252,
          -117.1704,
          -121.2957,
          -121.3251,
          -116.5292,
          -120.6583,
          -120.7888,
          -121.6706,
          -126.9005,
          -120.4023,
          -121.5374,
          -122.8695,
          -121.8242,
          -123.2565,
          -124.1218,
          -121.748,
          -119.1408,
          -119.3713,
          -121.4094,
          -121.0132,
          -117.9246,
          -120.3388,
          -124.3885,
          -117.0016,
          -123.0553,
          -121.4429,
          -117.0242,
          -121.2567,
          -121.3643,
          -122.301,
          -120.7546,
          -121.2604,
          -123.7309,
          -121.471,
          -119.0962,
          -122.8012,
          -122.3853,
          -126.1138,
          -124.7088,
          -120.7693,
          -123.5612,
          -120.7879,
          -118.1442,
          -118.6063,
          -120.4611,
          -121.7884,
          -119.5714,
          -121.684,
          -120.5102,
          -121.2392,
          -117.8578,
          -123.028,
          -119.9026,
          -117.5387,
          -116.9785,
          -117.6251,
          -120.981,
          -119.0945,
          -120.6723,
          -115.41,
          -129.0089,
          -118.7589,
          -119.1249,
          -123.5474,
          -120.2156,
          -116.4231,
          -119.7949,
          -116.882,
          -125.0947,
          -116.0692,
          -121.9885,
          -123.5131,
          -124.537,
          -115.7275,
          -120.5263,
          -123.7787,
          -121.9057,
          -121.9485,
          -115.9589,
          -125.3308,
          -122.3861,
          -123.1305,
          -123.8448,
          -120.5598,
          -125.2085,
          -126.599,
          -126.7497,
          -116.7862,
          -118.0495,
          -120.0641,
          -127.4327,
          -121.1303,
          -120.4136,
          -120.0471,
          -122.1621,
          -124.662,
          -121.5896,
          -119.9971,
          -120.3224,
          -122.1466,
          -116.0965,
          -122.1627,
          -119.5906,
          -121.8183,
          -120.7828,
          -122.9601,
          -116.9544,
          -128.5758,
          -124.7975,
          -118.3638,
          -122.8721,
          -119.3026,
          -122.1431,
          -120.5343,
          -123.8501,
          -120.8211,
          -122.4086,
          -117.9463,
          -120.6298,
          -121.0328,
          -121.1192,
          -117.3211,
          -122.1399,
          -122.7023,
          -124.7588,
          -120.4433,
          -124.1093,
          -117.8372,
          -118.7145,
          -115.8429,
          -120.7061,
          -119.2761,
          -121.1233,
          -123.079,
          -117.3521,
          -121.1645,
          -124.35,
          -121.9269,
          -120.0061,
          -120.7554,
          -120.2227,
          -120.2772,
          -123.1922,
          -120.4672,
          -122.492,
          -120.6049,
          -123.6287,
          -115.7459,
          -120.9361,
          -124.7777,
          -116.714,
          -127.4181,
          -128.7524,
          -123.4007,
          -122.0477,
          -125.232,
          -121.1853,
          -119.4254,
          -120.9245,
          -117.3785,
          -122.5678,
          -120.1036,
          -121.4461,
          -120.595,
          -118.7726,
          -117.8595,
          -119.4465,
          -121.4295,
          -119.1161,
          -125.3357,
          -120.8566,
          -120.6101,
          -116.3075,
          -117.0296,
          -121.9782,
          -120.4156,
          -121.144,
          -122.9612,
          -119.9821,
          -119.1118,
          -119.2733,
          -119.0648,
          -116.9061,
          -124.743,
          -119.6957,
          -125.27,
          -125.7749,
          -120.7702,
          -120.5762,
          -123.4001,
          -124.9965,
          -120.7114,
          -120.511,
          -118.4259,
          -119.0753,
          -120.4103,
          -122.1875,
          -121.2302,
          -117.6775,
          -116.7952,
          -123.8347,
          -123.2542,
          -123.0557,
          -117.0017,
          -118.9078,
          -117.4935,
          -121.2695,
          -120.7792,
          -122.298,
          -116.3521,
          -121.2554,
          -114.9301,
          -124.5773,
          -123.2777,
          -123.2157,
          -115.6131,
          -127.2746,
          -120.0815,
          -118.9602,
          -117.4911,
          -119.6989,
          -118.6427,
          -122.0795,
          -120.3361,
          -124.4553,
          -119.9167,
          -120.7921,
          -118.0323,
          -121.9882,
          -116.8984,
          -118.9737,
          -120.6161,
          -121.594,
          -121.6428,
          -119.283,
          -119.7,
          -119.6718,
          -122.765,
          -123.0478,
          -119.9261,
          -119.5791,
          -126.8533,
          -119.44,
          -117.8974,
          -121.692,
          -122.1805,
          -119.7486,
          -121.0982,
          -121.0786,
          -121.4724,
          -121.395,
          -119.9092,
          -119.1341,
          -120.4498,
          -119.3366,
          -119.7597,
          -120.4443,
          -120.9307,
          -122.4655,
          -119.6703,
          -117.8198,
          -123.2039,
          -124.083,
          -119.6477,
          -123.7034,
          -125.2866,
          -122.7694,
          -120.536,
          -122.3471,
          -121.5401,
          -117.2765,
          -118.9739,
          -118.9705,
          -118.0991,
          -121.2901,
          -122.2715,
          -123.0169,
          -119.2421,
          -117.9424,
          -122.8093,
          -121.3489,
          -121.9655,
          -120.6072,
          -124.5275,
          -125.0709,
          -119.7033,
          -121.0732,
          -116.2338,
          -118.357,
          -121.536,
          -116.8767,
          -119.8557,
          -121.0594,
          -122.8728,
          -119.4486,
          -119.5367,
          -123.4394,
          -121.3435,
          -120.3535,
          -119.063,
          -122.3558,
          -116.6378,
          -115.84,
          -119.8535,
          -125.3883,
          -121.0052,
          -120.2476,
          -121.2959,
          -120.9233,
          -123.5873,
          -124.4278,
          -123.4233,
          -121.461,
          -123.3954,
          -122.9493,
          -120.1559,
          -121.0813,
          -125.0468,
          -115.8148,
          -121.6993,
          -121.4573,
          -120.5208,
          -118.8732,
          -119.7585,
          -119.2997,
          -120.933,
          -119.5201,
          -124.833,
          -124.6768,
          -125.3848,
          -124.5298,
          -116.0261,
          -115.2943,
          -123.3841,
          -132.9273,
          -128.3477,
          -120.4861,
          -117.8289,
          -120.9631,
          -117.3791,
          -118.1568,
          -126.0472,
          -122.9932,
          -120.591,
          -121.1275,
          -119.5024,
          -118.654,
          -115.5018,
          -122.3699,
          -118.5061,
          -120.9875,
          -120.4735,
          -115.2942,
          -120.0681,
          -118.8403,
          -119.91,
          -121.0271,
          -115.9219,
          -119.0747,
          -126.8531,
          -122.564,
          -122.4286,
          -121.0634,
          -119.5902,
          -120.7562,
          -119.6469,
          -117.8417,
          -120.5861,
          -122.2821,
          -120.7303,
          -117.9118,
          -120.7218,
          -117.3625,
          -115.6985,
          -120.9302,
          -122.9074,
          -120.5623,
          -118.8836,
          -122.2962,
          -119.3643,
          -116.7288,
          -124.4271,
          -117.352,
          -121.4862,
          -116.1164,
          -121.0311,
          -120.7922,
          -121.4315,
          -121.9168,
          -118.1433,
          -114.8932,
          -121.6788,
          -122.1501,
          -120.7336,
          -120.7159,
          -121.8317,
          -119.5632,
          -122.2736,
          -121.744,
          -128.8041,
          -120.7306,
          -121.314,
          -120.0629,
          -126.9779,
          -122.3849,
          -115.8205,
          -121.3869,
          -123.0561,
          -124.8495,
          -119.4658,
          -121.1354,
          -117.2821,
          -119.1913,
          -124.5443,
          -120.7,
          -120.7413,
          -120.739,
          -127.3794,
          -120.881,
          -116.2344,
          -132.8683,
          -116.918,
          -119.7029,
          -123.0353,
          -121.2579,
          -119.641,
          -122.4014,
          -119.469,
          -123.6108,
          -122.4007,
          -120.8097,
          -120.53,
          -118.4546,
          -121.4211,
          -124.7263,
          -123.8211,
          -118.9378,
          -121.5756,
          -122.8055,
          -124.6166,
          -120.2634,
          -120.3954,
          -122.9116,
          -122.8761,
          -120.7306,
          -121.3753,
          -120.8719,
          -121.4153,
          -123.2568,
          -120.3625,
          -121.8732,
          -125.2593,
          -119.2996,
          -126.6963,
          -121.2422,
          -121.4139,
          -117.6317,
          -119.3688,
          -124.423,
          -121.4905,
          -121.7112,
          -119.4542,
          -116.9696,
          -120.5133,
          -121.335,
          -116.9754,
          -124.939,
          -120.9577,
          -122.2693,
          -121.8462,
          -125.3152,
          -119.6258,
          -120.2599,
          -120.4945,
          -121.5153,
          -120.9339,
          -119.2495,
          -120.6546,
          -120.4051,
          -119.2695,
          -120.0507,
          -125.4819,
          -120.8796,
          -120.0622,
          -123.2513,
          -118.9498,
          -121.5366,
          -119.089,
          -124.2806,
          -123.3751,
          -119.6749,
          -124.7836,
          -121.9731,
          -120.9622,
          -119.8279,
          -118.9688,
          -119.6298,
          -121.2164,
          -116.9811,
          -121.8211,
          -116.015,
          -119.384,
          -120.3001,
          -120.6379,
          -119.7187,
          -116.8749,
          -121.2182,
          -119.863,
          -121.6065,
          -121.5403,
          -119.5842,
          -119.1275,
          -122.1008,
          -123.0414,
          -117.5862,
          -119.227,
          -124.95,
          -120.9008,
          -119.6864,
          -115.999,
          -120.623,
          -123.006,
          -124.6487,
          -119.3729,
          -121.353,
          -119.5543,
          -119.5809,
          -120.5099,
          -117.5946,
          -126.0713,
          -120.615,
          -120.244,
          -119.4866,
          -125.921,
          -119.1187,
          -117.1697,
          -120.6681,
          -122.1633,
          -124.5626,
          -117.3913,
          -122.1274,
          -122.5073,
          -128.5429,
          -117.2366,
          -120.0874,
          -122.8043,
          -122.1377,
          -124.5273,
          -127.3923,
          -121.8413,
          -120.4617,
          -121.4304,
          -120.7734,
          -116.7008,
          -121.6061,
          -120.9725,
          -121.1012,
          -119.8739,
          -115.9467,
          -121.4141,
          -117.1588,
          -123.1856,
          -116.2267,
          -124.9397,
          -126.0461,
          -122.5151,
          -122.606,
          -116.0376,
          -122.0328,
          -121.4961,
          -120.615,
          -121.9471,
          -121.3927,
          -123.0736,
          -117.3826,
          -116.9695,
          -118.7916,
          -120.2513,
          -122.0889,
          -122.5672,
          -119.0352,
          -120.471,
          -120.1563,
          -122.8955,
          -119.6299,
          -118.5451,
          -119.6256,
          -122.818,
          -115.7853,
          -119.4234,
          -120.5228,
          -121.3635,
          -124.5702,
          -119.5001,
          -119.7353,
          -120.6469,
          -120.5681,
          -120.7761,
          -120.6504,
          -122.3047,
          -119.7348,
          -115.8018,
          -120.051,
          -124.9954,
          -119.0746,
          -120.48,
          -119.411,
          -121.6162,
          -120.1589,
          -117.2465,
          -122.7766,
          -121.4369,
          -121.6696,
          -119.5359,
          -119.4823,
          -119.8872,
          -120.5954,
          -122.4102,
          -121.1781,
          -123.1143,
          -120.61,
          -122.7073,
          -120.3666,
          -122.9331,
          -119.6844,
          -123.318,
          -120.0113,
          -124.3602,
          -115.8151,
          -118.9842,
          -116.8847,
          -118.5383,
          -120.6451,
          -115.7365,
          -120.0845,
          -121.251,
          -122.9836,
          -121.5521,
          -125.1018,
          -119.4621,
          -116.9683,
          -120.8401,
          -120.7945,
          -127.2882,
          -120.9361,
          -118.9423,
          -119.9564,
          -120.9652,
          -119.3617,
          -114.8663,
          -120.2246,
          -121.7332,
          -122.1903,
          -120.6027,
          -127.3073,
          -117.8772,
          -122.7806,
          -118.3739,
          -123.2118,
          -122.7008,
          -118.4679,
          -121.8379,
          -121.5344,
          -117.8639,
          -124.6163,
          -119.6459,
          -124.1777,
          -118.0772,
          -120.2461,
          -118.8675,
          -122.4715,
          -124.3551,
          -117.3895,
          -121.5958,
          -121.7299,
          -121.5271,
          -127.3049,
          -122.1084,
          -118.0129,
          -124.6883,
          -118.5505,
          -126.7198,
          -117.8721,
          -121.4001,
          -127.1227,
          -118.1668,
          -122.1597,
          -118.9882,
          -119.0827,
          -125.7587,
          -124.1072,
          -117.5704,
          -119.2116,
          -118.7089,
          -117.6492,
          -120.6808,
          -121.1246,
          -126.047,
          -118.7755,
          -118.4202,
          -118.9817,
          -115.9289,
          -127.1056,
          -125.7163,
          -117.7181,
          -121.45,
          -119.4478,
          -123.6459,
          -121.426,
          -120.4648,
          -119.63,
          -124.4542,
          -125.8477,
          -122.0418,
          -119.0629,
          -119.398,
          -118.0532,
          -121.6169,
          -123.7626,
          -121.6432,
          -124.7811,
          -122.8071,
          -116.9745,
          -122.6976,
          -120.5713,
          -117.7136,
          -121.5393,
          -117.9809,
          -125.19,
          -121.3649,
          -115.2964,
          -120.7022,
          -123.4493,
          -123.0554,
          -121.2427,
          -122.6458,
          -121.6399,
          -124.8015,
          -121.8505,
          -124.3128,
          -122.3118,
          -118.612,
          -120.4678,
          -117.4286,
          -123.9956,
          -122.2335,
          -117.3742,
          -123.8263,
          -126.3615,
          -118.5696,
          -127.4546,
          -121.4298,
          -117.8454,
          -121.566,
          -121.1051,
          -123.6228,
          -124.7513,
          -117.221,
          -120.3215,
          -118.4315,
          -122.2021,
          -126.405,
          -122.2811,
          -118.2779,
          -118.1584,
          -127.2679,
          -118.9274,
          -119.4315,
          -127.9511,
          -126.1273,
          -126.1635,
          -118.1056,
          -118.1301,
          -133.4124,
          -121.5311,
          -127.3638,
          -118.5297,
          -119.2257,
          -118.4438,
          -126.8878,
          -124.2127,
          -117.8728,
          -116.7973,
          -119.2566,
          -118.518,
          -121.4145,
          -118.6831,
          -120.958,
          -117.6475,
          -121.2847,
          -117.4518,
          -119.1455,
          -126.9613,
          -121.5066,
          -124.9381,
          -119.5726,
          -119.2915,
          -115.927,
          -121.6898,
          -114.8151,
          -119.1021,
          -123.0058,
          -123.5705,
          -119.2539,
          -119.5742,
          -118.7946,
          -120.8196,
          -121.3837,
          -120.714,
          -116.9853,
          -120.0824,
          -121.5936,
          -120.4437,
          -122.3282,
          -119.045,
          -118.3361,
          -123.137,
          -121.2841,
          -120.9076,
          -126.7371,
          -121.5748,
          -121.312,
          -118.4478,
          -117.2759,
          -122.6952,
          -120.7318,
          -120.8198,
          -121.9744,
          -117.9698,
          -125.8183,
          -120.9118,
          -121.1936,
          -118.6458,
          -125.7888,
          -120.6389,
          -121.0365,
          -118.4152,
          -118.9612,
          -122.1748,
          -124.0661,
          -121.1157,
          -121.2813,
          -124.7461,
          -122.028,
          -121.5724,
          -124.3677,
          -119.0012,
          -123.5446,
          -117.4896,
          -119.3691,
          -121.3811,
          -125.8477,
          -117.5916,
          -120.7447,
          -118.7801,
          -121.4723,
          -119.038,
          -121.3265,
          -121.2845,
          -116.7382,
          -119.2788,
          -123.1462,
          -118.8791,
          -121.4357,
          -121.5429,
          -119.5258,
          -118.6296,
          -121.393,
          -118.163,
          -123.1573,
          -117.3541,
          -124.4909,
          -118.9919,
          -124.8481,
          -124.3524,
          -119.4997,
          -122.6934,
          -117.8405,
          -123.36,
          -118.9582,
          -116.9877,
          -128.0504,
          -124.7087,
          -117.7075,
          -117.6524,
          -124.2498,
          -120.8191,
          -117.0475,
          -121.5745,
          -120.7778,
          -122.1296,
          -121.6349,
          -121.0283,
          -116.9428,
          -119.0984,
          -124.595,
          -116.9044,
          -121.5492,
          -126.177,
          -121.6788,
          -121.7655,
          -122.7003,
          -125.4308,
          -118.7624,
          -118.4088,
          -119.3928,
          -117.3584,
          -117.6305,
          -116.9424,
          -124.888,
          -117.6978,
          -117.4195,
          -120.964,
          -122.5699,
          -120.4406,
          -122.4954,
          -119.0258,
          -115.2897,
          -123.4695,
          -124.1738,
          -126.6379,
          -118.049,
          -123.0797,
          -118.6641,
          -127.078,
          -119.4862,
          -117.6512,
          -123.1594,
          -117.4016,
          -117.4129,
          -124.6938,
          -117.0363,
          -117.7787,
          -123.7299,
          -118.512,
          -121.9763,
          -126.2287,
          -127.952,
          -121.1554,
          -117.4204,
          -121.5428,
          -122.3987,
          -125.1917,
          -118.3036,
          -121.7873,
          -120.8612,
          -126.7017,
          -118.4426,
          -120.5904,
          -117.6491,
          -128.771,
          -118.3687,
          -118.3758,
          -122.4325,
          -121.2792,
          -117.7715,
          -121.0347,
          -118.6229,
          -121.4815,
          -122.2602,
          -116.9969,
          -118.5193,
          -118.3358,
          -126.0172,
          -119.0618,
          -117.7436,
          -118.8456,
          -116.6807,
          -118.1987,
          -121.435,
          -122.259,
          -120.9144,
          -126.5897,
          -118.3833,
          -125.5892,
          -119.3018,
          -122.3572,
          -120.7382,
          -118.2175,
          -130.4691,
          -124.8524,
          -121.1567,
          -117.4983,
          -118.5421,
          -124.927,
          -119.3214,
          -116.9367,
          -117.7097,
          -125.3035,
          -122.3559,
          -125.7295,
          -118.5936,
          -124.7239,
          -121.4047,
          -124.9889,
          -125.2894,
          -121.4123,
          -121.2983,
          -116.9874,
          -126.4163,
          -125.2382,
          -119.1959,
          -118.1117,
          -122.3651,
          -122.9066,
          -121.4281,
          -121.2873,
          -118.7043,
          -121.3894,
          -120.7241,
          -121.8053,
          -121.0193,
          -118.964,
          -119.7274,
          -121.4673,
          -121.3323,
          -118.9946,
          -124.1565,
          -123.7562,
          -116.6779,
          -123.0211,
          -117.4353,
          -121.8838,
          -125.48,
          -121.9389,
          -125.757,
          -118.7459,
          -126.8723,
          -118.0205,
          -117.2725,
          -121.1742,
          -117.3379,
          -118.495,
          -121.6312,
          -123.8761,
          -120.6186
         ],
         "marker": {
          "color": "#636efa"
         },
         "mode": "markers",
         "name": "Out",
         "showlegend": true,
         "subplot": "mapbox",
         "type": "scattermapbox"
        },
        {
         "customdata": [
          [
           1038,
           "Being Held"
          ],
          [
           122,
           "Being Held"
          ],
          [
           129.45,
           "Being Held"
          ],
          [
           1365.8,
           "Being Held"
          ],
          [
           487,
           "Being Held"
          ],
          [
           6684,
           "Being Held"
          ],
          [
           670,
           "Being Held"
          ],
          [
           0.009,
           "Being Held"
          ],
          [
           1858.6,
           "Being Held"
          ],
          [
           541,
           "Being Held"
          ],
          [
           146,
           "Being Held"
          ],
          [
           0.009,
           "Being Held"
          ],
          [
           122,
           "Being Held"
          ],
          [
           1,
           "Being Held"
          ],
          [
           0.04,
           "Being Held"
          ],
          [
           0.009,
           "Being Held"
          ],
          [
           4.5,
           "Being Held"
          ],
          [
           408.8,
           "Being Held"
          ],
          [
           40,
           "Being Held"
          ],
          [
           7.9,
           "Being Held"
          ],
          [
           772,
           "Being Held"
          ],
          [
           0.009,
           "Being Held"
          ],
          [
           27.5,
           "Being Held"
          ],
          [
           14,
           "Being Held"
          ],
          [
           0.004,
           "Being Held"
          ],
          [
           0.3,
           "Being Held"
          ],
          [
           17.8,
           "Being Held"
          ],
          [
           1104,
           "Being Held"
          ],
          [
           606.2,
           "Being Held"
          ],
          [
           11,
           "Being Held"
          ],
          [
           5979.9,
           "Being Held"
          ],
          [
           899.4,
           "Being Held"
          ],
          [
           41,
           "Being Held"
          ],
          [
           39.6,
           "Being Held"
          ],
          [
           0.009,
           "Being Held"
          ],
          [
           4082,
           "Being Held"
          ],
          [
           33.1,
           "Being Held"
          ],
          [
           65,
           "Being Held"
          ],
          [
           0.1,
           "Being Held"
          ],
          [
           138.15,
           "Being Held"
          ],
          [
           0.01,
           "Being Held"
          ],
          [
           13.2,
           "Being Held"
          ],
          [
           0.009,
           "Being Held"
          ],
          [
           306,
           "Being Held"
          ],
          [
           2234.8,
           "Being Held"
          ],
          [
           0.5,
           "Being Held"
          ],
          [
           25379.65,
           "Being Held"
          ],
          [
           17,
           "Being Held"
          ],
          [
           64.5,
           "Being Held"
          ],
          [
           19.9,
           "Being Held"
          ],
          [
           1.1,
           "Being Held"
          ],
          [
           1755.2,
           "Being Held"
          ],
          [
           0.009,
           "Being Held"
          ],
          [
           8.3,
           "Being Held"
          ],
          [
           0.009,
           "Being Held"
          ],
          [
           164,
           "Being Held"
          ],
          [
           39.6,
           "Being Held"
          ],
          [
           2565,
           "Being Held"
          ],
          [
           205.6,
           "Being Held"
          ],
          [
           19153,
           "Being Held"
          ],
          [
           399.4,
           "Being Held"
          ],
          [
           0.09,
           "Being Held"
          ],
          [
           11903.3,
           "Being Held"
          ],
          [
           748.8,
           "Being Held"
          ],
          [
           848.8,
           "Being Held"
          ],
          [
           14,
           "Being Held"
          ],
          [
           27.5,
           "Being Held"
          ],
          [
           23.4,
           "Being Held"
          ],
          [
           1,
           "Being Held"
          ],
          [
           489,
           "Being Held"
          ],
          [
           172,
           "Being Held"
          ],
          [
           5,
           "Being Held"
          ],
          [
           14.9,
           "Being Held"
          ],
          [
           0.16,
           "Being Held"
          ],
          [
           8615,
           "Being Held"
          ],
          [
           124,
           "Being Held"
          ],
          [
           240,
           "Being Held"
          ],
          [
           0.009,
           "Being Held"
          ],
          [
           0.009,
           "Being Held"
          ],
          [
           0.6,
           "Being Held"
          ],
          [
           12,
           "Being Held"
          ],
          [
           11155.64,
           "Being Held"
          ],
          [
           27956,
           "Being Held"
          ],
          [
           329,
           "Being Held"
          ],
          [
           0.2,
           "Being Held"
          ],
          [
           0.009,
           "Being Held"
          ],
          [
           880.2,
           "Being Held"
          ],
          [
           3.6,
           "Being Held"
          ],
          [
           19,
           "Being Held"
          ],
          [
           5,
           "Being Held"
          ]
         ],
         "hovertemplate": "<b>%{hovertext}</b><br><br>FIRESTATUS=%{customdata[1]}<br>LATITUDE=%{lat}<br>LONGITUDE=%{lon}<br>SIZE_HA=%{customdata[0]}<extra></extra>",
         "hovertext": [
          "N40835",
          "N71292",
          "N71657",
          "R21996",
          "N40834",
          "K61067",
          "N71176",
          "G90997",
          "N51069",
          "V32132",
          "N41086",
          "K42470",
          "N41288",
          "C31903",
          "N41759",
          "G91741",
          "V31872",
          "N40826",
          "N41549",
          "N41786",
          "V31836",
          "N41515",
          "N41525",
          "N41940",
          "N41709",
          "N62448",
          "G31770",
          "N41259",
          "N71144",
          "N41397",
          "N51103",
          "N21284",
          "N11212",
          "G62016",
          "N41594",
          "N51210",
          "G31612",
          "N41517",
          "C32454",
          "N51090",
          "N41760",
          "G31602",
          "N41787",
          "G90777",
          "N51117",
          "N11396",
          "G80270",
          "N41532",
          "N41256",
          "N41761",
          "V12385",
          "R31901",
          "N41943",
          "VA2204",
          "N41914",
          "K42023",
          "N51893",
          "N40871",
          "N51132",
          "N71058",
          "N51228",
          "N71880",
          "N21014",
          "G52030",
          "N51130",
          "V51936",
          "N41575",
          "N41763",
          "N41550",
          "N41079",
          "V12286",
          "G90849",
          "N52010",
          "N41910",
          "N21610",
          "G90765",
          "V31825",
          "N41535",
          "G32438",
          "N41242",
          "V51944",
          "G80286",
          "K70910",
          "V31860",
          "G91651",
          "N62301",
          "G51268",
          "N41911",
          "N11772",
          "V31864"
         ],
         "lat": [
          52.039,
          50.4112,
          50.6628,
          55.1117,
          52.0112,
          49.0872,
          49.2069,
          59.154,
          49.7171,
          50.3689,
          50.6134,
          50.7438,
          50.5905,
          52.6844,
          51.307,
          59.3578,
          49.9901,
          51.8461,
          51.7899,
          51.9748,
          50.5614,
          51.3459,
          51.5686,
          51.6278,
          52.1834,
          49.6965,
          52.4065,
          51.6399,
          50.3543,
          51.7099,
          49.9381,
          49.9183,
          49.897,
          55.9392,
          52.0569,
          49.889,
          52.465,
          51.9196,
          52.5566,
          50.4188,
          51.2803,
          52.4931,
          51.6163,
          59.9461,
          49.7407,
          49.7339,
          58.2329,
          52.0424,
          50.5072,
          51.2886,
          49.6749,
          55.2512,
          51.7093,
          52.787,
          52.0573,
          51.4959,
          50.3767,
          52.0503,
          50.6213,
          50.1719,
          49.9231,
          50.5815,
          49.8439,
          55.152,
          50.7968,
          50.5942,
          51.718,
          51.8623,
          51.8068,
          50.6346,
          49.9735,
          59.7089,
          50.6658,
          50.5579,
          50.46,
          59.7659,
          50.0887,
          52.1186,
          52.2609,
          51.31,
          50.869,
          58.1114,
          50.4921,
          50.2135,
          59.1317,
          49.2417,
          55.2,
          51.9622,
          49.7163,
          50.4283
         ],
         "legendgroup": "Being Held",
         "lon": [
          -117.943,
          -116.9328,
          -117.0278,
          -125.8815,
          -117.9263,
          -120.5331,
          -116.9818,
          -122.0716,
          -117.4409,
          -123.5638,
          -118.0608,
          -119.5216,
          -118.0544,
          -120.9746,
          -118.3722,
          -122.3363,
          -122.5677,
          -118.3869,
          -117.8355,
          -117.9411,
          -122.6898,
          -118.5659,
          -118.6542,
          -118.681,
          -118.3621,
          -118.6726,
          -118.7382,
          -116.7272,
          -117.0051,
          -116.6827,
          -117.4238,
          -115.9529,
          -115.9435,
          -123.182,
          -118.3249,
          -117.3649,
          -119.2679,
          -118.4243,
          -121.2336,
          -118.0327,
          -118.3039,
          -119.3844,
          -116.7273,
          -123.8886,
          -117.5298,
          -116.5421,
          -121.7004,
          -118.3102,
          -118.028,
          -118.3433,
          -122.264,
          -127.0698,
          -118.5343,
          -126.2458,
          -118.0913,
          -118.8763,
          -117.8166,
          -117.3818,
          -117.545,
          -116.8806,
          -117.536,
          -116.7628,
          -115.3862,
          -125.7998,
          -117.6355,
          -124.3523,
          -118.712,
          -118.4575,
          -117.8242,
          -117.9588,
          -122.1006,
          -127.3878,
          -117.6466,
          -118.0015,
          -115.6619,
          -123.9886,
          -122.3675,
          -118.3339,
          -118.4853,
          -118.3598,
          -124.1393,
          -120.3694,
          -121.368,
          -122.6928,
          -122.0686,
          -118.2145,
          -126.06,
          -118.5915,
          -116.559,
          -123.0905
         ],
         "marker": {
          "color": "#EF553B"
         },
         "mode": "markers",
         "name": "Being Held",
         "showlegend": true,
         "subplot": "mapbox",
         "type": "scattermapbox"
        },
        {
         "customdata": [
          [
           1469.26,
           "Under Control"
          ],
          [
           205,
           "Under Control"
          ],
          [
           39,
           "Under Control"
          ],
          [
           54,
           "Under Control"
          ],
          [
           237,
           "Under Control"
          ],
          [
           97,
           "Under Control"
          ],
          [
           6143.2,
           "Under Control"
          ],
          [
           14.4,
           "Under Control"
          ],
          [
           571.6,
           "Under Control"
          ],
          [
           129.42,
           "Under Control"
          ],
          [
           185,
           "Under Control"
          ],
          [
           2577,
           "Under Control"
          ],
          [
           3.02,
           "Under Control"
          ],
          [
           139.6,
           "Under Control"
          ],
          [
           1095.5,
           "Under Control"
          ],
          [
           4.6,
           "Under Control"
          ],
          [
           2847.1,
           "Under Control"
          ],
          [
           461,
           "Under Control"
          ],
          [
           3830.7,
           "Under Control"
          ],
          [
           2840.8,
           "Under Control"
          ],
          [
           198.3,
           "Under Control"
          ],
          [
           228,
           "Under Control"
          ],
          [
           5465.5,
           "Under Control"
          ],
          [
           542,
           "Under Control"
          ],
          [
           67,
           "Under Control"
          ],
          [
           7,
           "Under Control"
          ],
          [
           358.5,
           "Under Control"
          ],
          [
           6.12,
           "Under Control"
          ],
          [
           14.9,
           "Under Control"
          ],
          [
           50,
           "Under Control"
          ],
          [
           42.8,
           "Under Control"
          ],
          [
           15,
           "Under Control"
          ],
          [
           142,
           "Under Control"
          ],
          [
           0.009,
           "Under Control"
          ],
          [
           35.9,
           "Under Control"
          ],
          [
           0.08,
           "Under Control"
          ],
          [
           1261.9,
           "Under Control"
          ],
          [
           0.38,
           "Under Control"
          ],
          [
           107.2,
           "Under Control"
          ],
          [
           83,
           "Under Control"
          ],
          [
           0.1,
           "Under Control"
          ],
          [
           0.1,
           "Under Control"
          ],
          [
           784,
           "Under Control"
          ],
          [
           25,
           "Under Control"
          ],
          [
           1382,
           "Under Control"
          ],
          [
           113,
           "Under Control"
          ],
          [
           0.009,
           "Under Control"
          ],
          [
           95,
           "Under Control"
          ],
          [
           27.35,
           "Under Control"
          ],
          [
           139.9,
           "Under Control"
          ],
          [
           0.1,
           "Under Control"
          ],
          [
           0.009,
           "Under Control"
          ],
          [
           5680,
           "Under Control"
          ],
          [
           213,
           "Under Control"
          ],
          [
           0.2,
           "Under Control"
          ],
          [
           2132.63,
           "Under Control"
          ],
          [
           33.1,
           "Under Control"
          ],
          [
           1.68,
           "Under Control"
          ],
          [
           13.6,
           "Under Control"
          ],
          [
           12348,
           "Under Control"
          ],
          [
           2.6,
           "Under Control"
          ],
          [
           355,
           "Under Control"
          ],
          [
           0.009,
           "Under Control"
          ],
          [
           149.4,
           "Under Control"
          ],
          [
           73.16,
           "Under Control"
          ],
          [
           281.4,
           "Under Control"
          ],
          [
           1835.25,
           "Under Control"
          ],
          [
           52.3,
           "Under Control"
          ],
          [
           219.3,
           "Under Control"
          ],
          [
           230,
           "Under Control"
          ],
          [
           14277,
           "Under Control"
          ],
          [
           2788,
           "Under Control"
          ],
          [
           9.7,
           "Under Control"
          ],
          [
           550,
           "Under Control"
          ],
          [
           35,
           "Under Control"
          ],
          [
           247,
           "Under Control"
          ],
          [
           0.11,
           "Under Control"
          ],
          [
           1278.3,
           "Under Control"
          ],
          [
           100,
           "Under Control"
          ],
          [
           49.7,
           "Under Control"
          ],
          [
           0.009,
           "Under Control"
          ],
          [
           0.01,
           "Under Control"
          ],
          [
           183,
           "Under Control"
          ],
          [
           0.009,
           "Under Control"
          ],
          [
           0.009,
           "Under Control"
          ],
          [
           0.009,
           "Under Control"
          ],
          [
           1.64,
           "Under Control"
          ],
          [
           0.009,
           "Under Control"
          ],
          [
           291.3,
           "Under Control"
          ],
          [
           48.4,
           "Under Control"
          ],
          [
           21,
           "Under Control"
          ]
         ],
         "hovertemplate": "<b>%{hovertext}</b><br><br>FIRESTATUS=%{customdata[1]}<br>LATITUDE=%{lat}<br>LONGITUDE=%{lon}<br>SIZE_HA=%{customdata[0]}<extra></extra>",
         "hovertext": [
          "K21056",
          "K70302",
          "G10784",
          "N51131",
          "K21490",
          "G70772",
          "G51564",
          "G51978",
          "K21077",
          "G31245",
          "G10827",
          "K21354",
          "G72185",
          "C11348",
          "K21563",
          "K41280",
          "K21172",
          "G31220",
          "K21560",
          "G41227",
          "C10792",
          "K21173",
          "G41261",
          "C51951",
          "V31841",
          "K41062",
          "C10786",
          "G61385",
          "G61381",
          "G91018",
          "K41505",
          "K72257",
          "C10840",
          "N52364",
          "N51146",
          "K42445",
          "K41109",
          "G70972",
          "N51223",
          "N51126",
          "N12436",
          "G42370",
          "K41796",
          "N71218",
          "C31182",
          "R80763",
          "G90649",
          "N51123",
          "G82080",
          "G41243",
          "K42229",
          "R31976",
          "N21427",
          "N51127",
          "G61925",
          "G80854",
          "G81281",
          "G90713",
          "G31359",
          "G90267",
          "N12442",
          "R90740",
          "N22305",
          "G81369",
          "G71355",
          "K41070",
          "G80549",
          "N51579",
          "R50752",
          "V61401",
          "C11303",
          "G80262",
          "V12081",
          "N51156",
          "G91977",
          "N51134",
          "G90999",
          "G52123",
          "R32020",
          "G31266",
          "C32452",
          "N41855",
          "K41814",
          "G82403",
          "K41502",
          "K41817",
          "V52440",
          "N42188",
          "G91031",
          "K41290",
          "K41111"
         ],
         "lat": [
          51.9465,
          50.8913,
          53.7719,
          50.6294,
          51.4567,
          55.5083,
          54.5447,
          55.2112,
          52.2785,
          53.3322,
          53.7337,
          51.42,
          55.4395,
          53.288,
          52.361,
          51.3068,
          52.2181,
          53.2455,
          52.1661,
          53.3905,
          52.871,
          52.1784,
          53.111,
          52.6258,
          50.281,
          51.1261,
          53.1295,
          56.7328,
          56.2805,
          59.6319,
          51.5506,
          50.5351,
          53.009,
          50.2245,
          50.093,
          50.1135,
          50.3802,
          56.0192,
          50.0226,
          50.2066,
          49.2333,
          54.0924,
          50.5147,
          50.5867,
          52.6357,
          53.8918,
          58.925,
          50.6512,
          57.0107,
          54.2934,
          51.0134,
          54.9926,
          51.0954,
          50.6958,
          57.3792,
          57.534,
          56.4971,
          59.1024,
          53.0165,
          58.8689,
          49.0155,
          59.8355,
          50.7256,
          56.5302,
          55.1555,
          50.7856,
          57.9,
          50.2528,
          54.8012,
          48.4668,
          52.9875,
          57.2879,
          50.0066,
          50.69,
          59.0879,
          50.4494,
          59.1447,
          54.8453,
          55.5919,
          52.487,
          52.6866,
          51.0226,
          50.6558,
          57.1419,
          51.4686,
          50.9605,
          49.6633,
          51.0842,
          58.7023,
          51.3271,
          50.3258
         ],
         "legendgroup": "Under Control",
         "lon": [
          -119.9217,
          -122.6687,
          -121.2652,
          -117.586,
          -119.1985,
          -120.24,
          -125.033,
          -124.398,
          -120.3492,
          -119.7303,
          -120.7716,
          -120.1078,
          -121.1401,
          -121.152,
          -119.7207,
          -118.6858,
          -120.1252,
          -119.9765,
          -119.7055,
          -124.69,
          -121.5782,
          -120.1009,
          -125.2403,
          -124.5937,
          -122.9062,
          -118.9263,
          -121.1393,
          -123.8049,
          -123.7804,
          -125.5572,
          -118.9199,
          -121.895,
          -121.2322,
          -117.5759,
          -117.6664,
          -119.2588,
          -118.3899,
          -122.5437,
          -117.7122,
          -117.6511,
          -115.2782,
          -124.1122,
          -119.337,
          -117.3946,
          -120.3393,
          -129.6194,
          -121.7174,
          -117.3688,
          -120.4263,
          -124.4053,
          -118.5971,
          -127.4827,
          -116.7758,
          -117.5958,
          -127.3363,
          -120.1398,
          -122.9619,
          -122.3048,
          -119.7947,
          -122.9756,
          -115.6654,
          -131.4189,
          -116.6441,
          -120.0086,
          -121.5201,
          -118.884,
          -121.3833,
          -117.6471,
          -128.25,
          -123.7306,
          -121.4071,
          -121.5688,
          -121.4075,
          -117.4942,
          -122.771,
          -117.7097,
          -122.0617,
          -124.1456,
          -126.9488,
          -119.4927,
          -122.0935,
          -118.353,
          -118.5395,
          -122.2329,
          -118.8555,
          -118.5574,
          -123.3934,
          -118.3404,
          -123.7519,
          -118.7036,
          -118.3487
         ],
         "marker": {
          "color": "#00cc96"
         },
         "mode": "markers",
         "name": "Under Control",
         "showlegend": true,
         "subplot": "mapbox",
         "type": "scattermapbox"
        },
        {
         "customdata": [
          [
           2451,
           "Out of Control"
          ],
          [
           1417,
           "Out of Control"
          ],
          [
           123,
           "Out of Control"
          ],
          [
           87,
           "Out of Control"
          ],
          [
           3245.5,
           "Out of Control"
          ],
          [
           24.22,
           "Out of Control"
          ],
          [
           117.75,
           "Out of Control"
          ],
          [
           0.09,
           "Out of Control"
          ],
          [
           0.13,
           "Out of Control"
          ],
          [
           0.5,
           "Out of Control"
          ],
          [
           501824.3,
           "Out of Control"
          ],
          [
           17,
           "Out of Control"
          ],
          [
           14368.4,
           "Out of Control"
          ],
          [
           6.3,
           "Out of Control"
          ],
          [
           0.009,
           "Out of Control"
          ],
          [
           166,
           "Out of Control"
          ],
          [
           33282.5,
           "Out of Control"
          ],
          [
           4276.51,
           "Out of Control"
          ],
          [
           3.37,
           "Out of Control"
          ],
          [
           405,
           "Out of Control"
          ],
          [
           1.37,
           "Out of Control"
          ],
          [
           0.009,
           "Out of Control"
          ],
          [
           458,
           "Out of Control"
          ],
          [
           976.99,
           "Out of Control"
          ],
          [
           0.36,
           "Out of Control"
          ],
          [
           14171,
           "Out of Control"
          ],
          [
           1304.26,
           "Out of Control"
          ],
          [
           0.5,
           "Out of Control"
          ],
          [
           16472,
           "Out of Control"
          ],
          [
           1246,
           "Out of Control"
          ],
          [
           87.9,
           "Out of Control"
          ],
          [
           1874,
           "Out of Control"
          ],
          [
           0.009,
           "Out of Control"
          ],
          [
           56039.2,
           "Out of Control"
          ],
          [
           1644.34,
           "Out of Control"
          ],
          [
           163294.3,
           "Out of Control"
          ],
          [
           17,
           "Out of Control"
          ],
          [
           231,
           "Out of Control"
          ],
          [
           2503,
           "Out of Control"
          ]
         ],
         "hovertemplate": "<b>%{hovertext}</b><br><br>FIRESTATUS=%{customdata[1]}<br>LATITUDE=%{lat}<br>LONGITUDE=%{lon}<br>SIZE_HA=%{customdata[0]}<extra></extra>",
         "hovertext": [
          "G41159",
          "G41160",
          "C11153",
          "G90683",
          "G92253",
          "G91714",
          "G91033",
          "G90690",
          "K22469",
          "G90851",
          "G90228",
          "G90730",
          "R12015",
          "G32190",
          "N42476",
          "G90741",
          "R11201",
          "G90686",
          "G92309",
          "G91790",
          "G92310",
          "N62449",
          "G90994",
          "R40993",
          "G32461",
          "G90939",
          "G90992",
          "G92477",
          "G90399",
          "R11930",
          "G72443",
          "R12040",
          "G92424",
          "R11204",
          "G92348",
          "G90207",
          "C32446",
          "R32019",
          "G61013"
         ],
         "lat": [
          53.1362,
          53.231,
          52.9672,
          59.3632,
          59.4647,
          59.7093,
          59.7273,
          59.3575,
          50.5505,
          59.1043,
          58.794,
          59.2524,
          53.6388,
          53.0603,
          50.8212,
          59.2722,
          53.3848,
          59.898,
          59.7086,
          59.5384,
          59.6583,
          49.5733,
          59.0721,
          56.0949,
          52.2524,
          59.2214,
          58.1842,
          58.7772,
          59.436,
          54.5198,
          55.0231,
          53.0911,
          59.8442,
          53.5915,
          59.126,
          59.3103,
          52.9071,
          55.0575,
          58.1842
         ],
         "legendgroup": "Out of Control",
         "lon": [
          -124.4973,
          -124.6203,
          -121.1502,
          -122.9227,
          -122.7971,
          -124.0902,
          -124.1805,
          -121.1399,
          -120.4689,
          -127.7571,
          -121.6269,
          -122.3885,
          -126.7282,
          -120.1894,
          -117.9871,
          -127.9144,
          -126.0235,
          -121.8552,
          -124.2253,
          -127.2258,
          -124.169,
          -118.5634,
          -122.3427,
          -127.9188,
          -118.5314,
          -128.1909,
          -124.5236,
          -127.143,
          -120.5631,
          -125.5624,
          -120.2623,
          -126.643,
          -123.8986,
          -126.2854,
          -127.9343,
          -123.2825,
          -120.3403,
          -127.4331,
          -125.5228
         ],
         "marker": {
          "color": "#ab63fa"
         },
         "mode": "markers",
         "name": "Out of Control",
         "showlegend": true,
         "subplot": "mapbox",
         "type": "scattermapbox"
        }
       ],
       "layout": {
        "height": 500,
        "legend": {
         "title": {
          "text": "FIRESTATUS"
         },
         "tracegroupgap": 0
        },
        "mapbox": {
         "center": {
          "lat": 52.377794875,
          "lon": -121.009018875
         },
         "domain": {
          "x": [
           0,
           1
          ],
          "y": [
           0,
           1
          ]
         },
         "style": "open-street-map",
         "zoom": 5
        },
        "margin": {
         "b": 0,
         "l": 0,
         "r": 0,
         "t": 0
        },
        "template": {
         "data": {
          "bar": [
           {
            "error_x": {
             "color": "#2a3f5f"
            },
            "error_y": {
             "color": "#2a3f5f"
            },
            "marker": {
             "line": {
              "color": "#E5ECF6",
              "width": 0.5
             },
             "pattern": {
              "fillmode": "overlay",
              "size": 10,
              "solidity": 0.2
             }
            },
            "type": "bar"
           }
          ],
          "barpolar": [
           {
            "marker": {
             "line": {
              "color": "#E5ECF6",
              "width": 0.5
             },
             "pattern": {
              "fillmode": "overlay",
              "size": 10,
              "solidity": 0.2
             }
            },
            "type": "barpolar"
           }
          ],
          "carpet": [
           {
            "aaxis": {
             "endlinecolor": "#2a3f5f",
             "gridcolor": "white",
             "linecolor": "white",
             "minorgridcolor": "white",
             "startlinecolor": "#2a3f5f"
            },
            "baxis": {
             "endlinecolor": "#2a3f5f",
             "gridcolor": "white",
             "linecolor": "white",
             "minorgridcolor": "white",
             "startlinecolor": "#2a3f5f"
            },
            "type": "carpet"
           }
          ],
          "choropleth": [
           {
            "colorbar": {
             "outlinewidth": 0,
             "ticks": ""
            },
            "type": "choropleth"
           }
          ],
          "contour": [
           {
            "colorbar": {
             "outlinewidth": 0,
             "ticks": ""
            },
            "colorscale": [
             [
              0,
              "#0d0887"
             ],
             [
              0.1111111111111111,
              "#46039f"
             ],
             [
              0.2222222222222222,
              "#7201a8"
             ],
             [
              0.3333333333333333,
              "#9c179e"
             ],
             [
              0.4444444444444444,
              "#bd3786"
             ],
             [
              0.5555555555555556,
              "#d8576b"
             ],
             [
              0.6666666666666666,
              "#ed7953"
             ],
             [
              0.7777777777777778,
              "#fb9f3a"
             ],
             [
              0.8888888888888888,
              "#fdca26"
             ],
             [
              1,
              "#f0f921"
             ]
            ],
            "type": "contour"
           }
          ],
          "contourcarpet": [
           {
            "colorbar": {
             "outlinewidth": 0,
             "ticks": ""
            },
            "type": "contourcarpet"
           }
          ],
          "heatmap": [
           {
            "colorbar": {
             "outlinewidth": 0,
             "ticks": ""
            },
            "colorscale": [
             [
              0,
              "#0d0887"
             ],
             [
              0.1111111111111111,
              "#46039f"
             ],
             [
              0.2222222222222222,
              "#7201a8"
             ],
             [
              0.3333333333333333,
              "#9c179e"
             ],
             [
              0.4444444444444444,
              "#bd3786"
             ],
             [
              0.5555555555555556,
              "#d8576b"
             ],
             [
              0.6666666666666666,
              "#ed7953"
             ],
             [
              0.7777777777777778,
              "#fb9f3a"
             ],
             [
              0.8888888888888888,
              "#fdca26"
             ],
             [
              1,
              "#f0f921"
             ]
            ],
            "type": "heatmap"
           }
          ],
          "heatmapgl": [
           {
            "colorbar": {
             "outlinewidth": 0,
             "ticks": ""
            },
            "colorscale": [
             [
              0,
              "#0d0887"
             ],
             [
              0.1111111111111111,
              "#46039f"
             ],
             [
              0.2222222222222222,
              "#7201a8"
             ],
             [
              0.3333333333333333,
              "#9c179e"
             ],
             [
              0.4444444444444444,
              "#bd3786"
             ],
             [
              0.5555555555555556,
              "#d8576b"
             ],
             [
              0.6666666666666666,
              "#ed7953"
             ],
             [
              0.7777777777777778,
              "#fb9f3a"
             ],
             [
              0.8888888888888888,
              "#fdca26"
             ],
             [
              1,
              "#f0f921"
             ]
            ],
            "type": "heatmapgl"
           }
          ],
          "histogram": [
           {
            "marker": {
             "pattern": {
              "fillmode": "overlay",
              "size": 10,
              "solidity": 0.2
             }
            },
            "type": "histogram"
           }
          ],
          "histogram2d": [
           {
            "colorbar": {
             "outlinewidth": 0,
             "ticks": ""
            },
            "colorscale": [
             [
              0,
              "#0d0887"
             ],
             [
              0.1111111111111111,
              "#46039f"
             ],
             [
              0.2222222222222222,
              "#7201a8"
             ],
             [
              0.3333333333333333,
              "#9c179e"
             ],
             [
              0.4444444444444444,
              "#bd3786"
             ],
             [
              0.5555555555555556,
              "#d8576b"
             ],
             [
              0.6666666666666666,
              "#ed7953"
             ],
             [
              0.7777777777777778,
              "#fb9f3a"
             ],
             [
              0.8888888888888888,
              "#fdca26"
             ],
             [
              1,
              "#f0f921"
             ]
            ],
            "type": "histogram2d"
           }
          ],
          "histogram2dcontour": [
           {
            "colorbar": {
             "outlinewidth": 0,
             "ticks": ""
            },
            "colorscale": [
             [
              0,
              "#0d0887"
             ],
             [
              0.1111111111111111,
              "#46039f"
             ],
             [
              0.2222222222222222,
              "#7201a8"
             ],
             [
              0.3333333333333333,
              "#9c179e"
             ],
             [
              0.4444444444444444,
              "#bd3786"
             ],
             [
              0.5555555555555556,
              "#d8576b"
             ],
             [
              0.6666666666666666,
              "#ed7953"
             ],
             [
              0.7777777777777778,
              "#fb9f3a"
             ],
             [
              0.8888888888888888,
              "#fdca26"
             ],
             [
              1,
              "#f0f921"
             ]
            ],
            "type": "histogram2dcontour"
           }
          ],
          "mesh3d": [
           {
            "colorbar": {
             "outlinewidth": 0,
             "ticks": ""
            },
            "type": "mesh3d"
           }
          ],
          "parcoords": [
           {
            "line": {
             "colorbar": {
              "outlinewidth": 0,
              "ticks": ""
             }
            },
            "type": "parcoords"
           }
          ],
          "pie": [
           {
            "automargin": true,
            "type": "pie"
           }
          ],
          "scatter": [
           {
            "fillpattern": {
             "fillmode": "overlay",
             "size": 10,
             "solidity": 0.2
            },
            "type": "scatter"
           }
          ],
          "scatter3d": [
           {
            "line": {
             "colorbar": {
              "outlinewidth": 0,
              "ticks": ""
             }
            },
            "marker": {
             "colorbar": {
              "outlinewidth": 0,
              "ticks": ""
             }
            },
            "type": "scatter3d"
           }
          ],
          "scattercarpet": [
           {
            "marker": {
             "colorbar": {
              "outlinewidth": 0,
              "ticks": ""
             }
            },
            "type": "scattercarpet"
           }
          ],
          "scattergeo": [
           {
            "marker": {
             "colorbar": {
              "outlinewidth": 0,
              "ticks": ""
             }
            },
            "type": "scattergeo"
           }
          ],
          "scattergl": [
           {
            "marker": {
             "colorbar": {
              "outlinewidth": 0,
              "ticks": ""
             }
            },
            "type": "scattergl"
           }
          ],
          "scattermapbox": [
           {
            "marker": {
             "colorbar": {
              "outlinewidth": 0,
              "ticks": ""
             }
            },
            "type": "scattermapbox"
           }
          ],
          "scatterpolar": [
           {
            "marker": {
             "colorbar": {
              "outlinewidth": 0,
              "ticks": ""
             }
            },
            "type": "scatterpolar"
           }
          ],
          "scatterpolargl": [
           {
            "marker": {
             "colorbar": {
              "outlinewidth": 0,
              "ticks": ""
             }
            },
            "type": "scatterpolargl"
           }
          ],
          "scatterternary": [
           {
            "marker": {
             "colorbar": {
              "outlinewidth": 0,
              "ticks": ""
             }
            },
            "type": "scatterternary"
           }
          ],
          "surface": [
           {
            "colorbar": {
             "outlinewidth": 0,
             "ticks": ""
            },
            "colorscale": [
             [
              0,
              "#0d0887"
             ],
             [
              0.1111111111111111,
              "#46039f"
             ],
             [
              0.2222222222222222,
              "#7201a8"
             ],
             [
              0.3333333333333333,
              "#9c179e"
             ],
             [
              0.4444444444444444,
              "#bd3786"
             ],
             [
              0.5555555555555556,
              "#d8576b"
             ],
             [
              0.6666666666666666,
              "#ed7953"
             ],
             [
              0.7777777777777778,
              "#fb9f3a"
             ],
             [
              0.8888888888888888,
              "#fdca26"
             ],
             [
              1,
              "#f0f921"
             ]
            ],
            "type": "surface"
           }
          ],
          "table": [
           {
            "cells": {
             "fill": {
              "color": "#EBF0F8"
             },
             "line": {
              "color": "white"
             }
            },
            "header": {
             "fill": {
              "color": "#C8D4E3"
             },
             "line": {
              "color": "white"
             }
            },
            "type": "table"
           }
          ]
         },
         "layout": {
          "annotationdefaults": {
           "arrowcolor": "#2a3f5f",
           "arrowhead": 0,
           "arrowwidth": 1
          },
          "autotypenumbers": "strict",
          "coloraxis": {
           "colorbar": {
            "outlinewidth": 0,
            "ticks": ""
           }
          },
          "colorscale": {
           "diverging": [
            [
             0,
             "#8e0152"
            ],
            [
             0.1,
             "#c51b7d"
            ],
            [
             0.2,
             "#de77ae"
            ],
            [
             0.3,
             "#f1b6da"
            ],
            [
             0.4,
             "#fde0ef"
            ],
            [
             0.5,
             "#f7f7f7"
            ],
            [
             0.6,
             "#e6f5d0"
            ],
            [
             0.7,
             "#b8e186"
            ],
            [
             0.8,
             "#7fbc41"
            ],
            [
             0.9,
             "#4d9221"
            ],
            [
             1,
             "#276419"
            ]
           ],
           "sequential": [
            [
             0,
             "#0d0887"
            ],
            [
             0.1111111111111111,
             "#46039f"
            ],
            [
             0.2222222222222222,
             "#7201a8"
            ],
            [
             0.3333333333333333,
             "#9c179e"
            ],
            [
             0.4444444444444444,
             "#bd3786"
            ],
            [
             0.5555555555555556,
             "#d8576b"
            ],
            [
             0.6666666666666666,
             "#ed7953"
            ],
            [
             0.7777777777777778,
             "#fb9f3a"
            ],
            [
             0.8888888888888888,
             "#fdca26"
            ],
            [
             1,
             "#f0f921"
            ]
           ],
           "sequentialminus": [
            [
             0,
             "#0d0887"
            ],
            [
             0.1111111111111111,
             "#46039f"
            ],
            [
             0.2222222222222222,
             "#7201a8"
            ],
            [
             0.3333333333333333,
             "#9c179e"
            ],
            [
             0.4444444444444444,
             "#bd3786"
            ],
            [
             0.5555555555555556,
             "#d8576b"
            ],
            [
             0.6666666666666666,
             "#ed7953"
            ],
            [
             0.7777777777777778,
             "#fb9f3a"
            ],
            [
             0.8888888888888888,
             "#fdca26"
            ],
            [
             1,
             "#f0f921"
            ]
           ]
          },
          "colorway": [
           "#636efa",
           "#EF553B",
           "#00cc96",
           "#ab63fa",
           "#FFA15A",
           "#19d3f3",
           "#FF6692",
           "#B6E880",
           "#FF97FF",
           "#FECB52"
          ],
          "font": {
           "color": "#2a3f5f"
          },
          "geo": {
           "bgcolor": "white",
           "lakecolor": "white",
           "landcolor": "#E5ECF6",
           "showlakes": true,
           "showland": true,
           "subunitcolor": "white"
          },
          "hoverlabel": {
           "align": "left"
          },
          "hovermode": "closest",
          "mapbox": {
           "style": "light"
          },
          "paper_bgcolor": "white",
          "plot_bgcolor": "#E5ECF6",
          "polar": {
           "angularaxis": {
            "gridcolor": "white",
            "linecolor": "white",
            "ticks": ""
           },
           "bgcolor": "#E5ECF6",
           "radialaxis": {
            "gridcolor": "white",
            "linecolor": "white",
            "ticks": ""
           }
          },
          "scene": {
           "xaxis": {
            "backgroundcolor": "#E5ECF6",
            "gridcolor": "white",
            "gridwidth": 2,
            "linecolor": "white",
            "showbackground": true,
            "ticks": "",
            "zerolinecolor": "white"
           },
           "yaxis": {
            "backgroundcolor": "#E5ECF6",
            "gridcolor": "white",
            "gridwidth": 2,
            "linecolor": "white",
            "showbackground": true,
            "ticks": "",
            "zerolinecolor": "white"
           },
           "zaxis": {
            "backgroundcolor": "#E5ECF6",
            "gridcolor": "white",
            "gridwidth": 2,
            "linecolor": "white",
            "showbackground": true,
            "ticks": "",
            "zerolinecolor": "white"
           }
          },
          "shapedefaults": {
           "line": {
            "color": "#2a3f5f"
           }
          },
          "ternary": {
           "aaxis": {
            "gridcolor": "white",
            "linecolor": "white",
            "ticks": ""
           },
           "baxis": {
            "gridcolor": "white",
            "linecolor": "white",
            "ticks": ""
           },
           "bgcolor": "#E5ECF6",
           "caxis": {
            "gridcolor": "white",
            "linecolor": "white",
            "ticks": ""
           }
          },
          "title": {
           "x": 0.05
          },
          "xaxis": {
           "automargin": true,
           "gridcolor": "white",
           "linecolor": "white",
           "ticks": "",
           "title": {
            "standoff": 15
           },
           "zerolinecolor": "white",
           "zerolinewidth": 2
          },
          "yaxis": {
           "automargin": true,
           "gridcolor": "white",
           "linecolor": "white",
           "ticks": "",
           "title": {
            "standoff": 15
           },
           "zerolinecolor": "white",
           "zerolinewidth": 2
          }
         }
        }
       }
      }
     },
     "metadata": {},
     "output_type": "display_data"
    }
   ],
   "source": [
    "map_fig = px.scatter_mapbox(wildfire_data_cleaned,\n",
    "                                lat=\"LATITUDE\", lon=\"LONGITUDE\",\n",
    "                                color=\"FIRESTATUS\",\n",
    "                                hover_name=\"FIRE_NO\",\n",
    "                                hover_data={\"SIZE_HA\": True, \"FIRESTATUS\": True},\n",
    "                                zoom=5,\n",
    "                                height=500)\n",
    "\n",
    "map_fig.update_layout(mapbox_style=\"open-street-map\")\n",
    "map_fig.update_layout(margin={\"r\":0,\"t\":0,\"l\":0,\"b\":0})\n",
    "\n",
    "map_fig"
   ]
  },
  {
   "cell_type": "markdown",
   "metadata": {},
   "source": [
    "# 3 Merging the two dataframes"
   ]
  },
  {
   "cell_type": "markdown",
   "metadata": {},
   "source": [
    "## 3.1 Annotating wildfire with the forest name. "
   ]
  },
  {
   "cell_type": "code",
   "execution_count": 24,
   "metadata": {},
   "outputs": [
    {
     "data": {
      "text/html": [
       "<div>\n",
       "<style scoped>\n",
       "    .dataframe tbody tr th:only-of-type {\n",
       "        vertical-align: middle;\n",
       "    }\n",
       "\n",
       "    .dataframe tbody tr th {\n",
       "        vertical-align: top;\n",
       "    }\n",
       "\n",
       "    .dataframe thead th {\n",
       "        text-align: right;\n",
       "    }\n",
       "</style>\n",
       "<table border=\"1\" class=\"dataframe\">\n",
       "  <thead>\n",
       "    <tr style=\"text-align: right;\">\n",
       "      <th></th>\n",
       "      <th>FIRE_NO</th>\n",
       "      <th>FIRE_YEAR</th>\n",
       "      <th>RSPNS_TYPC</th>\n",
       "      <th>IGN_DATE</th>\n",
       "      <th>FR_T_DTE</th>\n",
       "      <th>FIRESTATUS</th>\n",
       "      <th>FIRE_CAUSE</th>\n",
       "      <th>GEO_DESC</th>\n",
       "      <th>LATITUDE</th>\n",
       "      <th>LONGITUDE</th>\n",
       "      <th>SIZE_HA</th>\n",
       "      <th>FIRE_URL</th>\n",
       "      <th>geometry</th>\n",
       "      <th>index_right</th>\n",
       "      <th>FEATURE_ID</th>\n",
       "      <th>PRV_FRST_D</th>\n",
       "      <th>PRV_FRST_N</th>\n",
       "      <th>OBJECTID</th>\n",
       "      <th>AREA_SQM</th>\n",
       "      <th>FEAT_LEN</th>\n",
       "    </tr>\n",
       "  </thead>\n",
       "  <tbody>\n",
       "    <tr>\n",
       "      <th>0</th>\n",
       "      <td>C41494</td>\n",
       "      <td>2024</td>\n",
       "      <td>Full</td>\n",
       "      <td>20240722192118</td>\n",
       "      <td>20240723195709</td>\n",
       "      <td>Out</td>\n",
       "      <td>Lightning</td>\n",
       "      <td>E of Keith Lake</td>\n",
       "      <td>51.5341</td>\n",
       "      <td>-121.3162</td>\n",
       "      <td>0.009</td>\n",
       "      <td>https://wildfiresituation.nrs.gov.bc.ca/incide...</td>\n",
       "      <td>POINT (-121.31618 51.53405)</td>\n",
       "      <td>292.0</td>\n",
       "      <td>2168</td>\n",
       "      <td>104</td>\n",
       "      <td>Lac La Hache</td>\n",
       "      <td>103049.0</td>\n",
       "      <td>7.462096e+09</td>\n",
       "      <td>6.874360e+05</td>\n",
       "    </tr>\n",
       "    <tr>\n",
       "      <th>1</th>\n",
       "      <td>N71052</td>\n",
       "      <td>2024</td>\n",
       "      <td>Full</td>\n",
       "      <td>20240717190017</td>\n",
       "      <td>20240722162310</td>\n",
       "      <td>Out</td>\n",
       "      <td>Lightning</td>\n",
       "      <td>Upper Sandy Creek</td>\n",
       "      <td>49.4354</td>\n",
       "      <td>-117.3562</td>\n",
       "      <td>0.300</td>\n",
       "      <td>https://wildfiresituation.nrs.gov.bc.ca/incide...</td>\n",
       "      <td>POINT (-117.35617 49.43542)</td>\n",
       "      <td>7.0</td>\n",
       "      <td>2091</td>\n",
       "      <td>56</td>\n",
       "      <td>Lardeau</td>\n",
       "      <td>102816.0</td>\n",
       "      <td>1.426446e+09</td>\n",
       "      <td>3.002559e+05</td>\n",
       "    </tr>\n",
       "    <tr>\n",
       "      <th>2</th>\n",
       "      <td>G11274</td>\n",
       "      <td>2024</td>\n",
       "      <td>Full</td>\n",
       "      <td>20240719160000</td>\n",
       "      <td>20240720130429</td>\n",
       "      <td>Out</td>\n",
       "      <td>Lightning</td>\n",
       "      <td>Norman Lake</td>\n",
       "      <td>53.7878</td>\n",
       "      <td>-123.3749</td>\n",
       "      <td>0.009</td>\n",
       "      <td>https://wildfiresituation.nrs.gov.bc.ca/incide...</td>\n",
       "      <td>POINT (-123.37487 53.78777)</td>\n",
       "      <td>274.0</td>\n",
       "      <td>21</td>\n",
       "      <td>92</td>\n",
       "      <td>Westlake</td>\n",
       "      <td>103031.0</td>\n",
       "      <td>2.756403e+09</td>\n",
       "      <td>6.465145e+05</td>\n",
       "    </tr>\n",
       "    <tr>\n",
       "      <th>3</th>\n",
       "      <td>V32102</td>\n",
       "      <td>2024</td>\n",
       "      <td>Full</td>\n",
       "      <td>20240811162738</td>\n",
       "      <td>20240815101700</td>\n",
       "      <td>Out</td>\n",
       "      <td>Person</td>\n",
       "      <td>Lovely Water Lake</td>\n",
       "      <td>49.7852</td>\n",
       "      <td>-123.2513</td>\n",
       "      <td>0.200</td>\n",
       "      <td>https://wildfiresituation.nrs.gov.bc.ca/incide...</td>\n",
       "      <td>POINT (-123.25127 49.78520)</td>\n",
       "      <td>NaN</td>\n",
       "      <td>NaN</td>\n",
       "      <td>NaN</td>\n",
       "      <td>N/A</td>\n",
       "      <td>NaN</td>\n",
       "      <td>NaN</td>\n",
       "      <td>NaN</td>\n",
       "    </tr>\n",
       "    <tr>\n",
       "      <th>4</th>\n",
       "      <td>V10959</td>\n",
       "      <td>2024</td>\n",
       "      <td>Full</td>\n",
       "      <td>20240715050013</td>\n",
       "      <td>20240718131951</td>\n",
       "      <td>Out</td>\n",
       "      <td>Person</td>\n",
       "      <td>NW of Wahleach Lake</td>\n",
       "      <td>49.2762</td>\n",
       "      <td>-121.6708</td>\n",
       "      <td>1.000</td>\n",
       "      <td>https://wildfiresituation.nrs.gov.bc.ca/incide...</td>\n",
       "      <td>POINT (-121.67079 49.27619)</td>\n",
       "      <td>NaN</td>\n",
       "      <td>NaN</td>\n",
       "      <td>NaN</td>\n",
       "      <td>N/A</td>\n",
       "      <td>NaN</td>\n",
       "      <td>NaN</td>\n",
       "      <td>NaN</td>\n",
       "    </tr>\n",
       "    <tr>\n",
       "      <th>...</th>\n",
       "      <td>...</td>\n",
       "      <td>...</td>\n",
       "      <td>...</td>\n",
       "      <td>...</td>\n",
       "      <td>...</td>\n",
       "      <td>...</td>\n",
       "      <td>...</td>\n",
       "      <td>...</td>\n",
       "      <td>...</td>\n",
       "      <td>...</td>\n",
       "      <td>...</td>\n",
       "      <td>...</td>\n",
       "      <td>...</td>\n",
       "      <td>...</td>\n",
       "      <td>...</td>\n",
       "      <td>...</td>\n",
       "      <td>...</td>\n",
       "      <td>...</td>\n",
       "      <td>...</td>\n",
       "      <td>...</td>\n",
       "    </tr>\n",
       "    <tr>\n",
       "      <th>1595</th>\n",
       "      <td>C10838</td>\n",
       "      <td>2024</td>\n",
       "      <td>Full</td>\n",
       "      <td>20240709221332</td>\n",
       "      <td>20240713161946</td>\n",
       "      <td>Out</td>\n",
       "      <td>Lightning</td>\n",
       "      <td>17.1km NW of Cariboo Lake</td>\n",
       "      <td>52.8206</td>\n",
       "      <td>-121.6312</td>\n",
       "      <td>1.100</td>\n",
       "      <td>https://wildfiresituation.nrs.gov.bc.ca/incide...</td>\n",
       "      <td>POINT (-121.63122 52.82055)</td>\n",
       "      <td>107.0</td>\n",
       "      <td>2007</td>\n",
       "      <td>44</td>\n",
       "      <td>Cottonwood</td>\n",
       "      <td>102953.0</td>\n",
       "      <td>1.960319e+09</td>\n",
       "      <td>2.976068e+05</td>\n",
       "    </tr>\n",
       "    <tr>\n",
       "      <th>1596</th>\n",
       "      <td>G90894</td>\n",
       "      <td>2024</td>\n",
       "      <td>Full</td>\n",
       "      <td>20240710192131</td>\n",
       "      <td>20240714081146</td>\n",
       "      <td>Out</td>\n",
       "      <td>Lightning</td>\n",
       "      <td>Kleeto Creek</td>\n",
       "      <td>58.8159</td>\n",
       "      <td>-123.8761</td>\n",
       "      <td>0.009</td>\n",
       "      <td>https://wildfiresituation.nrs.gov.bc.ca/incide...</td>\n",
       "      <td>POINT (-123.87613 58.81588)</td>\n",
       "      <td>33.0</td>\n",
       "      <td>2064</td>\n",
       "      <td>122</td>\n",
       "      <td>Fort Nelson</td>\n",
       "      <td>102880.0</td>\n",
       "      <td>1.874641e+10</td>\n",
       "      <td>1.173884e+06</td>\n",
       "    </tr>\n",
       "    <tr>\n",
       "      <th>1597</th>\n",
       "      <td>V31864</td>\n",
       "      <td>2024</td>\n",
       "      <td>NaN</td>\n",
       "      <td>20240806151716</td>\n",
       "      <td>NaN</td>\n",
       "      <td>Being Held</td>\n",
       "      <td>Lightning</td>\n",
       "      <td>Petersen Creek</td>\n",
       "      <td>50.4283</td>\n",
       "      <td>-123.0905</td>\n",
       "      <td>5.000</td>\n",
       "      <td>https://wildfiresituation.nrs.gov.bc.ca/incide...</td>\n",
       "      <td>POINT (-123.09047 50.42828)</td>\n",
       "      <td>202.0</td>\n",
       "      <td>361</td>\n",
       "      <td>119</td>\n",
       "      <td>Soo</td>\n",
       "      <td>103061.0</td>\n",
       "      <td>5.230050e+09</td>\n",
       "      <td>1.019587e+06</td>\n",
       "    </tr>\n",
       "    <tr>\n",
       "      <th>1598</th>\n",
       "      <td>K41111</td>\n",
       "      <td>2024</td>\n",
       "      <td>NaN</td>\n",
       "      <td>20240718134758</td>\n",
       "      <td>NaN</td>\n",
       "      <td>Under Control</td>\n",
       "      <td>Lightning</td>\n",
       "      <td>Outlet Creek FSR</td>\n",
       "      <td>50.3258</td>\n",
       "      <td>-118.3487</td>\n",
       "      <td>21.000</td>\n",
       "      <td>https://wildfiresituation.nrs.gov.bc.ca/incide...</td>\n",
       "      <td>POINT (-118.34874 50.32577)</td>\n",
       "      <td>235.0</td>\n",
       "      <td>145</td>\n",
       "      <td>88</td>\n",
       "      <td>Spallumcheen</td>\n",
       "      <td>103073.0</td>\n",
       "      <td>3.624108e+09</td>\n",
       "      <td>7.763440e+05</td>\n",
       "    </tr>\n",
       "    <tr>\n",
       "      <th>1599</th>\n",
       "      <td>C41417</td>\n",
       "      <td>2024</td>\n",
       "      <td>Full</td>\n",
       "      <td>20240722181137</td>\n",
       "      <td>20240724210155</td>\n",
       "      <td>Out</td>\n",
       "      <td>Unknown</td>\n",
       "      <td>W of Lac Des Roches</td>\n",
       "      <td>51.4959</td>\n",
       "      <td>-120.6186</td>\n",
       "      <td>0.009</td>\n",
       "      <td>https://wildfiresituation.nrs.gov.bc.ca/incide...</td>\n",
       "      <td>POINT (-120.61855 51.49592)</td>\n",
       "      <td>292.0</td>\n",
       "      <td>2168</td>\n",
       "      <td>104</td>\n",
       "      <td>Lac La Hache</td>\n",
       "      <td>103049.0</td>\n",
       "      <td>7.462096e+09</td>\n",
       "      <td>6.874360e+05</td>\n",
       "    </tr>\n",
       "  </tbody>\n",
       "</table>\n",
       "<p>1710 rows × 20 columns</p>\n",
       "</div>"
      ],
      "text/plain": [
       "     FIRE_NO  FIRE_YEAR RSPNS_TYPC        IGN_DATE        FR_T_DTE  \\\n",
       "0     C41494       2024       Full  20240722192118  20240723195709   \n",
       "1     N71052       2024       Full  20240717190017  20240722162310   \n",
       "2     G11274       2024       Full  20240719160000  20240720130429   \n",
       "3     V32102       2024       Full  20240811162738  20240815101700   \n",
       "4     V10959       2024       Full  20240715050013  20240718131951   \n",
       "...      ...        ...        ...             ...             ...   \n",
       "1595  C10838       2024       Full  20240709221332  20240713161946   \n",
       "1596  G90894       2024       Full  20240710192131  20240714081146   \n",
       "1597  V31864       2024        NaN  20240806151716             NaN   \n",
       "1598  K41111       2024        NaN  20240718134758             NaN   \n",
       "1599  C41417       2024       Full  20240722181137  20240724210155   \n",
       "\n",
       "         FIRESTATUS FIRE_CAUSE                   GEO_DESC  LATITUDE  \\\n",
       "0               Out  Lightning            E of Keith Lake   51.5341   \n",
       "1               Out  Lightning          Upper Sandy Creek   49.4354   \n",
       "2               Out  Lightning                Norman Lake   53.7878   \n",
       "3               Out     Person          Lovely Water Lake   49.7852   \n",
       "4               Out     Person        NW of Wahleach Lake   49.2762   \n",
       "...             ...        ...                        ...       ...   \n",
       "1595            Out  Lightning  17.1km NW of Cariboo Lake   52.8206   \n",
       "1596            Out  Lightning               Kleeto Creek   58.8159   \n",
       "1597     Being Held  Lightning             Petersen Creek   50.4283   \n",
       "1598  Under Control  Lightning           Outlet Creek FSR   50.3258   \n",
       "1599            Out    Unknown        W of Lac Des Roches   51.4959   \n",
       "\n",
       "      LONGITUDE  SIZE_HA                                           FIRE_URL  \\\n",
       "0     -121.3162    0.009  https://wildfiresituation.nrs.gov.bc.ca/incide...   \n",
       "1     -117.3562    0.300  https://wildfiresituation.nrs.gov.bc.ca/incide...   \n",
       "2     -123.3749    0.009  https://wildfiresituation.nrs.gov.bc.ca/incide...   \n",
       "3     -123.2513    0.200  https://wildfiresituation.nrs.gov.bc.ca/incide...   \n",
       "4     -121.6708    1.000  https://wildfiresituation.nrs.gov.bc.ca/incide...   \n",
       "...         ...      ...                                                ...   \n",
       "1595  -121.6312    1.100  https://wildfiresituation.nrs.gov.bc.ca/incide...   \n",
       "1596  -123.8761    0.009  https://wildfiresituation.nrs.gov.bc.ca/incide...   \n",
       "1597  -123.0905    5.000  https://wildfiresituation.nrs.gov.bc.ca/incide...   \n",
       "1598  -118.3487   21.000  https://wildfiresituation.nrs.gov.bc.ca/incide...   \n",
       "1599  -120.6186    0.009  https://wildfiresituation.nrs.gov.bc.ca/incide...   \n",
       "\n",
       "                         geometry  index_right FEATURE_ID PRV_FRST_D  \\\n",
       "0     POINT (-121.31618 51.53405)        292.0       2168        104   \n",
       "1     POINT (-117.35617 49.43542)          7.0       2091         56   \n",
       "2     POINT (-123.37487 53.78777)        274.0         21         92   \n",
       "3     POINT (-123.25127 49.78520)          NaN        NaN        NaN   \n",
       "4     POINT (-121.67079 49.27619)          NaN        NaN        NaN   \n",
       "...                           ...          ...        ...        ...   \n",
       "1595  POINT (-121.63122 52.82055)        107.0       2007         44   \n",
       "1596  POINT (-123.87613 58.81588)         33.0       2064        122   \n",
       "1597  POINT (-123.09047 50.42828)        202.0        361        119   \n",
       "1598  POINT (-118.34874 50.32577)        235.0        145         88   \n",
       "1599  POINT (-120.61855 51.49592)        292.0       2168        104   \n",
       "\n",
       "        PRV_FRST_N  OBJECTID      AREA_SQM      FEAT_LEN  \n",
       "0     Lac La Hache  103049.0  7.462096e+09  6.874360e+05  \n",
       "1          Lardeau  102816.0  1.426446e+09  3.002559e+05  \n",
       "2         Westlake  103031.0  2.756403e+09  6.465145e+05  \n",
       "3              N/A       NaN           NaN           NaN  \n",
       "4              N/A       NaN           NaN           NaN  \n",
       "...            ...       ...           ...           ...  \n",
       "1595    Cottonwood  102953.0  1.960319e+09  2.976068e+05  \n",
       "1596   Fort Nelson  102880.0  1.874641e+10  1.173884e+06  \n",
       "1597           Soo  103061.0  5.230050e+09  1.019587e+06  \n",
       "1598  Spallumcheen  103073.0  3.624108e+09  7.763440e+05  \n",
       "1599  Lac La Hache  103049.0  7.462096e+09  6.874360e+05  \n",
       "\n",
       "[1710 rows x 20 columns]"
      ]
     },
     "execution_count": 24,
     "metadata": {},
     "output_type": "execute_result"
    }
   ],
   "source": [
    "# Assuming forest_data_cleaned and wildfire_data are already loaded\n",
    "# Ensure both GeoDataFrames use the same CRS (coordinate reference system)\n",
    "wildfire_data_cleaned = wildfire_data_cleaned.to_crs(forest_data_cleaned.crs)\n",
    "\n",
    "# Spatial join: match wildfire points with forest polygons\n",
    "wildfire_in_forest = gpd.sjoin(wildfire_data_cleaned, forest_data_cleaned, how=\"left\", predicate=\"within\")\n",
    "\n",
    "# Add a column for wildfires that are not within any forest (assign 'N/A')\n",
    "wildfire_in_forest['PRV_FRST_N'] = wildfire_in_forest['PRV_FRST_N'].fillna('N/A')\n",
    "wildfire_in_forest"
   ]
  },
  {
   "cell_type": "code",
   "execution_count": null,
   "metadata": {},
   "outputs": [],
   "source": [
    "\n",
    "# Count the number of wildfires per forest\n",
    "wildfire_counts = wildfire_in_forest.groupby('PRV_FRST_N').size().reset_index(name='wildfire_count')\n",
    "\n",
    "# Merge the count back to the wildfire DataFrame (optional)\n",
    "wildfire_with_forest = wildfire_in_forest.merge(wildfire_counts, on='PRV_FRST_N', how='left')\n",
    "\n",
    "# Display the resulting DataFrame\n",
    "print(wildfire_with_forest[['FIRE_NO', 'PRV_FRST_N', 'wildfire_count']].head())\n"
   ]
  }
 ],
 "metadata": {
  "kernelspec": {
   "display_name": "mds574",
   "language": "python",
   "name": "python3"
  },
  "language_info": {
   "codemirror_mode": {
    "name": "ipython",
    "version": 3
   },
   "file_extension": ".py",
   "mimetype": "text/x-python",
   "name": "python",
   "nbconvert_exporter": "python",
   "pygments_lexer": "ipython3",
   "version": "3.10.9"
  }
 },
 "nbformat": 4,
 "nbformat_minor": 2
}
