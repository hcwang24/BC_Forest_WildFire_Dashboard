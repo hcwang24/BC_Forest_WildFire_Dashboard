{
 "cells": [
  {
   "cell_type": "code",
   "execution_count": 1,
   "metadata": {},
   "outputs": [],
   "source": [
    "import rasterio\n",
    "import keplergl\n",
    "import numpy as np\n",
    "import osmnx as ox\n",
    "import pandas as pd\n",
    "import geopandas as gpd\n",
    "import matplotlib.pyplot as plt\n",
    "import folium\n",
    "import matplotlib\n",
    "import mapclassify\n",
    "import json\n",
    "import base64\n",
    "import IPython\n",
    "import plotly.express as px\n",
    "\n",
    "\n",
    "plt.style.use('ggplot')\n",
    "plt.rcParams.update({'font.size': 16, 'axes.labelweight': 'bold', 'figure.figsize': (6, 6), 'axes.edgecolor': '0.2'})"
   ]
  },
  {
   "cell_type": "code",
   "execution_count": 2,
   "metadata": {},
   "outputs": [],
   "source": [
    "import geopandas as gpd"
   ]
  },
  {
   "cell_type": "code",
   "execution_count": null,
   "metadata": {},
   "outputs": [],
   "source": [
    "# Loading date\n",
    "forest_data = gpd.read_file(\"data/FADM_PROV_FOREST\")\n",
    "forest_data = forest_data.to_crs(\"EPSG:4326\")    # I'm converting to a different coordinate reference system\n",
    "forest_data.head()"
   ]
  },
  {
   "cell_type": "code",
   "execution_count": null,
   "metadata": {},
   "outputs": [],
   "source": [
    "type(forest_data)\n",
    "forest_data.info()"
   ]
  },
  {
   "cell_type": "code",
   "execution_count": null,
   "metadata": {},
   "outputs": [],
   "source": [
    "# Drop columns with all NaN values\n",
    "forest_data_cleaned = forest_data.dropna(axis=1, how='all')\n",
    "\n",
    "# Drop the specified columns\n",
    "columns_to_drop = ['MP_BLCK_ID', 'EFF_DATE', 'RETRMNT_DT', 'FC_SKEY', 'OBJ_V_SKEY']\n",
    "forest_data_cleaned = forest_data_cleaned.drop(columns=columns_to_drop)\n",
    "\n",
    "forest_data_cleaned"
   ]
  },
  {
   "cell_type": "code",
   "execution_count": null,
   "metadata": {},
   "outputs": [],
   "source": [
    "forest_data_cleaned.info()"
   ]
  },
  {
   "cell_type": "code",
   "execution_count": null,
   "metadata": {},
   "outputs": [],
   "source": [
    "# Take a look at an example. The Kitimat Forest in BC. \n",
    "name = forest_data.iloc[0][\"PRV_FRST_N\"]\n",
    "forest_data.iloc[[0]].plot(edgecolor=\"0.2\", figsize=(10, 8), color = \"green\")\n",
    "plt.title(name);"
   ]
  },
  {
   "cell_type": "markdown",
   "metadata": {},
   "source": [
    "# 1. Basic Spatial Exploration"
   ]
  },
  {
   "cell_type": "code",
   "execution_count": null,
   "metadata": {},
   "outputs": [],
   "source": [
    "# Take a look at the entire forest map.\n",
    "forest_data.plot(edgecolor=\"0.2\", figsize=(10, 8), color =\"green\")\n",
    "plt.title(\"Forests in British Columbia\");"
   ]
  },
  {
   "cell_type": "markdown",
   "metadata": {},
   "source": [
    "# 2. Forest Area Analysis"
   ]
  },
  {
   "cell_type": "code",
   "execution_count": null,
   "metadata": {},
   "outputs": [],
   "source": [
    "# Aggregate forest areas by region\n",
    "region_area = forest_data.groupby('PRV_FRST_N')['AREA_SQM'].sum().sort_values(ascending=True)\n",
    "region_area"
   ]
  },
  {
   "cell_type": "code",
   "execution_count": null,
   "metadata": {},
   "outputs": [],
   "source": [
    "# Convert the region_area Series to a DataFrame for easier plotting\n",
    "region_area_df = region_area.reset_index()\n",
    "\n",
    "# Create a horizontal bar plot using Plotly\n",
    "fig = px.bar(\n",
    "    region_area_df,\n",
    "    x='AREA_SQM',\n",
    "    y='PRV_FRST_N',\n",
    "    orientation='h',  # Horizontal bar chart\n",
    "    title='Total Forest Area by Region',\n",
    "    labels={'PRV_FRST_N': 'Forest Name', 'AREA_SQM': 'Area (square meters)'},\n",
    "    height=1200,  # Set height to accommodate all bars\n",
    ")\n",
    "\n",
    "# Customize the layout\n",
    "fig.update_layout(\n",
    "    xaxis_title=\"Area (square meters)\",\n",
    "    yaxis_title=\"Forest Name\",\n",
    "    font=dict(size=10),\n",
    "    margin={\"r\":0,\"t\":40,\"l\":0,\"b\":0}\n",
    ")\n",
    "\n",
    "# Show the figure\n",
    "fig.show()"
   ]
  },
  {
   "cell_type": "markdown",
   "metadata": {},
   "source": [
    "# 3. Create a base map for visualizing the polygons"
   ]
  },
  {
   "cell_type": "code",
   "execution_count": null,
   "metadata": {},
   "outputs": [],
   "source": [
    "fig = px.choropleth_mapbox(\n",
    "    forest_data_cleaned, \n",
    "    geojson=forest_data_cleaned.geometry, \n",
    "    locations=forest_data_cleaned.index,  # Use the index to bind the polygons\n",
    "    hover_name=\"PRV_FRST_N\",  # Show forest name on hover\n",
    "    hover_data=[\"FEATURE_ID\"],  # Additional data on hover\n",
    "    mapbox_style=\"open-street-map\",\n",
    "    zoom=4,\n",
    "    center={\"lat\": 53.7267, \"lon\": -127.6476},  # Center the map over British Columbia\n",
    "    opacity=0.5,\n",
    "    color_discrete_sequence=[\"green\"]  # Set a fixed color green for all polygons\n",
    ")\n",
    "\n",
    "# Update layout\n",
    "fig.update_layout(\n",
    "    mapbox_accesstoken='your-mapbox-access-token-here',  # Optional: Use your Mapbox token for better styles\n",
    "    title=\"Forest Data Visualization in BC\",\n",
    "    margin={\"r\":0,\"t\":0,\"l\":0,\"b\":0}\n",
    ")\n",
    "\n",
    "# Show the figure\n",
    "fig.show()"
   ]
  },
  {
   "cell_type": "markdown",
   "metadata": {},
   "source": [
    "# 4. Simplify the Geo data for quickly loading and visualization. "
   ]
  },
  {
   "cell_type": "code",
   "execution_count": null,
   "metadata": {},
   "outputs": [],
   "source": [
    "import geopandas as gpd\n",
    "from shapely.geometry import Polygon\n",
    "\n",
    "# Function to simplify geometries\n",
    "def simplify_geometry(geom, tolerance=0.01):\n",
    "    if geom.is_empty:\n",
    "        return geom\n",
    "    return geom.simplify(tolerance)\n",
    "\n",
    "# Simplify geometries\n",
    "forest_data_cleaned['geometry'] = forest_data_cleaned['geometry'].apply(lambda geom: simplify_geometry(geom, tolerance=0.01))\n",
    "\n",
    "# Save the simplified GeoDataFrame to a file\n",
    "forest_data_cleaned.to_file(\"data/FADM_PROV_FOREST_simplified.geojson\", driver=\"GeoJSON\")\n",
    "\n",
    "print(\"Simplified data saved successfully.\")"
   ]
  },
  {
   "cell_type": "code",
   "execution_count": null,
   "metadata": {},
   "outputs": [],
   "source": [
    "forest_data_cleaned"
   ]
  },
  {
   "cell_type": "code",
   "execution_count": null,
   "metadata": {},
   "outputs": [],
   "source": [
    "\n",
    "simplified_fig = px.choropleth_mapbox(\n",
    "    forest_data_cleaned, \n",
    "    geojson=forest_data_cleaned.geometry, \n",
    "    locations=forest_data_cleaned.index,  # Use the index to bind the polygons\n",
    "    hover_name=\"PRV_FRST_N\",  # Show forest name on hover\n",
    "    hover_data=[\"FEATURE_ID\"],  # Additional data on hover\n",
    "    mapbox_style=\"open-street-map\",\n",
    "    zoom=4,\n",
    "    center={\"lat\": 53.7267, \"lon\": -127.6476},  # Center the map over British Columbia\n",
    "    opacity=0.5,\n",
    "    color_discrete_sequence=[\"green\"]  # Set a fixed color green for all polygons\n",
    ")\n",
    "\n",
    "# Update layout\n",
    "simplified_fig.update_layout(\n",
    "    mapbox_accesstoken='your-mapbox-access-token-here',  # Optional: Use your Mapbox token for better styles\n",
    "    title=\"Forest Data Visualization in BC\",\n",
    "    margin={\"r\":0,\"t\":0,\"l\":0,\"b\":0}\n",
    ")\n",
    "\n",
    "# Show the figure\n",
    "simplified_fig.show()"
   ]
  },
  {
   "cell_type": "markdown",
   "metadata": {},
   "source": [
    "# Loading the 2024 BC wildfire data"
   ]
  },
  {
   "cell_type": "code",
   "execution_count": null,
   "metadata": {},
   "outputs": [],
   "source": [
    "# Loading date\n",
    "wildfire_data = gpd.read_file(\"data/PROT_CURRENT_FIRE_PNTS_SP\")\n",
    "wildfire_data = wildfire_data.to_crs(\"EPSG:4326\")\n",
    "wildfire_data.head()"
   ]
  },
  {
   "cell_type": "code",
   "execution_count": null,
   "metadata": {},
   "outputs": [],
   "source": [
    "# Wildfires by year\n",
    "wildfires_by_year = wildfire_data['FIRE_YEAR'].value_counts().sort_index()\n",
    "wildfires_by_year.plot(kind='bar', title='Number of Wildfires by Year')\n",
    "plt.ylabel('Number of Wildfires')\n",
    "plt.show()"
   ]
  },
  {
   "cell_type": "code",
   "execution_count": null,
   "metadata": {},
   "outputs": [],
   "source": [
    "# Wildfires by cause\n",
    "wildfires_by_cause = wildfire_data['FIRE_CAUSE'].value_counts()\n",
    "wildfires_by_cause.plot(kind='bar', title='Number of Wildfires by Cause')\n",
    "plt.ylabel('Number of Wildfires')\n",
    "plt.show()"
   ]
  },
  {
   "cell_type": "code",
   "execution_count": null,
   "metadata": {},
   "outputs": [],
   "source": [
    "# Take a look at the entire forest map.\n",
    "wildfire_data.plot(edgecolor=\"0.2\", figsize=(10, 8), color =\"green\")\n",
    "plt.title(\"Wildfires in British Columbia in 2023 and 2024\");"
   ]
  },
  {
   "cell_type": "code",
   "execution_count": null,
   "metadata": {},
   "outputs": [],
   "source": [
    "filtered_data = wildfire_data\n",
    "\n",
    "#filtered_data['Normalized_Size'] = filtered_data['SIZE_HA'] * 1000000000000/filtered_data['SIZE_HA'].max()\n",
    "\n",
    "map_fig = px.scatter_mapbox(filtered_data,\n",
    "                                lat=\"LATITUDE\", lon=\"LONGITUDE\",\n",
    "                                #size=\"Normalized_Size\",\n",
    "                                color=\"FIRESTATUS\",\n",
    "                                hover_name=\"FIRE_NO\",\n",
    "                                hover_data={\"SIZE_HA\": True, \"FIRESTATUS\": True},\n",
    "                                zoom=5,\n",
    "                                height=500)\n",
    "\n",
    "# Add forest data overlay\n",
    "map_fig.add_trace(px.choropleth_mapbox(forest_data,\n",
    "                                           geojson=forest_data.geometry,\n",
    "                                           locations=forest_data.index,\n",
    "                                           featureidkey=\"properties.FEATURE_ID\",\n",
    "                                           hover_name=\"PRV_FRST_N\").data[0])\n",
    "\n",
    "map_fig.update_layout(mapbox_style=\"open-street-map\")\n",
    "map_fig.update_layout(margin={\"r\":0,\"t\":0,\"l\":0,\"b\":0})\n",
    "\n",
    "map_fig"
   ]
  },
  {
   "cell_type": "code",
   "execution_count": null,
   "metadata": {},
   "outputs": [],
   "source": []
  }
 ],
 "metadata": {
  "kernelspec": {
   "display_name": "mds574",
   "language": "python",
   "name": "python3"
  },
  "language_info": {
   "codemirror_mode": {
    "name": "ipython",
    "version": 3
   },
   "file_extension": ".py",
   "mimetype": "text/x-python",
   "name": "python",
   "nbconvert_exporter": "python",
   "pygments_lexer": "ipython3",
   "version": "3.10.9"
  }
 },
 "nbformat": 4,
 "nbformat_minor": 2
}
